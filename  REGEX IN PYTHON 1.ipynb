{
 "cells": [
  {
   "cell_type": "markdown",
   "id": "b0d6ff9d-c853-4d5e-a65f-6f5341014c76",
   "metadata": {},
   "source": [
    "### 1. What exactly is a Regular Expression?\n",
    "\n",
    "A regular expression, often called a pattern, is an expression used to specify a set of strings required for a particular purpose.\n",
    "\n",
    "A simple way to specify a finite set of strings is to list its elements or members.\n",
    "For example {file, file1, file2}.\n",
    "\n",
    "However, there are often more concise ways to specify the desired set of strings.\n",
    "For example, the set {file, file1, file2} can be specified by the pattern file(1|2)?.\n",
    "We say that this pattern matches each of the three strings. Wanna check?\n",
    "\n",
    "In most formalisms, if there exists at least one regular expression that matches a particular set then there exists an infinite number of other regular expressions that also match it, i.e. the specification is not unique.\n",
    "For example, the string set {file, file1, file2} can also be specified by the pattern file\\d?."
   ]
  },
  {
   "cell_type": "markdown",
   "id": "bd5a88ad-ac14-433d-9394-decc5012e1be",
   "metadata": {},
   "source": [
    "### 2. Uses of Regular Expressions\n",
    "\n",
    "Some important usages of regular expressions are:\n",
    "\n",
    "Check if an input honors a given pattern; for example, we can check whether a value entered in a HTML formulary is a valid e-mail address\n",
    "\n",
    "Look for a pattern appearance in a piece of text; for example, check if either the word \"color\" or the word \"colour\" appears in a document with just one scan\n",
    "\n",
    "Extract specific portions of a text; for example, extract the postal code of an address\n",
    "\n",
    "Replace portions of text; for example, change any appearance of \"color\" or \"colour\" with \"red\"\n",
    "\n",
    "Split a larger text into smaller pieces, for example, splitting a text by any appearance of the dot, comma, or newline characters"
   ]
  },
  {
   "cell_type": "markdown",
   "id": "20e509bc-5328-4bf0-a349-8d6215a1e071",
   "metadata": {},
   "source": [
    "A regex pattern is a simple sequence of characters. The components of a regex pattern are:\n",
    "\n",
    "literals (ordinary characters): these characters carry no special meaning and are processed as it is.\n",
    "\n",
    "metacharacters (special characters): these characters carry a special meaning and processed in some special way.\n",
    "\n",
    "\n",
    "### 3. Understanding the Regular Expression Syntax\n",
    "A regex pattern is a simple sequence of characters. The components of a regex pattern are:\n",
    "\n",
    "literals (ordinary characters): these characters carry no special meaning and are processed as it is.\n",
    "\n",
    "metacharacters (special characters): these characters carry a special meaning and processed in some special way.\n",
    "\n",
    "\n",
    "\n",
    "Let's start with a simple example.\n",
    "\n",
    "Consider that we have got the list of several filenames in a folder.\n",
    "\n",
    "file1.xml\n",
    "\n",
    "file1.txt\n",
    "\n",
    "file2.txt\n",
    "\n",
    "file15.xml\n",
    "\n",
    "file5.docx\n",
    "\n",
    "file60.txt\n",
    "\n",
    "file5.txt\n",
    "\n",
    "And we want to filter out only those filenames which follow a specific pattern, i.e. file<one or more digits>.txt.\n",
    "\n",
    "Let's try to do this on an online tool to learn, build, & test Regular Expressions (RegEx / RegExp), RegExr.\n",
    "\n",
    "So, the regular expression we need here is:  file\\d+\\.txt\n",
    "\n",
    "This expression can be understood as follows:\n",
    "\n",
    "file is a substring of literals which are matched with the input as it is.\n",
    "\n",
    "\\d is a metacharacter which instructs the software to match this position with a digit (0-9).\n",
    "\n",
    "+is also a metacharacter which instructs the software to match one or more iterations of the preceeding character (\\d in this case)\n",
    "\n",
    "  \" \\ . \" is a literal. . is a metacharacter but we want to use it as a literal in this case. Hence, we escape it using \\ character.\n",
    "\n",
    "txt is a substring of literals which are matched with the input as it is."
   ]
  },
  {
   "cell_type": "code",
   "execution_count": 1,
   "id": "d995d844-5465-4a25-ac65-d90c4e8f6395",
   "metadata": {},
   "outputs": [],
   "source": [
    "import re"
   ]
  },
  {
   "cell_type": "markdown",
   "id": "bba3d39d-cfb7-427a-b3a8-d5837c2dbd18",
   "metadata": {},
   "source": [
    "## 1. Compiling Regular Expressions\r\n",
    "Regular expressions are compiled into Pattern objects, which have methods for various operations such as searching for pattern matches or performing string substitutions."
   ]
  },
  {
   "cell_type": "markdown",
   "id": "4de296c9-122a-4eae-b008-17fa638a8227",
   "metadata": {},
   "source": [
    "re.compile(pattern, flags=0)"
   ]
  },
  {
   "cell_type": "markdown",
   "id": "5115fa49-0e47-4f0f-a570-a42e6c7a99d1",
   "metadata": {},
   "source": [
    "The regular expression is passed to re.compile() as a string.\r\n",
    "Regular expressions are handled as strings because regular expressions aren’t part of the core Python language, and no special syntax was created for expressing them."
   ]
  },
  {
   "cell_type": "code",
   "execution_count": 2,
   "id": "d3da2847-fbac-419b-93e4-9f517ffedae3",
   "metadata": {},
   "outputs": [],
   "source": [
    "pattern =  re.compile(\"hello\")"
   ]
  },
  {
   "cell_type": "code",
   "execution_count": 4,
   "id": "b717c27b-5f9e-452b-99c3-21f0fe63a34e",
   "metadata": {},
   "outputs": [
    {
     "data": {
      "text/plain": [
       "re.compile(r'hello', re.UNICODE)"
      ]
     },
     "execution_count": 4,
     "metadata": {},
     "output_type": "execute_result"
    }
   ],
   "source": [
    "pattern"
   ]
  },
  {
   "cell_type": "code",
   "execution_count": 5,
   "id": "0741f87a-e3aa-4e69-b179-fa5177d91d18",
   "metadata": {},
   "outputs": [
    {
     "data": {
      "text/plain": [
       "re.Pattern"
      ]
     },
     "execution_count": 5,
     "metadata": {},
     "output_type": "execute_result"
    }
   ],
   "source": [
    "type(pattern)"
   ]
  },
  {
   "cell_type": "code",
   "execution_count": 8,
   "id": "dee09c8c-e95f-4c01-8a29-ca4fad92820f",
   "metadata": {},
   "outputs": [],
   "source": [
    "pattern = re.compile(\"hello\", flags=re.I)"
   ]
  },
  {
   "cell_type": "code",
   "execution_count": 9,
   "id": "ffab628b-df69-476c-8c74-a2d98b8db4cb",
   "metadata": {},
   "outputs": [
    {
     "data": {
      "text/plain": [
       "re.compile(r'hello', re.IGNORECASE|re.UNICODE)"
      ]
     },
     "execution_count": 9,
     "metadata": {},
     "output_type": "execute_result"
    }
   ],
   "source": [
    "pattern"
   ]
  },
  {
   "cell_type": "markdown",
   "id": "e5dc74a8-f970-429a-8bca-9f926fa61fa7",
   "metadata": {},
   "source": [
    "## 2.Performing Matches\r\n",
    "So, we have created a Pattern object representing a compiled regular expression using re.compile() method.\r\n",
    "\r\n",
    "Pattern objects have several methods and attributes."
   ]
  },
  {
   "cell_type": "markdown",
   "id": "a6478aaf-e010-4e7c-918b-ae3bf1b987a4",
   "metadata": {},
   "source": [
    "Here is the list of different methods used for performing matches:\n",
    "\n",
    "\n",
    "\n",
    "match()\t -   Determine if the RE matches at the beginning of the string.\n",
    "\n",
    "search() - \tScan through a string, looking for any location where this RE matches.\n",
    "\n",
    "findall() - Find all substrings where the RE matches, and returns them as a list.\n",
    "\n",
    "finditer() - Find all substrings where the RE matches, and returns them as an iterator."
   ]
  },
  {
   "cell_type": "code",
   "execution_count": 10,
   "id": "e4d7c4a9-676c-4305-a55d-7d6c20eefa66",
   "metadata": {},
   "outputs": [],
   "source": [
    "pattern = re.compile(\"hello\")\n",
    "match = pattern.match(\"hello world\")"
   ]
  },
  {
   "cell_type": "code",
   "execution_count": 11,
   "id": "c2a33eb5-a966-43e0-94d4-adaca14bd2cb",
   "metadata": {},
   "outputs": [
    {
     "data": {
      "text/plain": [
       "re.Match"
      ]
     },
     "execution_count": 11,
     "metadata": {},
     "output_type": "execute_result"
    }
   ],
   "source": [
    "type(match)"
   ]
  },
  {
   "cell_type": "code",
   "execution_count": 12,
   "id": "715958a6-15f8-493c-9541-a9d6b5517554",
   "metadata": {},
   "outputs": [
    {
     "data": {
      "text/plain": [
       "(0, 5)"
      ]
     },
     "execution_count": 12,
     "metadata": {},
     "output_type": "execute_result"
    }
   ],
   "source": [
    "match.span()"
   ]
  },
  {
   "cell_type": "markdown",
   "id": "e85e235b-e62d-4234-afde-e86f980b23d5",
   "metadata": {},
   "source": [
    "match(string[, pos[, endpos]])\n",
    "\n",
    "A match is checked only at the beginning (by default).\n",
    "\n",
    "Checking starts from pos index of the string. (default is 0)\n",
    "\n",
    "Checking is done until endpos index of string. endpos is set as a very large integer (by default).\n",
    "\n",
    "Returns None if no match found.\n",
    "\n",
    "If a match is found, a Match object is returned, containing information about the match: where it starts and ends, the substring it matched, and more."
   ]
  },
  {
   "cell_type": "code",
   "execution_count": 13,
   "id": "325a5773-7273-4074-97ff-2abe0a9cc538",
   "metadata": {},
   "outputs": [],
   "source": [
    "match = pattern.match(\"ello hello world\")"
   ]
  },
  {
   "cell_type": "code",
   "execution_count": 16,
   "id": "7234fa01-0036-43d0-991e-6775f6bb4e56",
   "metadata": {},
   "outputs": [
    {
     "data": {
      "text/plain": [
       "NoneType"
      ]
     },
     "execution_count": 16,
     "metadata": {},
     "output_type": "execute_result"
    }
   ],
   "source": [
    "type(match)"
   ]
  },
  {
   "cell_type": "code",
   "execution_count": 17,
   "id": "a940aba6-a052-4955-97ce-bcb0693084a1",
   "metadata": {},
   "outputs": [],
   "source": [
    "match = pattern.match(\"ello hello world\" , pos=5)"
   ]
  },
  {
   "cell_type": "code",
   "execution_count": 18,
   "id": "27f694a2-ca26-4c0b-ba36-1731c5775bc3",
   "metadata": {},
   "outputs": [
    {
     "data": {
      "text/plain": [
       "<re.Match object; span=(5, 10), match='hello'>"
      ]
     },
     "execution_count": 18,
     "metadata": {},
     "output_type": "execute_result"
    }
   ],
   "source": [
    "match"
   ]
  },
  {
   "cell_type": "code",
   "execution_count": 19,
   "id": "dca0b519-f254-46e5-ab10-50fe0e8a1b66",
   "metadata": {},
   "outputs": [
    {
     "data": {
      "text/plain": [
       "re.Match"
      ]
     },
     "execution_count": 19,
     "metadata": {},
     "output_type": "execute_result"
    }
   ],
   "source": [
    "type(match)"
   ]
  },
  {
   "cell_type": "code",
   "execution_count": 20,
   "id": "59ac8a17-77be-4e0d-b212-52937ef60f0e",
   "metadata": {},
   "outputs": [
    {
     "data": {
      "text/plain": [
       "10"
      ]
     },
     "execution_count": 20,
     "metadata": {},
     "output_type": "execute_result"
    }
   ],
   "source": [
    " match.end()"
   ]
  },
  {
   "cell_type": "code",
   "execution_count": 21,
   "id": "00fe1277-8699-4f7a-9a53-689ca003fb47",
   "metadata": {},
   "outputs": [
    {
     "data": {
      "text/plain": [
       "True"
      ]
     },
     "execution_count": 21,
     "metadata": {},
     "output_type": "execute_result"
    }
   ],
   "source": [
    "pattern.match(\"hello\", endpos=4) is None"
   ]
  },
  {
   "cell_type": "markdown",
   "id": "bd8bdda5-4b27-4de4-beca-3a9c6f452b20",
   "metadata": {},
   "source": [
    "\n",
    "search(string[, pos[, endpos]])\n",
    "\n",
    "A match is checked throughtout the string.\n",
    "\n",
    "Same behaviour of pos and endpos as the match() function.\n",
    "\n",
    "Returns None if no match found.\n",
    "\n",
    "If a match is found, a Match object is returned."
   ]
  },
  {
   "cell_type": "markdown",
   "id": "f4522d41-cff2-454f-b702-af1e368af90c",
   "metadata": {},
   "source": [
    "\n"
   ]
  },
  {
   "cell_type": "code",
   "execution_count": 23,
   "id": "c73098e4-fbbe-466b-9c7c-71af7e930a46",
   "metadata": {},
   "outputs": [
    {
     "data": {
      "text/plain": [
       "<re.Match object; span=(4, 9), match='hello'>"
      ]
     },
     "execution_count": 23,
     "metadata": {},
     "output_type": "execute_result"
    }
   ],
   "source": [
    "pattern.search(\"say hello\")"
   ]
  },
  {
   "cell_type": "code",
   "execution_count": 24,
   "id": "d2585fe1-dd13-4192-87d7-317c21086a73",
   "metadata": {},
   "outputs": [
    {
     "data": {
      "text/plain": [
       "<re.Match object; span=(4, 9), match='hello'>"
      ]
     },
     "execution_count": 24,
     "metadata": {},
     "output_type": "execute_result"
    }
   ],
   "source": [
    "\n",
    "pattern.search(\"say hello hello\")"
   ]
  },
  {
   "cell_type": "markdown",
   "id": "9579e2af-5a15-4687-bae2-c206b48f024a",
   "metadata": {},
   "source": [
    "\n",
    "findall(string[, pos[, endpos]])\n",
    "\n",
    "Finds all non-overlapping substrings where the match is found, and returns them as a list.\n",
    "\n",
    "Same behaviour of pos and endpos as the match() and search() function."
   ]
  },
  {
   "cell_type": "code",
   "execution_count": 26,
   "id": "099b044c-9d26-4b38-baeb-73e002712008",
   "metadata": {},
   "outputs": [
    {
     "data": {
      "text/plain": [
       "['hello', 'hello']"
      ]
     },
     "execution_count": 26,
     "metadata": {},
     "output_type": "execute_result"
    }
   ],
   "source": [
    "pattern.findall(\"say hello hello\")"
   ]
  },
  {
   "cell_type": "code",
   "execution_count": 27,
   "id": "4fa4480b-78d2-4688-8025-22429646140f",
   "metadata": {},
   "outputs": [],
   "source": [
    "pattern = re.compile(\"\\d\")"
   ]
  },
  {
   "cell_type": "code",
   "execution_count": 28,
   "id": "d3a8d854-f24b-419e-93c5-4fda5f35448f",
   "metadata": {},
   "outputs": [
    {
     "data": {
      "text/plain": [
       "['1', '2', '3', '4', '5', '5']"
      ]
     },
     "execution_count": 28,
     "metadata": {},
     "output_type": "execute_result"
    }
   ],
   "source": [
    "pattern.findall(\"1,2,3,4,5,5\")"
   ]
  },
  {
   "cell_type": "markdown",
   "id": "d3f60d96-3edb-4840-98ef-7be40193ec9b",
   "metadata": {},
   "source": [
    "finditer(string[, pos[, endpos]])\n",
    "\n",
    "Finds all non-overlapping substrings where the match is found, and returns them as an iterator of the Match objects.\n",
    "\n",
    "Same behaviour of pos and endpos as the match(), search() and findall() function."
   ]
  },
  {
   "cell_type": "code",
   "execution_count": 32,
   "id": "d7eb6a65-ace4-4be3-8ab7-32a0ed0e6866",
   "metadata": {},
   "outputs": [],
   "source": [
    "pattern =  re.compile(\"hello\")\n",
    "match_iter = pattern.finditer(\"say hello hello\")"
   ]
  },
  {
   "cell_type": "code",
   "execution_count": 33,
   "id": "57ce3c33-6569-4746-a76d-061c581c7e1f",
   "metadata": {},
   "outputs": [
    {
     "data": {
      "text/plain": [
       "callable_iterator"
      ]
     },
     "execution_count": 33,
     "metadata": {},
     "output_type": "execute_result"
    }
   ],
   "source": [
    "type(match_iter)"
   ]
  },
  {
   "cell_type": "code",
   "execution_count": 34,
   "id": "a388ddc6-a781-4441-9d92-2f3c29f6a359",
   "metadata": {},
   "outputs": [
    {
     "data": {
      "text/plain": [
       "<re.Match object; span=(4, 9), match='hello'>"
      ]
     },
     "execution_count": 34,
     "metadata": {},
     "output_type": "execute_result"
    }
   ],
   "source": [
    "next(match_iter)"
   ]
  },
  {
   "cell_type": "code",
   "execution_count": 35,
   "id": "92b6efdd-a80f-4cda-ad61-5e86da05f37c",
   "metadata": {},
   "outputs": [
    {
     "data": {
      "text/plain": [
       "<re.Match object; span=(10, 15), match='hello'>"
      ]
     },
     "execution_count": 35,
     "metadata": {},
     "output_type": "execute_result"
    }
   ],
   "source": [
    "next(match_iter)"
   ]
  },
  {
   "cell_type": "code",
   "execution_count": 36,
   "id": "7e80d3fe-2f16-42be-b0a5-20f8b20c94db",
   "metadata": {},
   "outputs": [
    {
     "ename": "StopIteration",
     "evalue": "",
     "output_type": "error",
     "traceback": [
      "\u001b[1;31m---------------------------------------------------------------------------\u001b[0m",
      "\u001b[1;31mStopIteration\u001b[0m                             Traceback (most recent call last)",
      "Cell \u001b[1;32mIn[36], line 1\u001b[0m\n\u001b[1;32m----> 1\u001b[0m \u001b[38;5;28mnext\u001b[39m(match_iter)\n",
      "\u001b[1;31mStopIteration\u001b[0m: "
     ]
    }
   ],
   "source": [
    "next(match_iter)"
   ]
  },
  {
   "cell_type": "code",
   "execution_count": 39,
   "id": "42bc2bfe-1899-467d-8707-ef053eeb139f",
   "metadata": {},
   "outputs": [
    {
     "name": "stdout",
     "output_type": "stream",
     "text": [
      "<re.Match object; span=(4, 9), match='hello'>\n",
      "<re.Match object; span=(10, 15), match='hello'>\n"
     ]
    }
   ],
   "source": [
    "matches = pattern.finditer(\"say hello hello\")\n",
    "for match in matches:\n",
    "    print(match)"
   ]
  },
  {
   "cell_type": "markdown",
   "id": "1bf3ff1c-78a9-4db9-8968-ec346c54965a",
   "metadata": {},
   "source": [
    "It is not mandatory to create a Pattern object explicitly using re.compile() method in order to perform a regex operation.\n",
    "\n",
    "You can direclty use the module level functions such as:\n",
    "\n",
    "re.match(pattern, string, flags=0)\n",
    "\n",
    "re.search(pattern, string, flags=0)\n",
    "\n",
    "re.findall(pattern, string, flags=0)\n",
    "\n",
    "re.finditer(pattern, string, flags=0)\n",
    "\n",
    "and so on.\n",
    "\n",
    "In a module level function, you can simply pass a string as your regex"
   ]
  },
  {
   "cell_type": "code",
   "execution_count": 40,
   "id": "ba0bcc1a-772e-4abc-b746-bc69efc7f221",
   "metadata": {},
   "outputs": [
    {
     "data": {
      "text/plain": [
       "<re.Match object; span=(0, 5), match='hello'>"
      ]
     },
     "execution_count": 40,
     "metadata": {},
     "output_type": "execute_result"
    }
   ],
   "source": [
    "\n",
    "re.match(\"hello\", \"hello\")"
   ]
  },
  {
   "cell_type": "code",
   "execution_count": 41,
   "id": "65075e72-f2de-4ada-b07a-a54ca074db04",
   "metadata": {},
   "outputs": [
    {
     "data": {
      "text/plain": [
       "['hello', 'hello']"
      ]
     },
     "execution_count": 41,
     "metadata": {},
     "output_type": "execute_result"
    }
   ],
   "source": [
    "\n",
    "re.findall(\"hello\", \"say hello hello\")"
   ]
  },
  {
   "cell_type": "code",
   "execution_count": 42,
   "id": "7f97ef96-41f4-4122-b774-51c91087d0fd",
   "metadata": {},
   "outputs": [],
   "source": [
    "\n",
    "txt = \"This book costs $15.\"\n",
    "\n",
    "pattern = re.compile(\"$15\")\n",
    "\n",
    "pattern.search(txt)"
   ]
  },
  {
   "cell_type": "markdown",
   "id": "88d80a06-1f2f-4d21-a419-eeec9d0d1b90",
   "metadata": {},
   "source": [
    "$ is a metacharacter and has a special meaning for regex engine. Here, we want to treat it like a literal.\n",
    "\n",
    "In order to treat a metacharacter like a literal, you need to escape it using \\ character."
   ]
  },
  {
   "cell_type": "code",
   "execution_count": 43,
   "id": "823385f7-286c-4ca1-a303-8bf639992510",
   "metadata": {},
   "outputs": [
    {
     "data": {
      "text/plain": [
       "<re.Match object; span=(16, 19), match='$15'>"
      ]
     },
     "execution_count": 43,
     "metadata": {},
     "output_type": "execute_result"
    }
   ],
   "source": [
    "pattern = re.compile(\"\\$15\")\n",
    "\n",
    "pattern.search(txt)"
   ]
  },
  {
   "cell_type": "markdown",
   "id": "6ec06975-4277-4b98-99f6-65e50c4e5f57",
   "metadata": {},
   "source": [
    "In regular expressions, there are twelve metacharacters that should be escaped if they are to be used with their literal meaning:\n",
    "\n",
    "Backslash \\\n",
    "\n",
    "Caret ^\n",
    "\n",
    "Dollar sign $\n",
    "\n",
    "Dot .\n",
    "\n",
    "Pipe symbol |\n",
    "\n",
    "Question mark ?\n",
    "\n",
    "Asterisk *\n",
    "\n",
    "Plus sign +\n",
    "\n",
    "Opening parenthesis (\n",
    "\n",
    "Closing parenthesis )\n",
    "\n",
    "Opening square bracket [\n",
    "\n",
    "The opening curly brace {\n"
   ]
  },
  {
   "cell_type": "code",
   "execution_count": null,
   "id": "4a8e5b03-54f1-4030-92d2-f0ac02690973",
   "metadata": {},
   "outputs": [],
   "source": []
  }
 ],
 "metadata": {
  "kernelspec": {
   "display_name": "Python 3 (ipykernel)",
   "language": "python",
   "name": "python3"
  },
  "language_info": {
   "codemirror_mode": {
    "name": "ipython",
    "version": 3
   },
   "file_extension": ".py",
   "mimetype": "text/x-python",
   "name": "python",
   "nbconvert_exporter": "python",
   "pygments_lexer": "ipython3",
   "version": "3.11.7"
  }
 },
 "nbformat": 4,
 "nbformat_minor": 5
}
