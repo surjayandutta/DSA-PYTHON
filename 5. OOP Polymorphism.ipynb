{
 "cells": [
  {
   "cell_type": "markdown",
   "id": "021e593a",
   "metadata": {},
   "source": [
    "\n",
    "# Polymorphism\n",
    "\n",
    "The word polymorphism means having many forms. In programming, polymorphism means the same function name (but different signatures) being used for different types. The key difference is the data types and number of arguments used in function."
   ]
  },
  {
   "cell_type": "code",
   "execution_count": 1,
   "id": "93272536",
   "metadata": {},
   "outputs": [
    {
     "name": "stdout",
     "output_type": "stream",
     "text": [
      "3\n",
      "10\n"
     ]
    }
   ],
   "source": [
    "students = ['Emma', 'Jessa', 'Kelly']\n",
    "school = 'ABC School'\n",
    "\n",
    "# calculate count\n",
    "print(len(students))\n",
    "print(len(school))"
   ]
  },
  {
   "cell_type": "markdown",
   "id": "02cabe26",
   "metadata": {},
   "source": [
    "The built-in function len() calculates the length of an object depending upon its type. If an object is a string, it returns the count of characters, and If an object is a list, it returns the count of items in a list.__The len() method treats an object as per its class type__ ."
   ]
  },
  {
   "cell_type": "code",
   "execution_count": 1,
   "id": "43d81b30",
   "metadata": {},
   "outputs": [
    {
     "name": "stdout",
     "output_type": "stream",
     "text": [
      "Truck\n",
      "Red\n",
      "------\n",
      "Car\n",
      "Black\n"
     ]
    }
   ],
   "source": [
    "class Tata():\n",
    "    def type(self):\n",
    "        print(\"Truck\")\n",
    "    def colour(self):\n",
    "        print(\"Red\")\n",
    "        \n",
    "class Mahindra():\n",
    "    def type(self):\n",
    "        print(\"Car\")\n",
    "    def colour(self):\n",
    "        print(\"Black\")\n",
    "        \n",
    "def func(obj):\n",
    "    obj.type()\n",
    "    obj.colour()\n",
    "    \n",
    "obj_tata = Tata()\n",
    "obj_mahindra=Mahindra()\n",
    "func(obj_tata)\n",
    "print(\"------\")\n",
    "func(obj_mahindra)"
   ]
  },
  {
   "cell_type": "markdown",
   "id": "2cc17c88",
   "metadata": {},
   "source": []
  },
  {
   "cell_type": "code",
   "execution_count": 6,
   "id": "7a39cd15",
   "metadata": {},
   "outputs": [
    {
     "name": "stdout",
     "output_type": "stream",
     "text": [
      "50,000 L\n",
      "Red\n",
      "------\n",
      "7 seater\n",
      "Black\n",
      "------\n"
     ]
    }
   ],
   "source": [
    "class Truck():\n",
    "    def capacity(self):\n",
    "        print(\"50,000 L\")\n",
    "    def color(self):\n",
    "        print(\"Red\")\n",
    "\n",
    "class Car():\n",
    "    def capacity(self):\n",
    "        print(\"7 seater\")\n",
    "    def color(self):\n",
    "        print(\"Black\")\n",
    "\n",
    "        \n",
    "obj_truck = Truck()\n",
    "obj_car = Car()\n",
    "for vehicle in (obj_truck, obj_car):\n",
    "    vehicle.capacity()\n",
    "    vehicle.color()\n",
    "    print(\"------\")"
   ]
  },
  {
   "cell_type": "markdown",
   "id": "1f8d5a2c",
   "metadata": {},
   "source": [
    "## Polymorphism and Inheritance"
   ]
  },
  {
   "cell_type": "code",
   "execution_count": 7,
   "id": "1e943b83",
   "metadata": {},
   "outputs": [
    {
     "name": "stdout",
     "output_type": "stream",
     "text": [
      "Details: Car x1 Red 20000\n",
      "Car max speed is 240\n",
      "Car change 7 gear\n",
      "Details: Truck x1 white 75000\n",
      "Vehicle max speed is 150\n",
      "Vehicle change 6 gear\n"
     ]
    }
   ],
   "source": [
    "class Vehicle:\n",
    "\n",
    "    def __init__(self, name, color, price):\n",
    "        self.name = name\n",
    "        self.color = color\n",
    "        self.price = price\n",
    "\n",
    "    def show(self):\n",
    "        print('Details:', self.name, self.color, self.price)\n",
    "\n",
    "    def max_speed(self):\n",
    "        print('Vehicle max speed is 150')\n",
    "\n",
    "    def change_gear(self):\n",
    "        print('Vehicle change 6 gear')\n",
    "\n",
    "\n",
    "# inherit from vehicle class\n",
    "class Car(Vehicle):\n",
    "    def max_speed(self):\n",
    "        print('Car max speed is 240')\n",
    "\n",
    "    def change_gear(self):\n",
    "        print('Car change 7 gear')\n",
    "\n",
    "\n",
    "# Car Object\n",
    "car = Car('Car x1', 'Red', 20000)\n",
    "car.show()\n",
    "# calls methods from Car class\n",
    "car.max_speed()\n",
    "car.change_gear()\n",
    "\n",
    "# Vehicle Object\n",
    "vehicle = Vehicle('Truck x1', 'white', 75000)\n",
    "vehicle.show()\n",
    "# calls method from a Vehicle class\n",
    "vehicle.max_speed()\n",
    "vehicle.change_gear()\n",
    "\n"
   ]
  },
  {
   "cell_type": "markdown",
   "id": "6288656f",
   "metadata": {},
   "source": [
    "As you can see, due to polymorphism, the Python interpreter recognizes that the max_speed() and change_gear() methods are overridden for the car object. So, it uses the one defined in the child class (Car)\n",
    "\n",
    "On the other hand, the show() method isn’t overridden in the Car class, so it is used from the Vehicle class."
   ]
  },
  {
   "cell_type": "code",
   "execution_count": 9,
   "id": "cedf94d1",
   "metadata": {},
   "outputs": [
    {
     "name": "stdout",
     "output_type": "stream",
     "text": [
      "We have different vehicles\n",
      "They have variation\n",
      "------\n",
      "We have different vehicles\n",
      "They are slower\n",
      "------\n",
      "We have different vehicles\n",
      "They are faster\n"
     ]
    }
   ],
   "source": [
    "class Vehicle():\n",
    "    def intro(self):\n",
    "        print(\"We have different vehicles\")\n",
    "    def speed(self):\n",
    "        print(\"They have variation\")\n",
    "        \n",
    "class Truck(Vehicle):\n",
    "    def speed(self):\n",
    "        print(\"They are slower\")\n",
    "        \n",
    "class Car(Vehicle):\n",
    "    def speed(self):\n",
    "        print(\"They are faster\")\n",
    "        \n",
    "obj_veh = Vehicle()\n",
    "obj_truck = Truck()\n",
    "obj_car = Car()\n",
    "\n",
    "obj_veh.intro()\n",
    "obj_veh.speed()\n",
    "print(\"------\")\n",
    "obj_truck.intro()\n",
    "obj_truck.speed()\n",
    "print(\"------\")\n",
    "obj_car.intro()\n",
    "obj_car.speed()\n",
    "\n"
   ]
  },
  {
   "cell_type": "markdown",
   "id": "01ce09ab",
   "metadata": {},
   "source": []
  },
  {
   "cell_type": "markdown",
   "id": "21c56c35",
   "metadata": {},
   "source": [
    "Python is a dynamically typed language. When declaring a variable in Python, you don’t specify a type for it . In Python, variables don’t associate with any particular types.\n",
    "Use the type() function to get the type of the objects which variables reference.\n",
    "\n",
    "#### In Python type of Variable is decided at run time."
   ]
  },
  {
   "cell_type": "markdown",
   "id": "73711137",
   "metadata": {},
   "source": [
    "## Duck Typing\n",
    "\n",
    "Duck Typing is a term commonly related to dynamically typed programming languages and polymorphism , where the type or the class of an object is less important than the method it defines. The idea behind this principle is that the code itself does not care about whether an object is a duck, but instead it does only care about whether it quacks.\n",
    "\n",
    "##### If it walks like a duck, and it quacks like a duck, then it must be a duck.\n",
    "\n",
    "\n",
    "The polymorphic behaviour is a core idea behind Python which is also a dynamically typed language. This means that it performs type checking at run-time as opposed to statically typed languages (such as Java) that perform it during compile-time.\n",
    "\n",
    "Additionally, in statically typed languages we must also declare the data type of the variable prior to its reference in the source code.Python itself automatically overloads some operators, such that they perform different actions depending on the type of built-in objects being processed.\n",
    "#### It is important to observe that we are not checking internally if the two objects are the same, but rather using known external behaviour to match the two objects."
   ]
  },
  {
   "cell_type": "code",
   "execution_count": 10,
   "id": "597119b8",
   "metadata": {},
   "outputs": [
    {
     "name": "stdout",
     "output_type": "stream",
     "text": [
      "I am a duck and I quack.\n",
      "I am a goose and I quack.\n"
     ]
    },
    {
     "ename": "AttributeError",
     "evalue": "'Cat' object has no attribute 'quack'",
     "output_type": "error",
     "traceback": [
      "\u001b[1;31m---------------------------------------------------------------------------\u001b[0m",
      "\u001b[1;31mAttributeError\u001b[0m                            Traceback (most recent call last)",
      "Cell \u001b[1;32mIn[10], line 17\u001b[0m\n\u001b[0;32m     15\u001b[0m quack(Duck())\n\u001b[0;32m     16\u001b[0m quack(Goose())\n\u001b[1;32m---> 17\u001b[0m quack(Cat())\n",
      "Cell \u001b[1;32mIn[10], line 14\u001b[0m, in \u001b[0;36mquack\u001b[1;34m(animal)\u001b[0m\n\u001b[0;32m     13\u001b[0m \u001b[38;5;28;01mdef\u001b[39;00m \u001b[38;5;21mquack\u001b[39m(animal):\n\u001b[1;32m---> 14\u001b[0m   animal\u001b[38;5;241m.\u001b[39mquack()\n",
      "\u001b[1;31mAttributeError\u001b[0m: 'Cat' object has no attribute 'quack'"
     ]
    }
   ],
   "source": [
    "class Duck:\n",
    "  def quack(self):\n",
    "    print(\"I am a duck and I quack.\")\n",
    " \n",
    "class Goose:\n",
    "  def quack(self):\n",
    "    print(\"I am a goose and I quack.\")\n",
    " \n",
    "class Cat:\n",
    "  def meow(self):\n",
    "    print(\"I am a dog and I meow.\")\n",
    "    \n",
    "def quack(animal):\n",
    "  animal.quack()\n",
    "quack(Duck())\n",
    "quack(Goose())\n",
    "quack(Cat())"
   ]
  },
  {
   "cell_type": "code",
   "execution_count": 11,
   "id": "8d8e8aab",
   "metadata": {},
   "outputs": [],
   "source": [
    "class Squares:\n",
    "  def __init__(self, l=0, u=-1):\n",
    "    self.u = u\n",
    "    self.n = l\n",
    "  def __iter__(self):\n",
    "    return self\n",
    "  def __next__(self):\n",
    "    if self.n < self.u:\n",
    "      s = self.n ** 2\n",
    "      self.n += 1\n",
    "      return s\n",
    "    else:\n",
    "      raise StopIteration"
   ]
  },
  {
   "cell_type": "code",
   "execution_count": 12,
   "id": "b90168c9",
   "metadata": {},
   "outputs": [
    {
     "name": "stdout",
     "output_type": "stream",
     "text": [
      "1\n",
      "4\n",
      "9\n"
     ]
    }
   ],
   "source": [
    "for i in Squares(1, 4):\n",
    "  print(i)"
   ]
  },
  {
   "cell_type": "markdown",
   "id": "91f2afb6",
   "metadata": {},
   "source": [
    "No matter how different these objects are in terms of application, they are treated equally because of duck typing.\n",
    "\n",
    "For iteration the class must have __ __iter__ __() and __ __next__ __ () functions which makes it eligible for iterating. Python does not strongly type check these classes making it more and more flexible.\n",
    "\n",
    "We can even define our own iterator for printing square numbers, where we define methods __ __iter__ __ () and __next__() which are two methods called during python iteration.\n",
    "\n",
    "The support for duck typing in Python enables seamless integration of base python function with the user defined classes. This also allows interaction and integration between two different classes. We have seen an example of iterators in python, the concept can be applied to len() which duck checks if the object has__ __len__ __() method defined inside it."
   ]
  },
  {
   "cell_type": "code",
   "execution_count": 14,
   "id": "d1eec901",
   "metadata": {},
   "outputs": [
    {
     "name": "stdout",
     "output_type": "stream",
     "text": [
      "I am a duck and I quack.\n",
      "I am a goose and I quack.\n"
     ]
    }
   ],
   "source": [
    "class Duck:\n",
    "  def quack(self):\n",
    "    print(\"I am a duck and I quack.\")\n",
    " \n",
    "class Goose:\n",
    "  def quack(self):\n",
    "    print(\"I am a goose and I quack.\")\n",
    " \n",
    "class Cat:\n",
    "  def meow(self):\n",
    "    print(\"I am a dog and I meow.\")\n",
    "    \n",
    "def quack(animal):\n",
    "    if hasattr(animal, 'quack'):\n",
    "      animal.quack()\n",
    "quack(Duck())\n",
    "quack(Goose())\n",
    "quack(Cat())"
   ]
  },
  {
   "cell_type": "markdown",
   "id": "1f29681f",
   "metadata": {},
   "source": [
    "hasattr(): Function to check whether the object has a method or not.\n",
    "\n",
    "\n",
    "syntax --> hasattr(object , attribute)\n",
    "\n",
    "this attribute can be method or property ,if it is found in the object then true is returned else False."
   ]
  },
  {
   "cell_type": "code",
   "execution_count": null,
   "id": "6b9fe057",
   "metadata": {},
   "outputs": [],
   "source": []
  }
 ],
 "metadata": {
  "kernelspec": {
   "display_name": "Python 3 (ipykernel)",
   "language": "python",
   "name": "python3"
  },
  "language_info": {
   "codemirror_mode": {
    "name": "ipython",
    "version": 3
   },
   "file_extension": ".py",
   "mimetype": "text/x-python",
   "name": "python",
   "nbconvert_exporter": "python",
   "pygments_lexer": "ipython3",
   "version": "3.11.3"
  }
 },
 "nbformat": 4,
 "nbformat_minor": 5
}
