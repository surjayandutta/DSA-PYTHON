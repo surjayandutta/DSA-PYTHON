{
 "cells": [
  {
   "cell_type": "markdown",
   "id": "d535ad30",
   "metadata": {},
   "source": [
    "# What is an API?\n",
    "API stands for “Application Programming Interface.” In simple terms, it’s a set of rules and protocols that allow how different software applications can communicate and interact with each other. APIs define the methods and data formats that applications can use to request and exchange information. To retrieve data from a web server, a client application initiates a request, and the server responds with the requested data. APIs facilitate this communication by serving as intermediaries, allowing seamless integration between diverse software systems. In essence, APIs act as bridges that enable the smooth exchange of data and functionality, enhancing interoperability across various applications."
   ]
  },
  {
   "cell_type": "markdown",
   "id": "42fc14ab",
   "metadata": {},
   "source": [
    "# Making API Requests in Python"
   ]
  },
  {
   "cell_type": "code",
   "execution_count": 2,
   "id": "80598625",
   "metadata": {},
   "outputs": [],
   "source": [
    "import requests"
   ]
  },
  {
   "cell_type": "markdown",
   "id": "e58edc47",
   "metadata": {},
   "source": [
    "In this Python program fetches the live stock data for “IBM” from the Alpha Vantage API using the 5-minute interval and prints the opening price.Here we make use of ‘requests’ to make a call and it is checked with the help of status code that whether our request was successful or not.Then the response is converted to python dictionary and the respected data is stored ."
   ]
  },
  {
   "cell_type": "code",
   "execution_count": 5,
   "id": "d333ff6d",
   "metadata": {},
   "outputs": [
    {
     "name": "stdout",
     "output_type": "stream",
     "text": [
      "IBM: 191.0700\n"
     ]
    }
   ],
   "source": [
    "import requests\n",
    "import json\n",
    "# Function to get live stock data for a symbol\n",
    "def get_stock_data():\n",
    "    url = f\"https://www.alphavantage.co/query?function=TIME_SERIES_INTRADAY&symbol=IBM&interval=5min&outputsize=full&apikey=demo\"\n",
    "    response = requests.get(url)\n",
    "    # Check if the response is successful\n",
    "    if response.status_code == 200:\n",
    "        data = response.json()\n",
    "        last_refreshed = data[\"Meta Data\"][\"3. Last Refreshed\"]\n",
    "        price = data[\"Time Series (5min)\"][last_refreshed][\"1. open\"]\n",
    "        return price\n",
    "    else:\n",
    "        return None\n",
    "\n",
    "stock_prices = {}\n",
    "price = get_stock_data()\n",
    "symbol=\"IBM\"\n",
    "if price is not None:\n",
    "    stock_prices[symbol] = price\n",
    "\n",
    "print(f\"{symbol}: {price}\")\n"
   ]
  },
  {
   "cell_type": "markdown",
   "id": "a77e380d",
   "metadata": {},
   "source": [
    "# API Status Codes\n",
    "As we know Status code tells us about what happened with our request, whether it was successfully executed or other was some error while processing it. They are returned with every request we place.\n",
    "\n",
    "Codes related to “GET” request:\n",
    "\n",
    "200 OK: The server successfully processed the request, and the requested data is returned.\n",
    "\n",
    "201 Created: A new resource is created on the server as a result of the request.\n",
    "\n",
    "204 No Content: The request is successful, but there is no additional data to return.\n",
    "\n",
    "300 Multiple Choices: The requested resource has multiple representations, each with its own URL.\n",
    "\n",
    "302 Found (Temporary Redirect): The requested resource is temporarily located at a different URL.\n",
    "\n",
    "304 Not Modified: The client’s cached copy of the resource is still valid, and no re-download is necessary.\n",
    "\n",
    "400 Bad Request: The request has malformed syntax or contains invalid data, making it incomprehensible to the server.\n",
    "\n",
    "401 Unauthorized: Authentication is required, and the client’s credentials (e.g., API key) are missing or invalid.\n",
    "\n",
    "500 Internal Server Error: An unexpected server error occurred during request processing.\n",
    "\n",
    "502 Bad Gateway: Acting as a gateway or proxy, the server received an invalid response from an upstream server.\n",
    "\n",
    "\n",
    "These status codes help communicate the outcome of API requests and guide developers and clients in understanding the results, errors, or necessary actions."
   ]
  },
  {
   "cell_type": "markdown",
   "id": "55efa1b0",
   "metadata": {},
   "source": [
    "## GET and POST Requests Using Python\n"
   ]
  },
  {
   "cell_type": "markdown",
   "id": "b75954a0",
   "metadata": {},
   "source": [
    "HTTP (Hypertext Transfer Protocol) is a set of protocols designed to enable communication between clients and servers. It works as a request-response protocol between a client and a server. A web browser may be the client, and an application on a computer that hosts a website may be the server. So, to request a response from the server, there are mainly two methods:\n",
    "\n",
    "1. GET: To request data from the server.\n",
    "\n",
    "2. POST: To submit data to be processed to the server."
   ]
  },
  {
   "cell_type": "code",
   "execution_count": 9,
   "id": "6b2b9367",
   "metadata": {},
   "outputs": [
    {
     "name": "stdout",
     "output_type": "stream",
     "text": [
      "{'userId': 1, 'id': 1, 'title': 'sunt aut facere repellat provident occaecati excepturi optio reprehenderit', 'body': 'quia et suscipit\\nsuscipit recusandae consequuntur expedita et cum\\nreprehenderit molestiae ut ut quas totam\\nnostrum rerum est autem sunt rem eveniet architecto'}\n"
     ]
    },
    {
     "data": {
      "text/plain": [
       "\"\\n{'userId': 1, 'id': 1, 'title': 'sunt aut facere repellat provident occaecati excepturi optio reprehenderit', 'body': 'quia et suscipit\\nsuscipit recusandae consequuntur expedita et cum\\nreprehenderit molestiae ut ut quas totam\\nnostrum rerum est autem sunt rem eveniet architecto'}\\n\""
      ]
     },
     "execution_count": 9,
     "metadata": {},
     "output_type": "execute_result"
    }
   ],
   "source": [
    "import requests\n",
    "\n",
    "# The API endpoint\n",
    "url = \"https://jsonplaceholder.typicode.com/posts/1\"\n",
    "\n",
    "# A GET request to the API\n",
    "response = requests.get(url)\n",
    "\n",
    "# Print the response\n",
    "response_json = response.json()\n",
    "print(response_json)\n",
    "\n",
    "\"\"\"\n",
    "{'userId': 1, 'id': 1, 'title': 'sunt aut facere repellat provident occaecati excepturi optio reprehenderit', 'body': 'quia et suscipit\\nsuscipit recusandae consequuntur expedita et cum\\nreprehenderit molestiae ut ut quas totam\\nnostrum rerum est autem sunt rem eveniet architecto'}\n",
    "\"\"\""
   ]
  },
  {
   "cell_type": "code",
   "execution_count": 19,
   "id": "d27ad107",
   "metadata": {},
   "outputs": [
    {
     "name": "stdout",
     "output_type": "stream",
     "text": [
      "Latitude: 12.9767936\n",
      "Longitude: 77.590082\n"
     ]
    }
   ],
   "source": [
    "import requests\n",
    "\n",
    "# Define the base URL for the OpenStreetMap Nominatim API\n",
    "base_url = \"https://nominatim.openstreetmap.org/search\"\n",
    "\n",
    "# Define the location you want to search for\n",
    "location = \"Bangalore\"\n",
    "\n",
    "# Define the parameters to be sent to the API\n",
    "params = {\n",
    "    'q': location,\n",
    "    'format': 'json',\n",
    "}\n",
    "\n",
    "# Sending a GET request to the API\n",
    "response = requests.get(base_url, params=params)\n",
    "\n",
    "# Check if the request was successful (status code 200)\n",
    "if response.status_code == 200:\n",
    "    # Parse the JSON response\n",
    "    data = response.json()\n",
    "    \n",
    "    # Check if data is not empty\n",
    "    if data:\n",
    "        # Extract latitude and longitude from the first result\n",
    "        latitude = data[0]['lat']\n",
    "        longitude = data[0]['lon']\n",
    "        \n",
    "        # Print the latitude and longitude\n",
    "        print(\"Latitude:\", latitude)\n",
    "        print(\"Longitude:\", longitude)\n",
    "    else:\n",
    "        print(\"No results found for the given location.\")\n",
    "else:\n",
    "    print(\"Failed to retrieve data from the API.\")\n"
   ]
  },
  {
   "cell_type": "code",
   "execution_count": 21,
   "id": "313980e1",
   "metadata": {},
   "outputs": [
    {
     "name": "stdout",
     "output_type": "stream",
     "text": [
      "\n"
     ]
    }
   ],
   "source": [
    "import requests\n",
    "\n",
    "url = 'https://www.w3schools.com/python/demopage.php'\n",
    "myobj = {'somekey': 'somevalue'}\n",
    "\n",
    "x = requests.post(url, json = myobj)\n",
    "\n",
    "#print the response text (the content of the requested file):\n",
    "\n",
    "print(x.text)\n"
   ]
  },
  {
   "cell_type": "code",
   "execution_count": 25,
   "id": "9c4d1dd1",
   "metadata": {},
   "outputs": [
    {
     "name": "stdout",
     "output_type": "stream",
     "text": [
      "{\n",
      "  \"args\": {}, \n",
      "  \"data\": \"\", \n",
      "  \"files\": {}, \n",
      "  \"form\": {\n",
      "    \"password\": \"Hello\", \n",
      "    \"username\": \"Jack\"\n",
      "  }, \n",
      "  \"headers\": {\n",
      "    \"Accept\": \"*/*\", \n",
      "    \"Accept-Encoding\": \"gzip, deflate, br\", \n",
      "    \"Content-Length\": \"28\", \n",
      "    \"Content-Type\": \"application/x-www-form-urlencoded\", \n",
      "    \"Host\": \"httpbin.org\", \n",
      "    \"User-Agent\": \"python-requests/2.29.0\", \n",
      "    \"X-Amzn-Trace-Id\": \"Root=1-65f6f003-01c4c21f4aac811f132d3289\"\n",
      "  }, \n",
      "  \"json\": null, \n",
      "  \"origin\": \"49.37.250.200\", \n",
      "  \"url\": \"https://httpbin.org/post\"\n",
      "}\n",
      "\n"
     ]
    }
   ],
   "source": [
    "import requests\n",
    "in_values = {'username':'Jack','password':'Hello'}\n",
    "res = requests.post('https://httpbin.org/post',data = in_values)\n",
    "print(res.text)"
   ]
  },
  {
   "cell_type": "markdown",
   "id": "86ec4c66",
   "metadata": {},
   "source": [
    "# Here are some important points to ponder upon:\n",
    "When the method is GET, all form data is encoded into the URL and appended to the action URL as query string parameters. With POST, form data appears within the message body of the HTTP request.\n",
    "\n",
    "In the GET method, the parameter data is limited to what we can stuff into the request line (URL). Safest to use less than 2K of parameters, some servers handle up to 64K.No such problem in the POST method since we send data in the message body of the HTTP request, not the URL.\n",
    "\n",
    "Only ASCII characters are allowed for data to be sent in the GET method. There is no such restriction in the POST method.\n",
    "\n",
    "GET is less secure compared to POST because the data sent is part of the URL. So, the GET method should not be used when sending passwords or other sensitive information.\n"
   ]
  },
  {
   "cell_type": "markdown",
   "id": "f98d195f",
   "metadata": {},
   "source": [
    "# API Documentation\n",
    "API Documentation is very essential and it helps in effective interaction. Here, we are using NewsAPI that provides us the information regarding various news of various countries and celebrities. To get news updates from NewsAPI, we need a special key called an API key. Think of it as a digital passcode that lets us access their news database. We’ve stored this key in a place called API_KEY.\n",
    "\n",
    "\n",
    "Next, we’ve built a specific web address (or URL) that tells NewsAPI exactly what kind of news we want – in this case, top business headlines from the United States. It’s like telling a librarian you’re interested in the business section of a newspaper from a particular city.\n",
    "\n",
    "\n",
    "After setting up this request, our code then sends a message to NewsAPI using this URL. It’s similar to clicking on a link to see a webpage. Once we send this message, NewsAPI replies with a status update. This status tells us if our request was successful or if there was any problem. We then simply print out this status to see if everything worked as expected."
   ]
  },
  {
   "cell_type": "code",
   "execution_count": 28,
   "id": "be2b042a",
   "metadata": {},
   "outputs": [
    {
     "name": "stdout",
     "output_type": "stream",
     "text": [
      "200\n"
     ]
    }
   ],
   "source": [
    "import requests\n",
    "# Replace 'API_KEY' with your actual API key from NewsAPI\n",
    "API_KEY = '3805f6bbabcb42b3a0c08a489baf603d'\n",
    "url = f\"https://newsapi.org/v2/top-headlines?country=us&category=business&apiKey={API_KEY}\"\n",
    "response = requests.get(url)\n",
    "print(response.status_code)\n"
   ]
  },
  {
   "cell_type": "markdown",
   "id": "0d8fc3bb",
   "metadata": {},
   "source": [
    "# Working with JSON Data\n",
    "\n",
    "While working with APIs, it is very essential to know how to work with JSON data. Json universally works as the language of APIs that helps in providing a way to encode the data structures in a format that is easily interpreted by machines. Imagine browsing a news website. The data we see there—headlines, descriptions, images—is often structured in a format called JSON. It’s like the universal language that APIs speak.\n",
    "\n",
    "\n",
    "Now, to make sense of this digital jigsaw puzzle, we’ve written a Python script. This script acts like a digital news curator: it reaches out to NewsAPI using a library called requests and fetches the latest business headlines from the US. Once it has this data, Python steps in, sorting and presenting it in a neat list. Think of it as a friendly librarian picking out the top three articles for us from a vast collection. This whole process not only gives us a glimpse into how APIs and JSON work hand in hand but also underscores the magic Python brings to the table in managing such tasks effortlessly.\n"
   ]
  },
  {
   "cell_type": "code",
   "execution_count": 29,
   "id": "308e09f3",
   "metadata": {},
   "outputs": [
    {
     "name": "stdout",
     "output_type": "stream",
     "text": [
      "Article 1:\n",
      "{\n",
      "    \"author\": \"Landon Mion\",\n",
      "    \"content\": \"The Mega Millions jackpot now sits at an estimated $875 million after no tickets matched the winning numbers during Friday's drawing.\\r\\nThe winning numbers drawn Friday night were 13, 25, 50, 51 and 6\\u2026 [+1640 chars]\",\n",
      "    \"description\": \"The Mega Millions jackpot ballooned to an estimated $875 million after no tickets matched the winning numbers during the drawing Friday night.\",\n",
      "    \"publishedAt\": \"2024-03-16T07:31:00Z\",\n",
      "    \"source\": {\n",
      "        \"id\": null,\n",
      "        \"name\": \"Fox Business\"\n",
      "    },\n",
      "    \"title\": \"Mega Millions jackpot reaches $875M after nobody wins grand prize - Fox Business\",\n",
      "    \"url\": \"https://www.foxbusiness.com/economy/mega-millions-jackpot-875-million-nobody-wins-grand-prize\",\n",
      "    \"urlToImage\": \"https://a57.foxnews.com/static.foxbusiness.com/foxbusiness.com/content/uploads/2023/08/0/0/Mega-Millions.jpg?ve=1&tl=1\"\n",
      "}\n",
      "\n",
      "Article 2:\n",
      "{\n",
      "    \"author\": null,\n",
      "    \"content\": null,\n",
      "    \"description\": \"The local authority - and others - had accused the tech giant of misleading shareholders.\",\n",
      "    \"publishedAt\": \"2024-03-16T06:03:47Z\",\n",
      "    \"source\": {\n",
      "        \"id\": null,\n",
      "        \"name\": \"BBC News\"\n",
      "    },\n",
      "    \"title\": \"Norfolk County Council beats Apple in \\u00a3385m iPhone row - BBC.com\",\n",
      "    \"url\": \"https://www.bbc.com/news/technology-68580235\",\n",
      "    \"urlToImage\": \"https://ichef.bbci.co.uk/news/1024/branded_news/0549/production/_132935310_116a49f47097727d49c5be85d99b4328e906956d351_8_1462_8221462x822.jpg\"\n",
      "}\n",
      "\n",
      "Article 3:\n",
      "{\n",
      "    \"author\": \"Nicholas McEntyre\",\n",
      "    \"content\": \"Golden State billionaire!\\r\\nThe winner of Powerball\\u2019s second largest jackpot prize worth $1.765B was revealed Friday five months after the life-changing drawing. \\r\\nTheodorus Struyck was named as the r\\u2026 [+3515 chars]\",\n",
      "    \"description\": \"The brand-new billionaire was described as a 65-year-old\\u00a0resident of the mountain town of approximately 3,000 people who lives only 500 yards from the store.\",\n",
      "    \"publishedAt\": \"2024-03-16T05:37:08Z\",\n",
      "    \"source\": {\n",
      "        \"id\": null,\n",
      "        \"name\": \"New York Post\"\n",
      "    },\n",
      "    \"title\": \"Winner of Powerball's second-largest jackpot worth $1.765B revealed - New York Post \",\n",
      "    \"url\": \"https://nypost.com/2024/03/16/us-news/powerball-1-765-billion-jackpot-winner-theodorus-struyck-revealed-in-california/\",\n",
      "    \"urlToImage\": \"https://nypost.com/wp-content/uploads/sites/2/2024/03/powerball.jpg?quality=75&strip=all&1710551248&w=1024\"\n",
      "}\n",
      "\n"
     ]
    }
   ],
   "source": [
    "import json\n",
    "import requests\n",
    "\n",
    "def fetch_and_print_articles(api_url):\n",
    "    response = requests.get(api_url)\n",
    "    if response.status_code == 200:\n",
    "        articles = response.json().get('articles', [])\n",
    "        for index, article in enumerate(articles[:3], start=1):\n",
    "            print(f\"Article {index}:\\n{json.dumps(article, sort_keys=True, indent=4)}\\n\")\n",
    "    else:\n",
    "        print(f\"Error: {response.status_code}\")\n",
    "\n",
    "API_KEY = '3805f6bbabcb42b3a0c08a489baf603d'\n",
    "api_endpoint = f\"https://newsapi.org/v2/top-headlines?country=us&category=business&apiKey={API_KEY}\"\n",
    "\n",
    "fetch_and_print_articles(api_endpoint)\n",
    "\n",
    "def jprint(obj):\n",
    "    print(json.dumps(obj, sort_keys=True, indent=4))\n",
    "\n",
    "# Example usage:\n",
    "# jprint(response.json())\n"
   ]
  },
  {
   "cell_type": "markdown",
   "id": "e81a34ed",
   "metadata": {},
   "source": [
    "# Using API with Query\n",
    "\n",
    "When interacting with an API, especially one as popular as NewsAPI, it’s essential to know how to specify and tailor the data you want to retrieve. In this code snippet, we’re making use of the NewsAPI to fetch top headlines specifically for the United States. To communicate with the NewsAPI, we have the endpoint URL defined as API_URL. Additionally, each developer or user is provided with an API key for authentication purposes. Here, the API key is stored in the API_KEY variable.\n",
    "\n",
    "\n",
    "However, simply knowing the endpoint and having an API key isn’t enough. Often, APIs allow for a level of customization, letting users specify certain parameters to refine their request. This is where the params dictionary comes into play. In this case, we’re interested in fetching news from the U.S., so we set the country parameter to “us”. Additionally, to ensure our request is authenticated and linked to our account, we include the API key in the parameters."
   ]
  },
  {
   "cell_type": "code",
   "execution_count": 30,
   "id": "b6d1d8c6",
   "metadata": {},
   "outputs": [
    {
     "name": "stdout",
     "output_type": "stream",
     "text": [
      "{'status': 'ok', 'totalResults': 35, 'articles': [{'source': {'id': 'usa-today', 'name': 'USA Today'}, 'author': 'Kathleen Wong', 'title': 'Eclipse 2024 events near me: A list of public festivities on April 8 - USA TODAY', 'description': 'From Texas to Maine, towns and cities across the nation are gearing up for the total solar eclipse with numerous events and viewing parties.', 'url': 'https://www.usatoday.com/story/travel/news/2024/03/15/solar-eclipse-2024-events-near-me/72949281007/', 'urlToImage': 'https://www.usatoday.com/gcdn/authoring/authoring-images/2024/03/02/USAT/72813901007-usatsi-22622749.jpg?crop=4656,2620,x0,y242&width=3200&height=1801&format=pjpg&auto=webp', 'publishedAt': '2024-03-16T12:18:25Z', 'content': 'On April 8, the moon will obscure the entire face of the sun, resulting in a few minutes-long sudden transformation of day into night. Over a dozen lucky U.S. states are located in the eclipses path … [+13939 chars]'}, {'source': {'id': 'politico', 'name': 'Politico'}, 'author': 'POLITICO', 'title': \"5 Scenarios for Russia After Putin's Next Term - POLITICO\", 'description': None, 'url': 'https://www.politico.com/news/magazine/2024/03/16/5-scenarios-putin-next-term-russia-00142466', 'urlToImage': None, 'publishedAt': '2024-03-16T11:00:00Z', 'content': None}, {'source': {'id': None, 'name': 'NBCSports.com'}, 'author': 'Michael David Smith', 'title': 'Kyler Murray: Honor to compete against Aaron Donald, thank god he retired - NBC Sports', 'description': 'Cardinals quarterback Kyler Murray is glad his days of facing Rams defensive tackle Aaron Donald twice a year are done.', 'url': 'https://www.nbcsports.com/nfl/profootballtalk/rumor-mill/news/kyler-murray-honor-to-compete-against-aaron-donald-thank-god-he-retired', 'urlToImage': 'https://nbcsports.brightspotcdn.com/dims4/default/062d441/2147483647/strip/true/crop/3045x1713+0+159/resize/1440x810!/quality/90/?url=https%3A%2F%2Fnbc-sports-production-nbc-sports.s3.us-east-1.amazonaws.com%2Fbrightspot%2Ff9%2Fb1%2F2ffb7bea4e21b7e2dcea9ab24bde%2Fhttps-delivery-gettyimages.com%2Fdownloads%2F1358876004', 'publishedAt': '2024-03-16T09:56:47Z', 'content': 'Cardinals quarterback Kyler Murray is glad his days of facing Rams defensive tackle Aaron Donald twice a year are done.\\r\\nAfter Donald posted on social media that he is retiring, Murray replied to Don… [+306 chars]'}, {'source': {'id': 'newsweek', 'name': 'Newsweek'}, 'author': 'Brendan Cole', 'title': 'Explosions Rock Oil Refineries Deep Inside Russia - Newsweek', 'description': 'Energy facilities in Samara region, over 500 miles southeast of Moscow, were the latest target to be hit by drones.', 'url': 'https://www.newsweek.com/russia-drone-strike-oil-samara-1879933', 'urlToImage': 'https://d.newsweek.com/en/full/2363130/syzran-oil-refinery.png', 'publishedAt': '2024-03-16T09:43:28Z', 'content': \"Two oil refineries in Russia's Samara region were hit in Ukrainian drone strikes, the local governor has said, in the latest strike against the country's infrastructure facilities, which have caused … [+3720 chars]\"}, {'source': {'id': 'the-washington-post', 'name': 'The Washington Post'}, 'author': 'Kelsey Ables', 'title': 'Latest Israel-Hamas war news and Gaza conflict updates - The Washington Post', 'description': 'Humanitarian groups and several world leaders have warned that an invasion of the densely populated Gazan city could be disastrous for those seeking refuge there.', 'url': 'https://www.washingtonpost.com/world/2024/03/16/israel-hamas-war-news-gaza-palestine/', 'urlToImage': 'https://www.washingtonpost.com/wp-apps/imrs.php?src=https://arc-anglerfish-washpost-prod-washpost.s3.amazonaws.com/public/33MJDT5V2OJJ7WH6YOMP5MCYH4_size-normalized.jpg&w=1440', 'publishedAt': '2024-03-16T09:01:00Z', 'content': 'Israeli Prime Minister Benjamin Netanyahu has approved plans for a military operation in Rafah, his office said Friday. The statement did not provide additional details about the offensive, which is … [+3521 chars]'}, {'source': {'id': 'engadget', 'name': 'Engadget'}, 'author': 'Mariella Moon', 'title': 'The PS5 Pro is reportedly coming this holiday season - Engadget', 'description': \"Sony reportedly sent documentation for the PS5 Pro's specs to third-party developers, and the company could release the console by the end of 2024.\", 'url': 'https://www.engadget.com/the-ps5-pro-is-reportedly-coming-this-holiday-season-084404542.html', 'urlToImage': 'https://s.yimg.com/os/creatr-uploaded-images/2024-03/737d4ec0-e368-11ee-ad76-acd8a09c1ed1', 'publishedAt': '2024-03-16T08:44:04Z', 'content': \"Confession time: I already have a copy of Final Fantasy XVI and Final Fantasy VII Rebirth for the PS5 even though I still don't have a PlayStation 5 console. I never get consoles the moment they come… [+1693 chars]\"}, {'source': {'id': None, 'name': 'BBC News'}, 'author': None, 'title': \"Cara Delevingne's LA home destroyed by fire - BBC.com\", 'description': 'The British model and actress thought her two cats had died in the blaze - but', 'url': 'https://www.bbc.com/news/world-us-canada-68578823', 'urlToImage': 'https://ichef.bbci.co.uk/news/1024/branded_news/15999/production/_132937488_7f178422942a84ceaf60990e6918a02af0e77eae0_0_3262_47131384x2000.jpg', 'publishedAt': '2024-03-16T07:59:27Z', 'content': None}, {'source': {'id': 'cnn', 'name': 'CNN'}, 'author': 'Dalia Faheid', 'title': 'Residents in Indiana and Ohio are surveying the damage after tornadoes collapsed homes and left at least 3 dead - CNN', 'description': 'Residents are surveying the damage to their homes as cleanup efforts continue this weekend after several tornadoes ripped across the Midwest, killing at least three people and destroying neighborhoods.', 'url': 'https://www.cnn.com/2024/03/16/us/tornadoes-ohio-indiana-damage-saturday/index.html', 'urlToImage': 'https://media.cnn.com/api/v1/images/stellar/prod/ap24075580897796.jpg?c=16x9&q=w_800,c_fill', 'publishedAt': '2024-03-16T07:54:00Z', 'content': 'Residents are surveying the damage to their homes as cleanup efforts continue this weekend after several tornadoes ripped across the Midwest, killing at least three people and destroying neighborhood… [+5355 chars]'}, {'source': {'id': None, 'name': 'New York Post'}, 'author': 'Nicholas McEntyre', 'title': \"Winner of Powerball's second-largest jackpot worth $1.765B revealed - New York Post \", 'description': 'The brand-new billionaire was described as a 65-year-old\\xa0resident of the mountain town of approximately 3,000 people who lives only 500 yards from the store.', 'url': 'https://nypost.com/2024/03/16/us-news/powerball-1-765-billion-jackpot-winner-theodorus-struyck-revealed-in-california/', 'urlToImage': 'https://nypost.com/wp-content/uploads/sites/2/2024/03/powerball.jpg?quality=75&strip=all&1710551248&w=1024', 'publishedAt': '2024-03-16T05:37:08Z', 'content': 'Golden State billionaire!\\r\\nThe winner of Powerball’s second largest jackpot prize worth $1.765B was revealed Friday five months after the life-changing drawing. \\r\\nTheodorus Struyck was named as the r… [+3515 chars]'}, {'source': {'id': 'espn', 'name': 'ESPN'}, 'author': None, 'title': \"UConn's Dan Hurley, irritated by a fan, gets technical foul - ESPN\", 'description': \"UConn coach Dan Hurley said he received a technical foul after pointing out an unruly fan to officials during the Huskies' 95-90 win over St. John's in Friday's Big East tournament semifinals.\", 'url': 'https://www.espn.com/mens-college-basketball/story/_/id/39742728/uconn-dan-hurley-irritated-fan-gets-technical-foul', 'urlToImage': 'https://a3.espncdn.com/combiner/i?img=%2Fphoto%2F2024%2F0316%2Fr1305673_1296x729_16%2D9.jpg', 'publishedAt': '2024-03-16T04:34:00Z', 'content': \"Mar 15, 2024, 11:34 PM ET\\r\\nNEW YORK -- UConn coach Dan Hurley got heated about a fan again Friday night.\\r\\nMoments after St. John's counterpart Rick Pitino received a technical foul for shouting at of… [+3561 chars]\"}, {'source': {'id': None, 'name': 'CBS Sports'}, 'author': None, 'title': 'NC State Wolfpack vs. Virginia Cavaliers Live Score and Stats - March 15, 2024 Gametracker - CBS Sports', 'description': 'Get real-time COLLEGEBASKETBALL basketball coverage and scores as NC State Wolfpack takes on Virginia Cavaliers. We bring you the latest game previews, live stats, and recaps on CBSSports.com', 'url': 'https://www.cbssports.com/college-basketball/gametracker/recap/NCAAB_20240315_NCST@UVA/', 'urlToImage': 'https://sportsfly.cbsistatic.com/fly-0658/bundles/sportsmediacss/images/fantasy/default-article-image-large.png', 'publishedAt': '2024-03-16T04:18:45Z', 'content': \"WASHINGTON (AP) Michael O'Connell kept North Carolina State's NCAA Tournament hopes alive by the slimmest of margins, banking in a wild 3-pointer at the buzzer to force overtime in a 73-65 victory ov… [+2500 chars]\"}, {'source': {'id': 'associated-press', 'name': 'Associated Press'}, 'author': 'LEAH WILLINGHAM', 'title': 'TikTok creators warn of economic impact if app sees ban, call it a vital space for the marginalized - The Associated Press', 'description': \"TikTok creators across the country are expressing frustration over a bill passed by the U.S. House of Representatives that would lead to a nationwide ban of the app if its China-based owner doesn't sell its stake. The proposal is awaiting Senate input. Conten…\", 'url': 'https://apnews.com/article/tiktok-ban-reaction-influencers-4ae88afbc344630b2c1091a4a1784078', 'urlToImage': 'https://dims.apnews.com/dims4/default/79a4caa/2147483647/strip/true/crop/6000x3375+0+312/resize/1440x810!/quality/90/?url=https%3A%2F%2Fassets.apnews.com%2F59%2F41%2F5893ba3333fc284ca87d588fa751%2F1ba3b5ada91048ee915b02e8aaa8efbb', 'publishedAt': '2024-03-16T04:11:00Z', 'content': 'Alex Pearlman shut the door on dreams of a standup comedy career almost a decade ago, pivoting from the stage to an office cubicle where he worked a customer service job. \\r\\nThen he started posting ra… [+6645 chars]'}, {'source': {'id': 'the-hill', 'name': 'The Hill'}, 'author': 'Sarah Polus', 'title': 'United Airlines Boeing plane lands without external panel - The Hill', 'description': 'An external panel was found to be missing from a Boeing United Airlines flight after it landed in southern Oregon on Friday. United Flight 433, which departed from San Francisco at 10:20 a.m., landed in Medford, Ore., just before noon. The external panel was …', 'url': 'https://thehill.com/homenews/4535836-united-airlines-boeing-plane-lands-without-external-panel/', 'urlToImage': 'https://thehill.com/wp-content/uploads/sites/2/2024/03/AP24045157363252-e1710002127503.jpg?w=1280', 'publishedAt': '2024-03-16T04:01:00Z', 'content': 'An external panel was found to be missing from a Boeing United Airlines flight after it landed in southern Oregon on Friday.\\r\\nUnited Flight 433, which departed from San Francisco at 10:20 a.m., lande… [+1347 chars]'}, {'source': {'id': 'cbs-news', 'name': 'CBS News'}, 'author': 'Alexandra Todd', 'title': 'Reported Kenny Pickett trade sends shockwaves through Steelers Nation - CBS Pittsburgh', 'description': \"Fans all over Pittsburgh have an opinion on Pickett's time as quarterback, but most people were surprised by the news.\", 'url': 'https://www.cbsnews.com/pittsburgh/news/reported-kenny-pickett-trade-steelers-fans-react/', 'urlToImage': 'https://assets2.cbsnewsstatic.com/hub/i/r/2024/03/15/24a6dc8b-dec9-4ab6-b80a-e0edd2d52206/thumbnail/1200x630/966992303ea7a098013bc9c0703b63ab/gettyimages-1935657137.jpg?v=d1d78866939020fc1f2607ef7298e4ec', 'publishedAt': '2024-03-16T03:13:00Z', 'content': \"PITTSBURGH (KDKA) — The reports of Kenny Pickett heading across the state sent shockwaves throughout Steelers Nation.\\r\\nFans all over Pittsburgh have an opinion on Pickett's time as quarterback, but m… [+1223 chars]\"}, {'source': {'id': None, 'name': 'SciTechDaily'}, 'author': None, 'title': \"Jupiter Unveiled: Hubble Captures the Giant's Roaring Storms and Volcanic Moon Io - SciTechDaily\", 'description': \"Cyclones, Wind Shear, Violent Storms Churn in Jupiter's Atmosphere The largest and nearest of the giant outer planets, Jupiter's colorful clouds present an ever-changing kaleidoscope of shapes and colors. This is a planet where there is always stormy weather:…\", 'url': 'https://scitechdaily.com/jupiter-unveiled-hubble-captures-the-giants-roaring-storms-and-volcanic-moon-io/', 'urlToImage': 'https://scitechdaily.com/images/Hubble-2024-Jupiter-scaled.jpg', 'publishedAt': '2024-03-16T02:58:06Z', 'content': 'NASA’s Hubble Space Telescope captured new images of Jupiter on January 5-6, 2024, revealing dynamic weather patterns and notable storms like the Great Red Spot and Red Spot Jr. The observations are … [+6761 chars]'}, {'source': {'id': 'cnn', 'name': 'CNN'}, 'author': 'Caitlin Stephen Hu, David Culver, Evelio Contreras, Tara John', 'title': 'Inside Haiti: A lucky few escape, while millions face gang rule, hunger and chaos - CNN', 'description': 'The only thing coming into Haiti’s violent capital Port-au-Prince are the private evacuation helicopters – a bitter reminder of the inequality that has plagued Haiti for decades.', 'url': 'https://www.cnn.com/2024/03/15/americas/haiti-port-au-prince-gangs-escape-intl-latam/index.html', 'urlToImage': 'https://media.cnn.com/api/v1/images/stellar/prod/240315201412-culver-heli-vpx.jpg?c=16x9&q=w_800,c_fill', 'publishedAt': '2024-03-16T02:16:00Z', 'content': 'Port-au-Prince, HaitiCNN\\r\\n \\xa0—\\xa0\\r\\nIn a city silenced by gangs, everyone notices the thrum of a helicopter beating overhead in the night a brief sign that someone very lucky has been able to leave Port-… [+5231 chars]'}, {'source': {'id': 'fox-news', 'name': 'Fox News'}, 'author': 'Fox News Staff', 'title': \"SEAN HANNITY: Trump prosecutor Fani Willis threw 'lover' Nathan Wade 'under the bus' - Fox News\", 'description': 'Fox News host Sean Hannity criticized Superior Court Judge Scott McAfee\\'s ruling in the case to remove DA Fani Willis from the Georgia-Trump case \"despite all the misconduct\" on \"Hannity.\"', 'url': 'https://www.foxnews.com/media/sean-hannity-trump-prosecutor-fani-willis-lover-nathan-wade', 'urlToImage': 'https://cf-images.us-east-1.prod.boltdns.net/v1/static/694940094001/1b650cf3-4145-47d9-87d5-407cdde65856/bb564018-2c0a-404f-9bca-59dfc2a84f01/1280x720/match/image.jpg', 'publishedAt': '2024-03-16T01:29:15Z', 'content': 'Fox News host Sean Hannity reacts to a ruling in the case to remove Fulton County District Attorney Fani Willis from the Georgia election interference case against former President Trump on \"Hannity.… [+1522 chars]'}, {'source': {'id': 'cnn', 'name': 'CNN'}, 'author': 'David Goldman, Anna Bahney', 'title': 'The 6% commission on buying or selling a home is gone after Realtors association agrees to seismic settlement - CNN', 'description': 'The 6% commission, a standard in home purchase transactions, is no more.', 'url': 'https://www.cnn.com/2024/03/15/economy/nar-realtor-commissions-settlement/index.html', 'urlToImage': 'https://media.cnn.com/api/v1/images/stellar/prod/gettyimages-1878228781.jpg?c=16x9&q=w_800,c_fill', 'publishedAt': '2024-03-16T01:17:00Z', 'content': 'The 6% commission, a standard in home purchase transactions, is no more.\\r\\nIn a sweeping\\xa0move\\xa0expected to dramatically reduce the cost of buying and selling a home, the National Association of Realtor… [+8396 chars]'}, {'source': {'id': None, 'name': 'Miami Herald'}, 'author': 'Devoun Cetoute, Aaron Leibowitz, Vinod Sreeharsha', 'title': 'Photos: Miami Beach curfew clears out Ocean Drive during peak spring break weekend - Miami Herald', 'description': 'A peak spring break weekend in Miami Beach sees large crowds on Ocean Drive during the day and an effective curfew at night.', 'url': 'https://www.miamiherald.com/news/local/community/miami-dade/miami-beach/article286689160.html', 'urlToImage': 'https://www.miamiherald.com/latest-news/mm5fkl/picture286765340/alternates/LANDSCAPE_1140/MIA_Spring_Break_MJO_29', 'publishedAt': '2024-03-15T23:34:00Z', 'content': 'Miami Beach\\r\\nThirty minutes before a curfew in South Beach took effect Friday, a parade of police ATVs rolled down Ocean Drive, blaring a prerecorded message. \\r\\nGood evening. As we continue to priori… [+9118 chars]'}, {'source': {'id': None, 'name': 'KSAT San Antonio'}, 'author': 'John Paul Barajas, Adam Barraza', 'title': 'Colon cancer growing danger for particular age group, San Antonio doctor says - KSAT San Antonio', 'description': 'March is Colorectal Cancer Awareness Month; the American Cancer Society estimates that 53,000 Americans will die from it in 2024.', 'url': 'https://www.ksat.com/news/local/2024/03/15/colon-cancer-growing-danger-for-particular-age-group-san-antonio-doctor-says/', 'urlToImage': 'https://res.cloudinary.com/graham-media-group/image/upload/f_auto/q_auto/c_thumb,w_700/v1/arc-cf/03-15-2024/t_7fa7c4b98bb9446f97e3ae7b28a71a26_name_image.jpg?_a=ATAPphC0', 'publishedAt': '2024-03-15T23:17:50Z', 'content': 'SAN ANTONIO Its one of the deadliest cancers in America. But do you know the signs of colorectal cancer?\\r\\nMarch is Colorectal Cancer Awareness Month; the American Cancer Society estimates that 53,000… [+1414 chars]'}]}\n"
     ]
    }
   ],
   "source": [
    "import requests\n",
    "\n",
    "# API endpoint and key\n",
    "API_URL = \"https://newsapi.org/v2/top-headlines\"\n",
    "API_KEY = \"3805f6bbabcb42b3a0c08a489baf603d\"\n",
    "\n",
    "# Parameters for the API request\n",
    "params = {\n",
    "    \"country\": \"us\",\n",
    "    \"apiKey\": API_KEY\n",
    "}\n",
    "\n",
    "# Making the API request\n",
    "response = requests.get(API_URL, params=params)\n",
    "\n",
    "# Checking if the request was successful\n",
    "if response.status_code == 200:\n",
    "    # Printing the JSON response\n",
    "    print(response.json())\n",
    "else:\n",
    "    print(f\"Error: {response.status_code}\")\n"
   ]
  },
  {
   "cell_type": "code",
   "execution_count": 46,
   "id": "cef7a182",
   "metadata": {},
   "outputs": [
    {
     "data": {
      "text/plain": [
       "<Response [200]>"
      ]
     },
     "execution_count": 46,
     "metadata": {},
     "output_type": "execute_result"
    }
   ],
   "source": [
    "import requests\n",
    "requests.get(\"https://randomuser.me/api/\")"
   ]
  },
  {
   "cell_type": "code",
   "execution_count": 47,
   "id": "a732a7ba",
   "metadata": {},
   "outputs": [
    {
     "data": {
      "text/plain": [
       "'{\"status\":\"ok\",\"totalResults\":35,\"articles\":[{\"source\":{\"id\":\"usa-today\",\"name\":\"USA Today\"},\"author\":\"Kathleen Wong\",\"title\":\"Eclipse 2024 events near me: A list of public festivities on April 8 - USA TODAY\",\"description\":\"From Texas to Maine, towns and cities across the nation are gearing up for the total solar eclipse with numerous events and viewing parties.\",\"url\":\"https://www.usatoday.com/story/travel/news/2024/03/15/solar-eclipse-2024-events-near-me/72949281007/\",\"urlToImage\":\"https://www.usatoday.com/gcdn/authoring/authoring-images/2024/03/02/USAT/72813901007-usatsi-22622749.jpg?crop=4656,2620,x0,y242&width=3200&height=1801&format=pjpg&auto=webp\",\"publishedAt\":\"2024-03-16T12:18:25Z\",\"content\":\"On April 8, the moon will obscure the entire face of the sun, resulting in a few minutes-long sudden transformation of day into night. Over a dozen lucky U.S. states are located in the eclipses path … [+13939 chars]\"},{\"source\":{\"id\":\"politico\",\"name\":\"Politico\"},\"author\":\"POLITICO\",\"title\":\"5 Scenarios for Russia After Putin\\'s Next Term - POLITICO\",\"description\":null,\"url\":\"https://www.politico.com/news/magazine/2024/03/16/5-scenarios-putin-next-term-russia-00142466\",\"urlToImage\":null,\"publishedAt\":\"2024-03-16T11:00:00Z\",\"content\":null},{\"source\":{\"id\":null,\"name\":\"NBCSports.com\"},\"author\":\"Michael David Smith\",\"title\":\"Kyler Murray: Honor to compete against Aaron Donald, thank god he retired - NBC Sports\",\"description\":\"Cardinals quarterback Kyler Murray is glad his days of facing Rams defensive tackle Aaron Donald twice a year are done.\",\"url\":\"https://www.nbcsports.com/nfl/profootballtalk/rumor-mill/news/kyler-murray-honor-to-compete-against-aaron-donald-thank-god-he-retired\",\"urlToImage\":\"https://nbcsports.brightspotcdn.com/dims4/default/062d441/2147483647/strip/true/crop/3045x1713+0+159/resize/1440x810!/quality/90/?url=https%3A%2F%2Fnbc-sports-production-nbc-sports.s3.us-east-1.amazonaws.com%2Fbrightspot%2Ff9%2Fb1%2F2ffb7bea4e21b7e2dcea9ab24bde%2Fhttps-delivery-gettyimages.com%2Fdownloads%2F1358876004\",\"publishedAt\":\"2024-03-16T09:56:47Z\",\"content\":\"Cardinals quarterback Kyler Murray is glad his days of facing Rams defensive tackle Aaron Donald twice a year are done.\\\\r\\\\nAfter Donald posted on social media that he is retiring, Murray replied to Don… [+306 chars]\"},{\"source\":{\"id\":\"newsweek\",\"name\":\"Newsweek\"},\"author\":\"Brendan Cole\",\"title\":\"Explosions Rock Oil Refineries Deep Inside Russia - Newsweek\",\"description\":\"Energy facilities in Samara region, over 500 miles southeast of Moscow, were the latest target to be hit by drones.\",\"url\":\"https://www.newsweek.com/russia-drone-strike-oil-samara-1879933\",\"urlToImage\":\"https://d.newsweek.com/en/full/2363130/syzran-oil-refinery.png\",\"publishedAt\":\"2024-03-16T09:43:28Z\",\"content\":\"Two oil refineries in Russia\\'s Samara region were hit in Ukrainian drone strikes, the local governor has said, in the latest strike against the country\\'s infrastructure facilities, which have caused … [+3720 chars]\"},{\"source\":{\"id\":\"the-washington-post\",\"name\":\"The Washington Post\"},\"author\":\"Kelsey Ables\",\"title\":\"Latest Israel-Hamas war news and Gaza conflict updates - The Washington Post\",\"description\":\"Humanitarian groups and several world leaders have warned that an invasion of the densely populated Gazan city could be disastrous for those seeking refuge there.\",\"url\":\"https://www.washingtonpost.com/world/2024/03/16/israel-hamas-war-news-gaza-palestine/\",\"urlToImage\":\"https://www.washingtonpost.com/wp-apps/imrs.php?src=https://arc-anglerfish-washpost-prod-washpost.s3.amazonaws.com/public/33MJDT5V2OJJ7WH6YOMP5MCYH4_size-normalized.jpg&w=1440\",\"publishedAt\":\"2024-03-16T09:01:00Z\",\"content\":\"Israeli Prime Minister Benjamin Netanyahu has approved plans for a military operation in Rafah, his office said Friday. The statement did not provide additional details about the offensive, which is … [+3521 chars]\"},{\"source\":{\"id\":\"engadget\",\"name\":\"Engadget\"},\"author\":\"Mariella Moon\",\"title\":\"The PS5 Pro is reportedly coming this holiday season - Engadget\",\"description\":\"Sony reportedly sent documentation for the PS5 Pro\\'s specs to third-party developers, and the company could release the console by the end of 2024.\",\"url\":\"https://www.engadget.com/the-ps5-pro-is-reportedly-coming-this-holiday-season-084404542.html\",\"urlToImage\":\"https://s.yimg.com/os/creatr-uploaded-images/2024-03/737d4ec0-e368-11ee-ad76-acd8a09c1ed1\",\"publishedAt\":\"2024-03-16T08:44:04Z\",\"content\":\"Confession time: I already have a copy of Final Fantasy XVI and Final Fantasy VII Rebirth for the PS5 even though I still don\\'t have a PlayStation 5 console. I never get consoles the moment they come… [+1693 chars]\"},{\"source\":{\"id\":null,\"name\":\"BBC News\"},\"author\":null,\"title\":\"Cara Delevingne\\'s LA home destroyed by fire - BBC.com\",\"description\":\"The British model and actress thought her two cats had died in the blaze - but\",\"url\":\"https://www.bbc.com/news/world-us-canada-68578823\",\"urlToImage\":\"https://ichef.bbci.co.uk/news/1024/branded_news/15999/production/_132937488_7f178422942a84ceaf60990e6918a02af0e77eae0_0_3262_47131384x2000.jpg\",\"publishedAt\":\"2024-03-16T07:59:27Z\",\"content\":null},{\"source\":{\"id\":\"cnn\",\"name\":\"CNN\"},\"author\":\"Dalia Faheid\",\"title\":\"Residents in Indiana and Ohio are surveying the damage after tornadoes collapsed homes and left at least 3 dead - CNN\",\"description\":\"Residents are surveying the damage to their homes as cleanup efforts continue this weekend after several tornadoes ripped across the Midwest, killing at least three people and destroying neighborhoods.\",\"url\":\"https://www.cnn.com/2024/03/16/us/tornadoes-ohio-indiana-damage-saturday/index.html\",\"urlToImage\":\"https://media.cnn.com/api/v1/images/stellar/prod/ap24075580897796.jpg?c=16x9&q=w_800,c_fill\",\"publishedAt\":\"2024-03-16T07:54:00Z\",\"content\":\"Residents are surveying the damage to their homes as cleanup efforts continue this weekend after several tornadoes ripped across the Midwest, killing at least three people and destroying neighborhood… [+5355 chars]\"},{\"source\":{\"id\":null,\"name\":\"New York Post\"},\"author\":\"Nicholas McEntyre\",\"title\":\"Winner of Powerball\\'s second-largest jackpot worth $1.765B revealed - New York Post \",\"description\":\"The brand-new billionaire was described as a 65-year-old\\xa0resident of the mountain town of approximately 3,000 people who lives only 500 yards from the store.\",\"url\":\"https://nypost.com/2024/03/16/us-news/powerball-1-765-billion-jackpot-winner-theodorus-struyck-revealed-in-california/\",\"urlToImage\":\"https://nypost.com/wp-content/uploads/sites/2/2024/03/powerball.jpg?quality=75&strip=all&1710551248&w=1024\",\"publishedAt\":\"2024-03-16T05:37:08Z\",\"content\":\"Golden State billionaire!\\\\r\\\\nThe winner of Powerball’s second largest jackpot prize worth $1.765B was revealed Friday five months after the life-changing drawing. \\\\r\\\\nTheodorus Struyck was named as the r… [+3515 chars]\"},{\"source\":{\"id\":\"espn\",\"name\":\"ESPN\"},\"author\":null,\"title\":\"UConn\\'s Dan Hurley, irritated by a fan, gets technical foul - ESPN\",\"description\":\"UConn coach Dan Hurley said he received a technical foul after pointing out an unruly fan to officials during the Huskies\\' 95-90 win over St. John\\'s in Friday\\'s Big East tournament semifinals.\",\"url\":\"https://www.espn.com/mens-college-basketball/story/_/id/39742728/uconn-dan-hurley-irritated-fan-gets-technical-foul\",\"urlToImage\":\"https://a3.espncdn.com/combiner/i?img=%2Fphoto%2F2024%2F0316%2Fr1305673_1296x729_16%2D9.jpg\",\"publishedAt\":\"2024-03-16T04:34:00Z\",\"content\":\"Mar 15, 2024, 11:34 PM ET\\\\r\\\\nNEW YORK -- UConn coach Dan Hurley got heated about a fan again Friday night.\\\\r\\\\nMoments after St. John\\'s counterpart Rick Pitino received a technical foul for shouting at of… [+3561 chars]\"},{\"source\":{\"id\":null,\"name\":\"CBS Sports\"},\"author\":null,\"title\":\"NC State Wolfpack vs. Virginia Cavaliers Live Score and Stats - March 15, 2024 Gametracker - CBS Sports\",\"description\":\"Get real-time COLLEGEBASKETBALL basketball coverage and scores as NC State Wolfpack takes on Virginia Cavaliers. We bring you the latest game previews, live stats, and recaps on CBSSports.com\",\"url\":\"https://www.cbssports.com/college-basketball/gametracker/recap/NCAAB_20240315_NCST@UVA/\",\"urlToImage\":\"https://sportsfly.cbsistatic.com/fly-0658/bundles/sportsmediacss/images/fantasy/default-article-image-large.png\",\"publishedAt\":\"2024-03-16T04:18:45Z\",\"content\":\"WASHINGTON (AP) Michael O\\'Connell kept North Carolina State\\'s NCAA Tournament hopes alive by the slimmest of margins, banking in a wild 3-pointer at the buzzer to force overtime in a 73-65 victory ov… [+2500 chars]\"},{\"source\":{\"id\":\"associated-press\",\"name\":\"Associated Press\"},\"author\":\"LEAH WILLINGHAM\",\"title\":\"TikTok creators warn of economic impact if app sees ban, call it a vital space for the marginalized - The Associated Press\",\"description\":\"TikTok creators across the country are expressing frustration over a bill passed by the U.S. House of Representatives that would lead to a nationwide ban of the app if its China-based owner doesn\\'t sell its stake. The proposal is awaiting Senate input. Conten…\",\"url\":\"https://apnews.com/article/tiktok-ban-reaction-influencers-4ae88afbc344630b2c1091a4a1784078\",\"urlToImage\":\"https://dims.apnews.com/dims4/default/79a4caa/2147483647/strip/true/crop/6000x3375+0+312/resize/1440x810!/quality/90/?url=https%3A%2F%2Fassets.apnews.com%2F59%2F41%2F5893ba3333fc284ca87d588fa751%2F1ba3b5ada91048ee915b02e8aaa8efbb\",\"publishedAt\":\"2024-03-16T04:11:00Z\",\"content\":\"Alex Pearlman shut the door on dreams of a standup comedy career almost a decade ago, pivoting from the stage to an office cubicle where he worked a customer service job. \\\\r\\\\nThen he started posting ra… [+6645 chars]\"},{\"source\":{\"id\":\"the-hill\",\"name\":\"The Hill\"},\"author\":\"Sarah Polus\",\"title\":\"United Airlines Boeing plane lands without external panel - The Hill\",\"description\":\"An external panel was found to be missing from a Boeing United Airlines flight after it landed in southern Oregon on Friday. United Flight 433, which departed from San Francisco at 10:20 a.m., landed in Medford, Ore., just before noon. The external panel was …\",\"url\":\"https://thehill.com/homenews/4535836-united-airlines-boeing-plane-lands-without-external-panel/\",\"urlToImage\":\"https://thehill.com/wp-content/uploads/sites/2/2024/03/AP24045157363252-e1710002127503.jpg?w=1280\",\"publishedAt\":\"2024-03-16T04:01:00Z\",\"content\":\"An external panel was found to be missing from a Boeing United Airlines flight after it landed in southern Oregon on Friday.\\\\r\\\\nUnited Flight 433, which departed from San Francisco at 10:20 a.m., lande… [+1347 chars]\"},{\"source\":{\"id\":\"cbs-news\",\"name\":\"CBS News\"},\"author\":\"Alexandra Todd\",\"title\":\"Reported Kenny Pickett trade sends shockwaves through Steelers Nation - CBS Pittsburgh\",\"description\":\"Fans all over Pittsburgh have an opinion on Pickett\\'s time as quarterback, but most people were surprised by the news.\",\"url\":\"https://www.cbsnews.com/pittsburgh/news/reported-kenny-pickett-trade-steelers-fans-react/\",\"urlToImage\":\"https://assets2.cbsnewsstatic.com/hub/i/r/2024/03/15/24a6dc8b-dec9-4ab6-b80a-e0edd2d52206/thumbnail/1200x630/966992303ea7a098013bc9c0703b63ab/gettyimages-1935657137.jpg?v=d1d78866939020fc1f2607ef7298e4ec\",\"publishedAt\":\"2024-03-16T03:13:00Z\",\"content\":\"PITTSBURGH (KDKA) — The reports of Kenny Pickett heading across the state sent shockwaves throughout Steelers Nation.\\\\r\\\\nFans all over Pittsburgh have an opinion on Pickett\\'s time as quarterback, but m… [+1223 chars]\"},{\"source\":{\"id\":null,\"name\":\"SciTechDaily\"},\"author\":null,\"title\":\"Jupiter Unveiled: Hubble Captures the Giant\\'s Roaring Storms and Volcanic Moon Io - SciTechDaily\",\"description\":\"Cyclones, Wind Shear, Violent Storms Churn in Jupiter\\'s Atmosphere The largest and nearest of the giant outer planets, Jupiter\\'s colorful clouds present an ever-changing kaleidoscope of shapes and colors. This is a planet where there is always stormy weather:…\",\"url\":\"https://scitechdaily.com/jupiter-unveiled-hubble-captures-the-giants-roaring-storms-and-volcanic-moon-io/\",\"urlToImage\":\"https://scitechdaily.com/images/Hubble-2024-Jupiter-scaled.jpg\",\"publishedAt\":\"2024-03-16T02:58:06Z\",\"content\":\"NASA’s Hubble Space Telescope captured new images of Jupiter on January 5-6, 2024, revealing dynamic weather patterns and notable storms like the Great Red Spot and Red Spot Jr. The observations are … [+6761 chars]\"},{\"source\":{\"id\":\"cnn\",\"name\":\"CNN\"},\"author\":\"Caitlin Stephen Hu, David Culver, Evelio Contreras, Tara John\",\"title\":\"Inside Haiti: A lucky few escape, while millions face gang rule, hunger and chaos - CNN\",\"description\":\"The only thing coming into Haiti’s violent capital Port-au-Prince are the private evacuation helicopters – a bitter reminder of the inequality that has plagued Haiti for decades.\",\"url\":\"https://www.cnn.com/2024/03/15/americas/haiti-port-au-prince-gangs-escape-intl-latam/index.html\",\"urlToImage\":\"https://media.cnn.com/api/v1/images/stellar/prod/240315201412-culver-heli-vpx.jpg?c=16x9&q=w_800,c_fill\",\"publishedAt\":\"2024-03-16T02:16:00Z\",\"content\":\"Port-au-Prince, HaitiCNN\\\\r\\\\n \\xa0—\\xa0\\\\r\\\\nIn a city silenced by gangs, everyone notices the thrum of a helicopter beating overhead in the night a brief sign that someone very lucky has been able to leave Port-… [+5231 chars]\"},{\"source\":{\"id\":\"fox-news\",\"name\":\"Fox News\"},\"author\":\"Fox News Staff\",\"title\":\"SEAN HANNITY: Trump prosecutor Fani Willis threw \\'lover\\' Nathan Wade \\'under the bus\\' - Fox News\",\"description\":\"Fox News host Sean Hannity criticized Superior Court Judge Scott McAfee\\'s ruling in the case to remove DA Fani Willis from the Georgia-Trump case \\\\\"despite all the misconduct\\\\\" on \\\\\"Hannity.\\\\\"\",\"url\":\"https://www.foxnews.com/media/sean-hannity-trump-prosecutor-fani-willis-lover-nathan-wade\",\"urlToImage\":\"https://cf-images.us-east-1.prod.boltdns.net/v1/static/694940094001/1b650cf3-4145-47d9-87d5-407cdde65856/bb564018-2c0a-404f-9bca-59dfc2a84f01/1280x720/match/image.jpg\",\"publishedAt\":\"2024-03-16T01:29:15Z\",\"content\":\"Fox News host Sean Hannity reacts to a ruling in the case to remove Fulton County District Attorney Fani Willis from the Georgia election interference case against former President Trump on \\\\\"Hannity.… [+1522 chars]\"},{\"source\":{\"id\":\"cnn\",\"name\":\"CNN\"},\"author\":\"David Goldman, Anna Bahney\",\"title\":\"The 6% commission on buying or selling a home is gone after Realtors association agrees to seismic settlement - CNN\",\"description\":\"The 6% commission, a standard in home purchase transactions, is no more.\",\"url\":\"https://www.cnn.com/2024/03/15/economy/nar-realtor-commissions-settlement/index.html\",\"urlToImage\":\"https://media.cnn.com/api/v1/images/stellar/prod/gettyimages-1878228781.jpg?c=16x9&q=w_800,c_fill\",\"publishedAt\":\"2024-03-16T01:17:00Z\",\"content\":\"The 6% commission, a standard in home purchase transactions, is no more.\\\\r\\\\nIn a sweeping\\xa0move\\xa0expected to dramatically reduce the cost of buying and selling a home, the National Association of Realtor… [+8396 chars]\"},{\"source\":{\"id\":null,\"name\":\"Miami Herald\"},\"author\":\"Devoun Cetoute, Aaron Leibowitz, Vinod Sreeharsha\",\"title\":\"Photos: Miami Beach curfew clears out Ocean Drive during peak spring break weekend - Miami Herald\",\"description\":\"A peak spring break weekend in Miami Beach sees large crowds on Ocean Drive during the day and an effective curfew at night.\",\"url\":\"https://www.miamiherald.com/news/local/community/miami-dade/miami-beach/article286689160.html\",\"urlToImage\":\"https://www.miamiherald.com/latest-news/mm5fkl/picture286765340/alternates/LANDSCAPE_1140/MIA_Spring_Break_MJO_29\",\"publishedAt\":\"2024-03-15T23:34:00Z\",\"content\":\"Miami Beach\\\\r\\\\nThirty minutes before a curfew in South Beach took effect Friday, a parade of police ATVs rolled down Ocean Drive, blaring a prerecorded message. \\\\r\\\\nGood evening. As we continue to priori… [+9118 chars]\"},{\"source\":{\"id\":null,\"name\":\"KSAT San Antonio\"},\"author\":\"John Paul Barajas, Adam Barraza\",\"title\":\"Colon cancer growing danger for particular age group, San Antonio doctor says - KSAT San Antonio\",\"description\":\"March is Colorectal Cancer Awareness Month; the American Cancer Society estimates that 53,000 Americans will die from it in 2024.\",\"url\":\"https://www.ksat.com/news/local/2024/03/15/colon-cancer-growing-danger-for-particular-age-group-san-antonio-doctor-says/\",\"urlToImage\":\"https://res.cloudinary.com/graham-media-group/image/upload/f_auto/q_auto/c_thumb,w_700/v1/arc-cf/03-15-2024/t_7fa7c4b98bb9446f97e3ae7b28a71a26_name_image.jpg?_a=ATAPphC0\",\"publishedAt\":\"2024-03-15T23:17:50Z\",\"content\":\"SAN ANTONIO Its one of the deadliest cancers in America. But do you know the signs of colorectal cancer?\\\\r\\\\nMarch is Colorectal Cancer Awareness Month; the American Cancer Society estimates that 53,000… [+1414 chars]\"}]}'"
      ]
     },
     "execution_count": 47,
     "metadata": {},
     "output_type": "execute_result"
    }
   ],
   "source": [
    "response.text"
   ]
  },
  {
   "cell_type": "code",
   "execution_count": 48,
   "id": "b59bbee9",
   "metadata": {},
   "outputs": [
    {
     "data": {
      "text/plain": [
       "'{\"message\":\"The Cat API\",\"version\":\"1.3.9\"}'"
      ]
     },
     "execution_count": 48,
     "metadata": {},
     "output_type": "execute_result"
    }
   ],
   "source": [
    "import requests\n",
    "response = requests.get(\"https://api.thecatapi.com/\")\n",
    "response.text"
   ]
  },
  {
   "cell_type": "code",
   "execution_count": 49,
   "id": "1d359d42",
   "metadata": {},
   "outputs": [
    {
     "data": {
      "text/plain": [
       "'[{\"weight\":{\"imperial\":\"7  -  10\",\"metric\":\"3 - 5\"},\"id\":\"abys\",\"name\":\"Abyssinian\",\"cfa_url\":\"http://cfa.org/Breeds/BreedsAB/Abyssinian.aspx\",\"vetstreet_url\":\"http://www.vetstreet.com/cats/abyssinian\",\"vcahospitals_url\":\"https://vcahospitals.com/know-your-pet/cat-breeds/abyssinian\",\"temperament\":\"Active, Energetic, Independent, Intelligent, Gentle\",\"origin\":\"Egypt\",\"country_codes\":\"EG\",\"country_code\":\"EG\",\"description\":\"The Abyssinian is easy to care for, and a joy to have in your home. They’re affectionate cats and love both people and other animals.\",\"life_span\":\"14 - 15\",\"indoor\":0,\"lap\":1,\"alt_names\":\"\",\"adaptability\":5,\"affection_level\":5,\"child_friendly\":3,\"dog_friendly\":4,\"energy_level\":5,\"grooming\":1,\"health_issues\":2,\"intelligence\":5,\"shedding_level\":2,\"social_needs\":5,\"stranger_friendly\":5,\"vocalisation\":1,\"experimental\":0,\"hairless\":0,\"natural\":1,\"rare\":0,\"rex\":0,\"suppressed_tail\":0,\"short_legs\":0,\"wikipedia_url\":\"https://en.wikipedia.org/wiki/Abyssinian_(cat)\",\"hypoallergenic\":0,\"reference_image_id\":\"0XYvRd7oD\"},{\"weight\":{\"imperial\":\"7 - 10\",\"metric\":\"3 - 5\"},\"id\":\"aege\",\"name\":\"Aegean\",\"vetstreet_url\":\"http://www.vetstreet.com/cats/aegean-cat\",\"temperament\":\"Affectionate, Social, Intelligent, Playful, Active\",\"origin\":\"Greece\",\"country_codes\":\"GR\",\"country_code\":\"GR\",\"description\":\"Native to the Greek islands known as the Cyclades in the Aegean Sea, these are natural cats, meaning they developed without humans getting involved in their breeding. As a breed, Aegean Cats are rare, although they are numerous on their home islands. They are generally friendly toward people and can be excellent cats for families with children.\",\"life_span\":\"9 - 12\",\"indoor\":0,\"alt_names\":\"\",\"adaptability\":5,\"affection_level\":4,\"child_friendly\":4,\"dog_friendly\":4,\"energy_level\":3,\"grooming\":3,\"health_issues\":1,\"intelligence\":3,\"shedding_level\":3,\"social_needs\":4,\"stranger_friendly\":4,\"vocalisation\":3,\"experimental\":0,\"hairless\":0,\"natural\":0,\"rare\":0,\"rex\":0,\"suppressed_tail\":0,\"short_legs\":0,\"wikipedia_url\":\"https://en.wikipedia.org/wiki/Aegean_cat\",\"hypoallergenic\":0,\"reference_image_id\":\"ozEvzdVM-\"},{\"weight\":{\"imperial\":\"7 - 16\",\"metric\":\"3 - 7\"},\"id\":\"abob\",\"name\":\"American Bobtail\",\"cfa_url\":\"http://cfa.org/Breeds/BreedsAB/AmericanBobtail.aspx\",\"vetstreet_url\":\"http://www.vetstreet.com/cats/american-bobtail\",\"vcahospitals_url\":\"https://vcahospitals.com/know-your-pet/cat-breeds/american-bobtail\",\"temperament\":\"Intelligent, Interactive, Lively, Playful, Sensitive\",\"origin\":\"United States\",\"country_codes\":\"US\",\"country_code\":\"US\",\"description\":\"American Bobtails are loving and incredibly intelligent cats possessing a distinctive wild appearance. They are extremely interactive cats that bond with their human family with great devotion.\",\"life_span\":\"11 - 15\",\"indoor\":0,\"lap\":1,\"alt_names\":\"\",\"adaptability\":5,\"affection_level\":5,\"child_friendly\":4,\"dog_friendly\":5,\"energy_level\":3,\"grooming\":1,\"health_issues\":1,\"intelligence\":5,\"shedding_level\":3,\"social_needs\":3,\"stranger_friendly\":3,\"vocalisation\":3,\"experimental\":0,\"hairless\":0,\"natural\":0,\"rare\":0,\"rex\":0,\"suppressed_tail\":1,\"short_legs\":0,\"wikipedia_url\":\"https://en.wikipedia.org/wiki/American_Bobtail\",\"hypoallergenic\":0,\"reference_image_id\":\"hBXicehMA\"},{\"weight\":{\"imperial\":\"5 - 10\",\"metric\":\"2 - 5\"},\"id\":\"acur\",\"name\":\"American Curl\",\"cfa_url\":\"http://cfa.org/Breeds/BreedsAB/AmericanCurl.aspx\",\"vetstreet_url\":\"http://www.vetstreet.com/cats/american-curl\",\"vcahospitals_url\":\"https://vcahospitals.com/know-your-pet/cat-breeds/american-curl\",\"temperament\":\"Affectionate, Curious, Intelligent, Interactive, Lively, Playful, Social\",\"origin\":\"United States\",\"country_codes\":\"US\",\"country_code\":\"US\",\"description\":\"Distinguished by truly unique ears that curl back in a graceful arc, offering an alert, perky, happily surprised expression, they cause people to break out into a big smile when viewing their first Curl. Curls are very people-oriented, faithful, affectionate soulmates, adjusting remarkably fast to other pets, children, and new situations.\",\"life_span\":\"12 - 16\",\"indoor\":0,\"lap\":1,\"alt_names\":\"\",\"adaptability\":5,\"affection_level\":5,\"child_friendly\":4,\"dog_friendly\":5,\"energy_level\":3,\"grooming\":2,\"health_issues\":1,\"intelligence\":3,\"shedding_level\":3,\"social_needs\":3,\"stranger_friendly\":3,\"vocalisation\":3,\"experimental\":0,\"hairless\":0,\"natural\":0,\"rare\":0,\"rex\":0,\"suppressed_tail\":0,\"short_legs\":0,\"wikipedia_url\":\"https://en.wikipedia.org/wiki/American_Curl\",\"hypoallergenic\":0,\"reference_image_id\":\"xnsqonbjW\"},{\"weight\":{\"imperial\":\"8 - 15\",\"metric\":\"4 - 7\"},\"id\":\"asho\",\"name\":\"American Shorthair\",\"cfa_url\":\"http://cfa.org/Breeds/BreedsAB/AmericanShorthair.aspx\",\"vetstreet_url\":\"http://www.vetstreet.com/cats/american-shorthair\",\"vcahospitals_url\":\"https://vcahospitals.com/know-your-pet/cat-breeds/american-shorthair\",\"temperament\":\"Active, Curious, Easy Going, Playful, Calm\",\"origin\":\"United States\",\"country_codes\":\"US\",\"country_code\":\"US\",\"description\":\"The American Shorthair is known for its longevity, robust health, good looks, sweet personality, and amiability with children, dogs, and other pets.\",\"life_span\":\"15 - 17\",\"indoor\":0,\"lap\":1,\"alt_names\":\"Domestic Shorthair\",\"adaptability\":5,\"affection_level\":5,\"child_friendly\":4,\"dog_friendly\":5,\"energy_level\":3,\"grooming\":1,\"health_issues\":3,\"intelligence\":3,\"shedding_level\":3,\"social_needs\":4,\"stranger_friendly\":3,\"vocalisation\":3,\"experimental\":0,\"hairless\":0,\"natural\":1,\"rare\":0,\"rex\":0,\"suppressed_tail\":0,\"short_legs\":0,\"wikipedia_url\":\"https://en.wikipedia.org/wiki/American_Shorthair\",\"hypoallergenic\":0,\"reference_image_id\":\"JFPROfGtQ\"},{\"weight\":{\"imperial\":\"8 - 15\",\"metric\":\"4 - 7\"},\"id\":\"awir\",\"name\":\"American Wirehair\",\"cfa_url\":\"http://cfa.org/Breeds/BreedsAB/AmericanWirehair.aspx\",\"vetstreet_url\":\"http://www.vetstreet.com/cats/american-wirehair\",\"temperament\":\"Affectionate, Curious, Gentle, Intelligent, Interactive, Lively, Loyal, Playful, Sensible, Social\",\"origin\":\"United States\",\"country_codes\":\"US\",\"country_code\":\"US\",\"description\":\"The American Wirehair tends to be a calm and tolerant cat who takes life as it comes. His favorite hobby is bird-watching from a sunny windowsill, and his hunting ability will stand you in good stead if insects enter the house.\",\"life_span\":\"14 - 18\",\"indoor\":0,\"lap\":1,\"alt_names\":\"\",\"adaptability\":5,\"affection_level\":5,\"child_friendly\":4,\"dog_friendly\":5,\"energy_level\":3,\"grooming\":1,\"health_issues\":3,\"intelligence\":3,\"shedding_level\":1,\"social_needs\":3,\"stranger_friendly\":3,\"vocalisation\":3,\"experimental\":0,\"hairless\":0,\"natural\":0,\"rare\":0,\"rex\":0,\"suppressed_tail\":0,\"short_legs\":0,\"wikipedia_url\":\"https://en.wikipedia.org/wiki/American_Wirehair\",\"hypoallergenic\":0,\"reference_image_id\":\"8D--jCd21\"},{\"weight\":{\"imperial\":\"8 - 16\",\"metric\":\"4 - 7\"},\"id\":\"amau\",\"name\":\"Arabian Mau\",\"vcahospitals_url\":\"\",\"temperament\":\"Affectionate, Agile, Curious, Independent, Playful, Loyal\",\"origin\":\"United Arab Emirates\",\"country_codes\":\"AE\",\"country_code\":\"AE\",\"description\":\"Arabian Mau cats are social and energetic. Due to their energy levels, these cats do best in homes where their owners will be able to provide them with plenty of playtime, attention and interaction from their owners. These kitties are friendly, intelligent, and adaptable, and will even get along well with other pets and children.\",\"life_span\":\"12 - 14\",\"indoor\":0,\"alt_names\":\"Alley cat\",\"adaptability\":5,\"affection_level\":5,\"child_friendly\":4,\"dog_friendly\":5,\"energy_level\":4,\"grooming\":1,\"health_issues\":1,\"intelligence\":3,\"shedding_level\":1,\"social_needs\":3,\"stranger_friendly\":3,\"vocalisation\":1,\"experimental\":0,\"hairless\":0,\"natural\":1,\"rare\":0,\"rex\":0,\"suppressed_tail\":0,\"short_legs\":0,\"wikipedia_url\":\"https://en.wikipedia.org/wiki/Arabian_Mau\",\"hypoallergenic\":0,\"reference_image_id\":\"k71ULYfRr\"},{\"weight\":{\"imperial\":\"7 - 15\",\"metric\":\"3 - 7\"},\"id\":\"amis\",\"name\":\"Australian Mist\",\"temperament\":\"Lively, Social, Fun-loving, Relaxed, Affectionate\",\"origin\":\"Australia\",\"country_codes\":\"AU\",\"country_code\":\"AU\",\"description\":\"The Australian Mist thrives on human companionship. Tolerant of even the youngest of children, these friendly felines enjoy playing games and being part of the hustle and bustle of a busy household. They make entertaining companions for people of all ages, and are happy to remain indoors between dusk and dawn or to be wholly indoor pets.\",\"life_span\":\"12 - 16\",\"indoor\":0,\"lap\":1,\"alt_names\":\"Spotted Mist\",\"adaptability\":5,\"affection_level\":5,\"child_friendly\":4,\"dog_friendly\":5,\"energy_level\":4,\"grooming\":3,\"health_issues\":1,\"intelligence\":4,\"shedding_level\":3,\"social_needs\":4,\"stranger_friendly\":4,\"vocalisation\":3,\"experimental\":0,\"hairless\":0,\"natural\":0,\"rare\":0,\"rex\":0,\"suppressed_tail\":0,\"short_legs\":0,\"wikipedia_url\":\"https://en.wikipedia.org/wiki/Australian_Mist\",\"hypoallergenic\":0,\"reference_image_id\":\"_6x-3TiCA\"},{\"weight\":{\"imperial\":\"4 - 10\",\"metric\":\"2 - 5\"},\"id\":\"bali\",\"name\":\"Balinese\",\"cfa_url\":\"http://cfa.org/Breeds/BreedsAB/Balinese.aspx\",\"vetstreet_url\":\"http://www.vetstreet.com/cats/balinese\",\"vcahospitals_url\":\"https://vcahospitals.com/know-your-pet/cat-breeds/balinese\",\"temperament\":\"Affectionate, Intelligent, Playful\",\"origin\":\"United States\",\"country_codes\":\"US\",\"country_code\":\"US\",\"description\":\"Balinese are curious, outgoing, intelligent cats with excellent communication skills. They are known for their chatty personalities and are always eager to tell you their views on life, love, and what you’ve served them for dinner. \",\"life_span\":\"10 - 15\",\"indoor\":0,\"alt_names\":\"Long-haired Siamese\",\"adaptability\":5,\"affection_level\":5,\"child_friendly\":4,\"dog_friendly\":5,\"energy_level\":5,\"grooming\":3,\"health_issues\":3,\"intelligence\":5,\"shedding_level\":3,\"social_needs\":5,\"stranger_friendly\":5,\"vocalisation\":5,\"experimental\":0,\"hairless\":0,\"natural\":0,\"rare\":0,\"rex\":0,\"suppressed_tail\":0,\"short_legs\":0,\"wikipedia_url\":\"https://en.wikipedia.org/wiki/Balinese_(cat)\",\"hypoallergenic\":1,\"reference_image_id\":\"13MkvUreZ\"},{\"weight\":{\"imperial\":\"4 - 9\",\"metric\":\"2 - 4\"},\"id\":\"bamb\",\"name\":\"Bambino\",\"temperament\":\"Affectionate, Lively, Friendly, Intelligent\",\"origin\":\"United States\",\"country_codes\":\"US\",\"country_code\":\"US\",\"description\":\"The Bambino is a breed of cat that was created as a cross between the Sphynx and the Munchkin breeds. The Bambino cat has short legs, large upright ears, and is usually hairless. They love to be handled and cuddled up on the laps of their family members.\",\"life_span\":\"12 - 14\",\"indoor\":0,\"lap\":1,\"alt_names\":\"\",\"adaptability\":5,\"affection_level\":5,\"child_friendly\":4,\"dog_friendly\":5,\"energy_level\":5,\"grooming\":1,\"health_issues\":1,\"intelligence\":5,\"shedding_level\":1,\"social_needs\":3,\"stranger_friendly\":3,\"vocalisation\":3,\"experimental\":1,\"hairless\":1,\"natural\":0,\"rare\":0,\"rex\":0,\"suppressed_tail\":0,\"short_legs\":1,\"wikipedia_url\":\"https://en.wikipedia.org/wiki/Bambino_cat\",\"hypoallergenic\":0,\"reference_image_id\":\"5AdhMjeEu\"},{\"weight\":{\"imperial\":\"6 - 12\",\"metric\":\"3 - 7\"},\"id\":\"beng\",\"name\":\"Bengal\",\"cfa_url\":\"http://cfa.org/Breeds/BreedsAB/Bengal.aspx\",\"vetstreet_url\":\"http://www.vetstreet.com/cats/bengal\",\"vcahospitals_url\":\"https://vcahospitals.com/know-your-pet/cat-breeds/bengal\",\"temperament\":\"Alert, Agile, Energetic, Demanding, Intelligent\",\"origin\":\"United States\",\"country_codes\":\"US\",\"country_code\":\"US\",\"description\":\"Bengals are a lot of fun to live with, but they\\'re definitely not the cat for everyone, or for first-time cat owners. Extremely intelligent, curious and active, they demand a lot of interaction and woe betide the owner who doesn\\'t provide it.\",\"life_span\":\"12 - 15\",\"indoor\":0,\"lap\":0,\"adaptability\":5,\"affection_level\":5,\"child_friendly\":4,\"cat_friendly\":4,\"dog_friendly\":5,\"energy_level\":5,\"grooming\":1,\"health_issues\":3,\"intelligence\":5,\"shedding_level\":3,\"social_needs\":5,\"stranger_friendly\":3,\"vocalisation\":5,\"bidability\":3,\"experimental\":0,\"hairless\":0,\"natural\":0,\"rare\":0,\"rex\":0,\"suppressed_tail\":0,\"short_legs\":0,\"wikipedia_url\":\"https://en.wikipedia.org/wiki/Bengal_(cat)\",\"hypoallergenic\":1,\"reference_image_id\":\"O3btzLlsO\"},{\"weight\":{\"imperial\":\"6 - 15\",\"metric\":\"3 - 7\"},\"id\":\"birm\",\"name\":\"Birman\",\"cfa_url\":\"http://cfa.org/Breeds/BreedsAB/Birman.aspx\",\"vetstreet_url\":\"http://www.vetstreet.com/cats/birman\",\"vcahospitals_url\":\"https://vcahospitals.com/know-your-pet/cat-breeds/birman\",\"temperament\":\"Affectionate, Active, Gentle, Social\",\"origin\":\"France\",\"country_codes\":\"FR\",\"country_code\":\"FR\",\"description\":\"The Birman is a docile, quiet cat who loves people and will follow them from room to room. Expect the Birman to want to be involved in what you’re doing. He communicates in a soft voice, mainly to remind you that perhaps it’s time for dinner or maybe for a nice cuddle on the sofa. He enjoys being held and will relax in your arms like a furry baby.\",\"life_span\":\"14 - 15\",\"indoor\":0,\"lap\":1,\"alt_names\":\"Sacred Birman, Sacred Cat Of Burma\",\"adaptability\":5,\"affection_level\":5,\"child_friendly\":4,\"dog_friendly\":5,\"energy_level\":3,\"grooming\":2,\"health_issues\":1,\"intelligence\":3,\"shedding_level\":3,\"social_needs\":4,\"stranger_friendly\":3,\"vocalisation\":1,\"experimental\":0,\"hairless\":0,\"natural\":0,\"rare\":0,\"rex\":0,\"suppressed_tail\":0,\"short_legs\":0,\"wikipedia_url\":\"https://en.wikipedia.org/wiki/Birman\",\"hypoallergenic\":0,\"reference_image_id\":\"HOrX5gwLS\"},{\"weight\":{\"imperial\":\"6 - 11\",\"metric\":\"3 - 5\"},\"id\":\"bomb\",\"name\":\"Bombay\",\"cfa_url\":\"http://cfa.org/Breeds/BreedsAB/Bombay.aspx\",\"vetstreet_url\":\"http://www.vetstreet.com/cats/bombay\",\"vcahospitals_url\":\"https://vcahospitals.com/know-your-pet/cat-breeds/bombay\",\"temperament\":\"Affectionate, Dependent, Gentle, Intelligent, Playful\",\"origin\":\"United States\",\"country_codes\":\"US\",\"country_code\":\"US\",\"description\":\"The the golden eyes and the shiny black coa of the Bopmbay is absolutely striking. Likely to bond most with one family member, the Bombay will follow you from room to room and will almost always have something to say about what you are doing, loving attention and to be carried around, often on his caregiver\\'s shoulder.\",\"life_span\":\"12 - 16\",\"indoor\":0,\"lap\":1,\"alt_names\":\"Small black Panther\",\"adaptability\":5,\"affection_level\":5,\"child_friendly\":4,\"dog_friendly\":5,\"energy_level\":3,\"grooming\":1,\"health_issues\":3,\"intelligence\":5,\"shedding_level\":3,\"social_needs\":4,\"stranger_friendly\":4,\"vocalisation\":5,\"experimental\":0,\"hairless\":0,\"natural\":0,\"rare\":0,\"rex\":0,\"suppressed_tail\":0,\"short_legs\":0,\"wikipedia_url\":\"https://en.wikipedia.org/wiki/Bombay_(cat)\",\"hypoallergenic\":0,\"reference_image_id\":\"5iYq9NmT1\"},{\"weight\":{\"imperial\":\"8 - 18\",\"metric\":\"4 - 8\"},\"id\":\"bslo\",\"name\":\"British Longhair\",\"temperament\":\"Affectionate, Easy Going, Independent, Intelligent, Loyal, Social\",\"origin\":\"United Kingdom\",\"country_codes\":\"GB\",\"country_code\":\"GB\",\"description\":\"The British Longhair is a very laid-back relaxed cat, often perceived to be very independent although they will enjoy the company of an equally relaxed and likeminded cat. They are an affectionate breed, but very much on their own terms and tend to prefer to choose to come and sit with their owners rather than being picked up.\",\"life_span\":\"12 - 14\",\"indoor\":0,\"alt_names\":\"\",\"adaptability\":5,\"affection_level\":5,\"child_friendly\":4,\"dog_friendly\":5,\"energy_level\":4,\"grooming\":5,\"health_issues\":1,\"intelligence\":5,\"shedding_level\":1,\"social_needs\":3,\"stranger_friendly\":4,\"vocalisation\":1,\"experimental\":0,\"hairless\":0,\"natural\":0,\"rare\":0,\"rex\":0,\"suppressed_tail\":0,\"short_legs\":0,\"wikipedia_url\":\"https://en.wikipedia.org/wiki/British_Longhair\",\"hypoallergenic\":0,\"reference_image_id\":\"7isAO4Cav\"},{\"weight\":{\"imperial\":\"12 - 20\",\"metric\":\"5 - 9\"},\"id\":\"bsho\",\"name\":\"British Shorthair\",\"cfa_url\":\"http://cfa.org/Breeds/BreedsAB/BritishShorthair.aspx\",\"vetstreet_url\":\"http://www.vetstreet.com/cats/british-shorthair\",\"vcahospitals_url\":\"https://vcahospitals.com/know-your-pet/cat-breeds/british-shorthair\",\"temperament\":\"Affectionate, Easy Going, Gentle, Loyal, Patient, calm\",\"origin\":\"United Kingdom\",\"country_codes\":\"GB\",\"country_code\":\"GB\",\"description\":\"The British Shorthair is a very pleasant cat to have as a companion, ans is easy going and placid. The British is a fiercely loyal, loving cat and will attach herself to every one of her family members. While loving to play, she doesn\\'t need hourly attention. If she is in the mood to play, she will find someone and bring a toy to that person. The British also plays well by herself, and thus is a good companion for single people.\",\"life_span\":\"12 - 17\",\"indoor\":0,\"lap\":1,\"alt_names\":\"Highlander, Highland Straight, Britannica\",\"adaptability\":5,\"affection_level\":4,\"child_friendly\":4,\"dog_friendly\":5,\"energy_level\":2,\"grooming\":2,\"health_issues\":2,\"intelligence\":3,\"shedding_level\":4,\"social_needs\":3,\"stranger_friendly\":2,\"vocalisation\":1,\"experimental\":0,\"hairless\":0,\"natural\":1,\"rare\":0,\"rex\":0,\"suppressed_tail\":0,\"short_legs\":0,\"wikipedia_url\":\"https://en.wikipedia.org/wiki/British_Shorthair\",\"hypoallergenic\":0,\"reference_image_id\":\"s4wQfYoEk\"},{\"weight\":{\"imperial\":\"6 - 12\",\"metric\":\"3 - 5\"},\"id\":\"bure\",\"name\":\"Burmese\",\"cfa_url\":\"http://cfa.org/Breeds/BreedsAB/Burmese.aspx\",\"vetstreet_url\":\"http://www.vetstreet.com/cats/burmese\",\"vcahospitals_url\":\"https://vcahospitals.com/know-your-pet/cat-breeds/burmese\",\"temperament\":\"Curious, Intelligent, Gentle, Social, Interactive, Playful, Lively\",\"origin\":\"Burma\",\"country_codes\":\"MM\",\"country_code\":\"MM\",\"description\":\"Burmese love being with people, playing with them, and keeping them entertained. They crave close physical contact and abhor an empty lap. They will follow their humans from room to room, and sleep in bed with them, preferably under the covers, cuddled as close as possible. At play, they will turn around to see if their human is watching and being entertained by their crazy antics.\",\"life_span\":\"15 - 16\",\"indoor\":0,\"lap\":1,\"alt_names\":\"\",\"adaptability\":5,\"affection_level\":5,\"child_friendly\":4,\"dog_friendly\":5,\"energy_level\":4,\"grooming\":1,\"health_issues\":3,\"intelligence\":5,\"shedding_level\":3,\"social_needs\":5,\"stranger_friendly\":5,\"vocalisation\":5,\"experimental\":0,\"hairless\":0,\"natural\":0,\"rare\":0,\"rex\":0,\"suppressed_tail\":0,\"short_legs\":0,\"wikipedia_url\":\"https://en.wikipedia.org/wiki/Burmese_(cat)\",\"hypoallergenic\":1,\"reference_image_id\":\"4lXnnfxac\"},{\"weight\":{\"imperial\":\"6 - 13\",\"metric\":\"3 - 6\"},\"id\":\"buri\",\"name\":\"Burmilla\",\"cfa_url\":\"http://cfa.org/Breeds/BreedsAB/Burmilla.aspx\",\"vetstreet_url\":\"http://www.vetstreet.com/cats/burmilla\",\"temperament\":\"Easy Going, Friendly, Intelligent, Lively, Playful, Social\",\"origin\":\"United Kingdom\",\"country_codes\":\"GB\",\"country_code\":\"GB\",\"description\":\"The Burmilla is a fairly placid cat. She tends to be an easy cat to get along with, requiring minimal care. The Burmilla is affectionate and sweet and makes a good companion, the Burmilla is an ideal companion to while away a lonely evening. Loyal, devoted, and affectionate, this cat will stay by its owner, always keeping them company.\",\"life_span\":\"10 - 15\",\"indoor\":0,\"lap\":1,\"alt_names\":\"\",\"adaptability\":5,\"affection_level\":5,\"child_friendly\":4,\"dog_friendly\":4,\"energy_level\":3,\"grooming\":3,\"health_issues\":3,\"intelligence\":3,\"shedding_level\":3,\"social_needs\":4,\"stranger_friendly\":3,\"vocalisation\":5,\"experimental\":0,\"hairless\":0,\"natural\":0,\"rare\":0,\"rex\":0,\"suppressed_tail\":0,\"short_legs\":0,\"wikipedia_url\":\"https://en.wikipedia.org/wiki/Burmilla\",\"hypoallergenic\":0,\"reference_image_id\":\"jvg3XfEdC\"},{\"weight\":{\"imperial\":\"10 - 15\",\"metric\":\"5 - 7\"},\"id\":\"cspa\",\"name\":\"California Spangled\",\"temperament\":\"Affectionate, Curious, Intelligent, Loyal, Social\",\"origin\":\"United States\",\"country_codes\":\"US\",\"country_code\":\"US\",\"description\":\"Perhaps the only thing about the California spangled cat that isn’t wild-like is its personality. Known to be affectionate, gentle and sociable, this breed enjoys spending a great deal of time with its owners. They are very playful, often choosing to perch in high locations and show off their acrobatic skills.\",\"life_span\":\"10 - 14\",\"indoor\":0,\"alt_names\":\"Spangle\",\"adaptability\":5,\"affection_level\":5,\"child_friendly\":4,\"dog_friendly\":5,\"energy_level\":5,\"grooming\":1,\"health_issues\":1,\"intelligence\":5,\"shedding_level\":1,\"social_needs\":3,\"stranger_friendly\":4,\"vocalisation\":1,\"experimental\":0,\"hairless\":0,\"natural\":0,\"rare\":0,\"rex\":0,\"suppressed_tail\":0,\"short_legs\":0,\"wikipedia_url\":\"https://en.wikipedia.org/wiki/California_Spangled\",\"hypoallergenic\":0,\"reference_image_id\":\"B1ERTmgph\"},{\"weight\":{\"imperial\":\"7 - 12\",\"metric\":\"3 - 5\"},\"id\":\"ctif\",\"name\":\"Chantilly-Tiffany\",\"temperament\":\"Affectionate, Demanding, Interactive, Loyal\",\"origin\":\"United States\",\"country_codes\":\"US\",\"country_code\":\"US\",\"description\":\"The Chantilly is a devoted companion and prefers company to being left alone. While the Chantilly is not demanding, she will \\\\\"chirp\\\\\" and \\\\\"talk\\\\\" as if having a conversation. This breed is affectionate, with a sweet temperament. It can stay still for extended periods, happily lounging in the lap of its loved one. This quality makes the Tiffany an ideal traveling companion, and an ideal house companion for senior citizens and the physically handicapped.\",\"life_span\":\"14 - 16\",\"indoor\":0,\"lap\":1,\"alt_names\":\"Chantilly, Foreign Longhair\",\"adaptability\":5,\"affection_level\":5,\"child_friendly\":4,\"dog_friendly\":5,\"energy_level\":4,\"grooming\":5,\"health_issues\":1,\"intelligence\":5,\"shedding_level\":5,\"social_needs\":3,\"stranger_friendly\":4,\"vocalisation\":5,\"experimental\":0,\"hairless\":0,\"natural\":0,\"rare\":0,\"rex\":0,\"suppressed_tail\":0,\"short_legs\":0,\"wikipedia_url\":\"https://en.wikipedia.org/wiki/Chantilly-Tiffany\",\"hypoallergenic\":0,\"reference_image_id\":\"TR-5nAd_S\"},{\"weight\":{\"imperial\":\"6 - 15\",\"metric\":\"3 - 7\"},\"id\":\"char\",\"name\":\"Chartreux\",\"cfa_url\":\"http://cfa.org/Breeds/BreedsCJ/Chartreux.aspx\",\"vetstreet_url\":\"http://www.vetstreet.com/cats/chartreux\",\"vcahospitals_url\":\"https://vcahospitals.com/know-your-pet/cat-breeds/chartreux\",\"temperament\":\"Affectionate, Loyal, Intelligent, Social, Lively, Playful\",\"origin\":\"France\",\"country_codes\":\"FR\",\"country_code\":\"FR\",\"description\":\"The Chartreux is generally silent but communicative. Short play sessions, mixed with naps and meals are their perfect day. Whilst appreciating any attention you give them, they are not demanding, content instead to follow you around devotedly, sleep on your bed and snuggle with you if you’re not feeling well.\",\"life_span\":\"12 - 15\",\"indoor\":0,\"lap\":1,\"alt_names\":\"\",\"adaptability\":5,\"affection_level\":5,\"child_friendly\":4,\"dog_friendly\":5,\"energy_level\":2,\"grooming\":1,\"health_issues\":2,\"intelligence\":4,\"shedding_level\":3,\"social_needs\":5,\"stranger_friendly\":5,\"vocalisation\":1,\"experimental\":0,\"hairless\":0,\"natural\":0,\"rare\":0,\"rex\":1,\"suppressed_tail\":0,\"short_legs\":0,\"wikipedia_url\":\"https://en.wikipedia.org/wiki/Chartreux\",\"hypoallergenic\":1,\"reference_image_id\":\"j6oFGLpRG\"},{\"weight\":{\"imperial\":\"7 - 15\",\"metric\":\"3 - 7\"},\"id\":\"chau\",\"name\":\"Chausie\",\"temperament\":\"Affectionate, Intelligent, Playful, Social\",\"origin\":\"Egypt\",\"country_codes\":\"EG\",\"country_code\":\"EG\",\"description\":\"For those owners who desire a feline capable of evoking the great outdoors, the strikingly beautiful Chausie retains a bit of the wild in its appearance but has the house manners of our friendly, familiar moggies. Very playful, this cat needs a large amount of space to be able to fully embrace its hunting instincts.\",\"life_span\":\"12 - 14\",\"indoor\":0,\"alt_names\":\"Nile Cat\",\"adaptability\":5,\"affection_level\":5,\"child_friendly\":4,\"dog_friendly\":5,\"energy_level\":4,\"grooming\":3,\"health_issues\":1,\"intelligence\":5,\"shedding_level\":3,\"social_needs\":3,\"stranger_friendly\":4,\"vocalisation\":1,\"experimental\":1,\"hairless\":0,\"natural\":0,\"rare\":0,\"rex\":0,\"suppressed_tail\":0,\"short_legs\":0,\"wikipedia_url\":\"https://en.wikipedia.org/wiki/Chausie\",\"hypoallergenic\":0,\"reference_image_id\":\"vJ3lEYgXr\"},{\"weight\":{\"imperial\":\"8 - 15\",\"metric\":\"4 - 7\"},\"id\":\"chee\",\"name\":\"Cheetoh\",\"temperament\":\"Affectionate, Gentle, Intelligent, Social\",\"origin\":\"United States\",\"country_codes\":\"US\",\"country_code\":\"US\",\"description\":\"The Cheetoh has a super affectionate nature and real love for their human companions; they are intelligent with the ability to learn quickly. You can expect that a Cheetoh will be a fun-loving kitty who enjoys playing, running, and jumping through every room in your house.\",\"life_span\":\"12 - 14\",\"indoor\":0,\"alt_names\":\"\\xa0\",\"adaptability\":5,\"affection_level\":5,\"child_friendly\":4,\"dog_friendly\":5,\"energy_level\":4,\"grooming\":1,\"health_issues\":1,\"intelligence\":5,\"shedding_level\":1,\"social_needs\":3,\"stranger_friendly\":4,\"vocalisation\":5,\"experimental\":0,\"hairless\":0,\"natural\":0,\"rare\":0,\"rex\":0,\"suppressed_tail\":0,\"short_legs\":0,\"wikipedia_url\":\"https://en.wikipedia.org/wiki/Bengal_cat#Cheetoh\",\"hypoallergenic\":0,\"reference_image_id\":\"IFXsxmXLm\"},{\"weight\":{\"imperial\":\"4 - 10\",\"metric\":\"2 - 5\"},\"id\":\"csho\",\"name\":\"Colorpoint Shorthair\",\"cfa_url\":\"http://cfa.org/Breeds/BreedsCJ/ColorpointShorthair.aspx\",\"vcahospitals_url\":\"https://vcahospitals.com/know-your-pet/cat-breeds/colorpoint-shorthair\",\"temperament\":\"Affectionate, Intelligent, Playful, Social\",\"origin\":\"United States\",\"country_codes\":\"US\",\"country_code\":\"US\",\"description\":\"Colorpoint Shorthairs are an affectionate breed, devoted and loyal to their people. Sensitive to their owner’s moods, Colorpoints are more than happy to sit at your side or on your lap and purr words of encouragement on a bad day. They will constantly seek out your lap whenever it is open and in the moments when your lap is preoccupied they will stretch out in sunny spots on the ground.\",\"life_span\":\"12 - 16\",\"indoor\":0,\"lap\":1,\"alt_names\":\"\",\"adaptability\":3,\"affection_level\":4,\"child_friendly\":4,\"cat_friendly\":3,\"dog_friendly\":4,\"energy_level\":4,\"grooming\":2,\"health_issues\":2,\"intelligence\":5,\"shedding_level\":3,\"social_needs\":4,\"stranger_friendly\":2,\"vocalisation\":5,\"bidability\":4,\"experimental\":0,\"hairless\":0,\"natural\":0,\"rare\":0,\"rex\":0,\"suppressed_tail\":0,\"short_legs\":0,\"wikipedia_url\":\"https://en.wikipedia.org/wiki/Colorpoint_Shorthair\",\"hypoallergenic\":0,\"reference_image_id\":\"oSpqGyUDS\"},{\"weight\":{\"imperial\":\"5 - 9\",\"metric\":\"2 - 4\"},\"id\":\"crex\",\"name\":\"Cornish Rex\",\"cfa_url\":\"http://cfa.org/Breeds/BreedsCJ/CornishRex.aspx\",\"vetstreet_url\":\"http://www.vetstreet.com/cats/cornish-rex\",\"vcahospitals_url\":\"https://vcahospitals.com/know-your-pet/cat-breeds/cornish-rex\",\"temperament\":\"Affectionate, Intelligent, Active, Curious, Playful\",\"origin\":\"United Kingdom\",\"country_codes\":\"GB\",\"country_code\":\"GB\",\"description\":\"This is a confident cat who loves people and will follow them around, waiting for any opportunity to sit in a lap or give a kiss. He enjoys being handled, making it easy to take him to the veterinarian or train him for therapy work. The Cornish Rex stay in kitten mode most of their lives and well into their senior years. \",\"life_span\":\"11 - 14\",\"indoor\":0,\"lap\":1,\"alt_names\":\"\",\"adaptability\":5,\"affection_level\":5,\"child_friendly\":4,\"cat_friendly\":2,\"dog_friendly\":5,\"energy_level\":5,\"grooming\":1,\"health_issues\":2,\"intelligence\":5,\"shedding_level\":1,\"social_needs\":5,\"stranger_friendly\":3,\"vocalisation\":1,\"experimental\":0,\"hairless\":0,\"natural\":0,\"rare\":0,\"rex\":1,\"suppressed_tail\":0,\"short_legs\":0,\"wikipedia_url\":\"https://en.wikipedia.org/wiki/Cornish_Rex\",\"hypoallergenic\":1,\"reference_image_id\":\"unX21IBVB\"},{\"weight\":{\"imperial\":\"8 - 13\",\"metric\":\"4 - 6\"},\"id\":\"cymr\",\"name\":\"Cymric\",\"vetstreet_url\":\"http://www.vetstreet.com/cats/cymric\",\"temperament\":\"Gentle, Loyal, Intelligent, Playful\",\"origin\":\"Canada\",\"country_codes\":\"CA\",\"country_code\":\"CA\",\"description\":\"The Cymric is a placid, sweet cat. They do not get too upset about anything that happens in their world. They are loving companions and adore people. They are smart and dexterous, capable of using his paws to get into cabinets or to open doors.\",\"life_span\":\"8 - 14\",\"indoor\":0,\"lap\":1,\"alt_names\":\"Spangle\",\"adaptability\":5,\"affection_level\":5,\"child_friendly\":4,\"dog_friendly\":5,\"energy_level\":5,\"grooming\":3,\"health_issues\":3,\"intelligence\":5,\"shedding_level\":5,\"social_needs\":5,\"stranger_friendly\":3,\"vocalisation\":3,\"experimental\":0,\"hairless\":0,\"natural\":0,\"rare\":0,\"rex\":0,\"suppressed_tail\":1,\"short_legs\":0,\"wikipedia_url\":\"https://en.wikipedia.org/wiki/Cymric_(cat)\",\"hypoallergenic\":0,\"reference_image_id\":\"3dbtapCWM\"},{\"weight\":{\"imperial\":\"8 - 16\",\"metric\":\"4 - 7\"},\"id\":\"cypr\",\"name\":\"Cyprus\",\"temperament\":\"Affectionate, Social\",\"origin\":\"Cyprus\",\"country_codes\":\"CY\",\"country_code\":\"CY\",\"description\":\"Loving, loyal, social and inquisitive, the Cyprus cat forms strong ties with their families and love nothing more than to be involved in everything that goes on in their surroundings. They are not overly active by nature which makes them the perfect companion for people who would like to share their homes with a laid-back relaxed feline companion. \",\"life_span\":\"12 - 15\",\"indoor\":0,\"lap\":1,\"alt_names\":\"Cypriot cat\",\"adaptability\":5,\"affection_level\":5,\"child_friendly\":4,\"dog_friendly\":5,\"energy_level\":4,\"grooming\":3,\"health_issues\":1,\"intelligence\":3,\"shedding_level\":3,\"social_needs\":3,\"stranger_friendly\":4,\"vocalisation\":3,\"experimental\":0,\"hairless\":0,\"natural\":1,\"rare\":0,\"rex\":0,\"suppressed_tail\":0,\"short_legs\":0,\"wikipedia_url\":\"https://en.wikipedia.org/wiki/Cyprus_cat\",\"hypoallergenic\":0,\"reference_image_id\":\"tJbzb7FKo\"},{\"weight\":{\"imperial\":\"5 - 10\",\"metric\":\"2 - 5\"},\"id\":\"drex\",\"name\":\"Devon Rex\",\"cfa_url\":\"http://cfa.org/Breeds/BreedsCJ/DevonRex.aspx\",\"vetstreet_url\":\"http://www.vetstreet.com/cats/devon-rex\",\"vcahospitals_url\":\"https://vcahospitals.com/know-your-pet/cat-breeds/devon-rex\",\"temperament\":\"Highly interactive, Mischievous, Loyal, Social, Playful\",\"origin\":\"United Kingdom\",\"country_codes\":\"GB\",\"country_code\":\"GB\",\"description\":\"The favourite perch of the Devon Rex is right at head level, on the shoulder of her favorite person. She takes a lively interest in everything that is going on and refuses to be left out of any activity. Count on her to stay as close to you as possible, occasionally communicating his opinions in a quiet voice. She loves people and welcomes the attentions of friends and family alike.\",\"life_span\":\"10 - 15\",\"indoor\":0,\"lap\":1,\"alt_names\":\"Pixie cat, Alien cat, Poodle cat\",\"adaptability\":5,\"affection_level\":5,\"child_friendly\":4,\"dog_friendly\":5,\"energy_level\":5,\"grooming\":1,\"health_issues\":3,\"intelligence\":5,\"shedding_level\":1,\"social_needs\":5,\"stranger_friendly\":5,\"vocalisation\":1,\"experimental\":0,\"hairless\":0,\"natural\":0,\"rare\":0,\"rex\":1,\"suppressed_tail\":0,\"short_legs\":0,\"wikipedia_url\":\"https://en.wikipedia.org/wiki/Devon_Rex\",\"hypoallergenic\":1,\"reference_image_id\":\"4RzEwvyzz\"},{\"weight\":{\"imperial\":\"10 - 12\",\"metric\":\"5 - 6\"},\"id\":\"dons\",\"name\":\"Donskoy\",\"temperament\":\"Playful, affectionate, loyal, social\",\"origin\":\"Russia\",\"country_codes\":\"RU\",\"country_code\":\"RU\",\"description\":\"Donskoy are affectionate, intelligent, and easy-going. They demand lots of attention and interaction. The Donskoy also gets along well with other pets. It is now thought the same gene that causes degrees of hairlessness in the Donskoy also causes alterations in cat personality, making them calmer the less hair they have.\",\"life_span\":\"12 - 15\",\"indoor\":0,\"adaptability\":4,\"affection_level\":4,\"child_friendly\":3,\"cat_friendly\":3,\"dog_friendly\":3,\"energy_level\":4,\"grooming\":2,\"health_issues\":3,\"intelligence\":3,\"shedding_level\":1,\"social_needs\":5,\"stranger_friendly\":5,\"vocalisation\":2,\"experimental\":0,\"hairless\":1,\"natural\":0,\"rare\":1,\"rex\":0,\"suppressed_tail\":0,\"short_legs\":0,\"wikipedia_url\":\"https://en.wikipedia.org/wiki/Donskoy_(cat)\",\"hypoallergenic\":0,\"reference_image_id\":\"3KG57GfMW\"},{\"weight\":{\"imperial\":\"9 - 12\",\"metric\":\"4 - 6\"},\"id\":\"lihu\",\"name\":\"Dragon Li\",\"vetstreet_url\":\"http://www.vetstreet.com/cats/li-hua\",\"temperament\":\"Intelligent, Friendly, Gentle, Loving, Loyal\",\"origin\":\"China\",\"country_codes\":\"CN\",\"country_code\":\"CN\",\"description\":\"The Dragon Li is loyal, but not particularly affectionate. They are known to be very intelligent, and their natural breed status means that they\\'re very active. She is is gentle with people, and has a reputation as a talented hunter of rats and other vermin.\",\"life_span\":\"12 - 15\",\"indoor\":1,\"alt_names\":\"Chinese Lia Hua, Lí hua māo (貍花貓), Li Hua\",\"adaptability\":3,\"affection_level\":3,\"child_friendly\":3,\"cat_friendly\":3,\"dog_friendly\":3,\"energy_level\":3,\"grooming\":1,\"health_issues\":1,\"intelligence\":3,\"shedding_level\":3,\"social_needs\":4,\"stranger_friendly\":3,\"vocalisation\":3,\"experimental\":0,\"hairless\":0,\"natural\":1,\"rare\":0,\"rex\":0,\"suppressed_tail\":0,\"short_legs\":0,\"wikipedia_url\":\"https://en.wikipedia.org/wiki/Dragon_Li\",\"hypoallergenic\":0,\"reference_image_id\":\"BQMSld0A0\"},{\"weight\":{\"imperial\":\"6 - 14\",\"metric\":\"3 - 6\"},\"id\":\"emau\",\"name\":\"Egyptian Mau\",\"cfa_url\":\"http://cfa.org/Breeds/BreedsCJ/EgyptianMau.aspx\",\"vetstreet_url\":\"http://www.vetstreet.com/cats/egyptian-mau\",\"vcahospitals_url\":\"https://vcahospitals.com/know-your-pet/cat-breeds/egyptian-mau\",\"temperament\":\"Agile, Dependent, Gentle, Intelligent, Lively, Loyal, Playful\",\"origin\":\"Egypt\",\"country_codes\":\"EG\",\"country_code\":\"EG\",\"description\":\"The Egyptian Mau is gentle and reserved. She loves her people and desires attention and affection from them but is wary of others. Early, continuing socialization is essential with this sensitive and sometimes shy cat, especially if you plan to show or travel with her. Otherwise, she can be easily startled by unexpected noises or events.\",\"life_span\":\"18 - 20\",\"indoor\":0,\"lap\":1,\"alt_names\":\"Pharaoh Cat\",\"adaptability\":2,\"affection_level\":5,\"child_friendly\":3,\"dog_friendly\":3,\"energy_level\":5,\"grooming\":1,\"health_issues\":3,\"intelligence\":4,\"shedding_level\":3,\"social_needs\":4,\"stranger_friendly\":2,\"vocalisation\":3,\"experimental\":0,\"hairless\":0,\"natural\":1,\"rare\":0,\"rex\":0,\"suppressed_tail\":0,\"short_legs\":0,\"wikipedia_url\":\"https://en.wikipedia.org/wiki/Egyptian_Mau\",\"hypoallergenic\":0,\"reference_image_id\":\"TuSyTkt2n\"},{\"weight\":{\"imperial\":\"7 - 14\",\"metric\":\"3 - 6\"},\"id\":\"ebur\",\"name\":\"European Burmese\",\"cfa_url\":\"http://cfa.org/Breeds/BreedsCJ/EuropeanBurmese.aspx\",\"temperament\":\"Sweet, Affectionate, Loyal\",\"origin\":\"Burma\",\"country_codes\":\"MM\",\"country_code\":\"MM\",\"description\":\"The European Burmese is a very affectionate, intelligent, and loyal cat. They thrive on companionship and will want to be with you, participating in everything you do. While they might pick a favorite family member, chances are that they will interact with everyone in the home, as well as any visitors that come to call. They are inquisitive and playful, even as adults. \",\"life_span\":\"10 - 15\",\"indoor\":0,\"lap\":1,\"alt_names\":\"\",\"adaptability\":5,\"affection_level\":5,\"child_friendly\":4,\"cat_friendly\":4,\"dog_friendly\":4,\"energy_level\":4,\"grooming\":1,\"health_issues\":4,\"intelligence\":5,\"shedding_level\":3,\"social_needs\":5,\"stranger_friendly\":5,\"vocalisation\":4,\"experimental\":0,\"hairless\":0,\"natural\":0,\"rare\":0,\"rex\":0,\"suppressed_tail\":0,\"short_legs\":0,\"hypoallergenic\":0},{\"weight\":{\"imperial\":\"7 - 14\",\"metric\":\"3 - 6\"},\"id\":\"esho\",\"name\":\"Exotic Shorthair\",\"cfa_url\":\"http://cfa.org/Breeds/BreedsCJ/Exotic.aspx\",\"vetstreet_url\":\"http://www.vetstreet.com/cats/exotic-shorthair\",\"vcahospitals_url\":\"https://vcahospitals.com/know-your-pet/cat-breeds/exotic-shorthair\",\"temperament\":\"Affectionate, Sweet, Loyal, Quiet, Peaceful\",\"origin\":\"United States\",\"country_codes\":\"US\",\"country_code\":\"US\",\"description\":\"The Exotic Shorthair is a gentle friendly cat that has the same personality as the Persian. They love having fun, don’t mind the company of other cats and dogs, also love to curl up for a sleep in a safe place. Exotics love their own people, but around strangers they are cautious at first. Given time, they usually warm up to visitors.\",\"life_span\":\"12 - 15\",\"indoor\":0,\"lap\":1,\"alt_names\":\"Exotic\",\"adaptability\":5,\"affection_level\":5,\"child_friendly\":3,\"dog_friendly\":3,\"energy_level\":3,\"grooming\":2,\"health_issues\":3,\"intelligence\":3,\"shedding_level\":2,\"social_needs\":4,\"stranger_friendly\":2,\"vocalisation\":1,\"experimental\":0,\"hairless\":0,\"natural\":0,\"rare\":0,\"rex\":0,\"suppressed_tail\":0,\"short_legs\":0,\"wikipedia_url\":\"https://en.wikipedia.org/wiki/Exotic_Shorthair\",\"hypoallergenic\":0,\"reference_image_id\":\"YnPrYEmfe\"},{\"weight\":{\"imperial\":\"6 - 10\",\"metric\":\"3 - 5\"},\"id\":\"hbro\",\"name\":\"Havana Brown\",\"cfa_url\":\"http://cfa.org/Breeds/BreedsCJ/HavanaBrown.aspx\",\"vetstreet_url\":\"http://www.vetstreet.com/cats/havana-brown\",\"vcahospitals_url\":\"https://vcahospitals.com/know-your-pet/cat-breeds/havana-brown\",\"temperament\":\"Affectionate, Curious, Demanding, Friendly, Intelligent, Playful\",\"origin\":\"United Kingdom\",\"country_codes\":\"GB\",\"country_code\":\"GB\",\"description\":\"The Havana Brown is human oriented, playful, and curious. She has a strong desire to spend time with her people and involve herself in everything they do. Being naturally inquisitive, the Havana Brown reaches out with a paw to touch and feel when investigating curiosities in its environment. They are truly sensitive by nature and frequently gently touch their human companions as if they are extending a paw of friendship.\",\"life_span\":\"10 - 15\",\"indoor\":0,\"lap\":1,\"alt_names\":\"Havana, HB\",\"adaptability\":5,\"affection_level\":5,\"child_friendly\":4,\"dog_friendly\":5,\"energy_level\":3,\"grooming\":1,\"health_issues\":1,\"intelligence\":5,\"shedding_level\":3,\"social_needs\":5,\"stranger_friendly\":3,\"vocalisation\":1,\"experimental\":0,\"hairless\":0,\"natural\":0,\"rare\":0,\"rex\":0,\"suppressed_tail\":0,\"short_legs\":0,\"wikipedia_url\":\"https://en.wikipedia.org/wiki/Havana_Brown\",\"hypoallergenic\":0,\"reference_image_id\":\"njK25knLH\"},{\"weight\":{\"imperial\":\"7 - 14\",\"metric\":\"3 - 6\"},\"id\":\"hima\",\"name\":\"Himalayan\",\"vetstreet_url\":\"http://www.vetstreet.com/cats/himalayan\",\"vcahospitals_url\":\"https://vcahospitals.com/know-your-pet/cat-breeds/himalayan\",\"temperament\":\"Dependent, Gentle, Intelligent, Quiet, Social\",\"origin\":\"United States\",\"country_codes\":\"US\",\"country_code\":\"US\",\"description\":\"Calm and devoted, Himalayans make excellent companions, though they prefer a quieter home. They are playful in a sedate kind of way and enjoy having an assortment of toys. The Himalayan will stretch out next to you, sleep in your bed and even sit on your lap when she is in the mood.\",\"life_span\":\"9 - 15\",\"indoor\":0,\"lap\":1,\"alt_names\":\"Himalayan Persian, Colourpoint Persian, Longhaired Colourpoint, Himmy\",\"adaptability\":5,\"affection_level\":5,\"child_friendly\":2,\"dog_friendly\":2,\"energy_level\":1,\"grooming\":5,\"health_issues\":3,\"intelligence\":3,\"shedding_level\":4,\"social_needs\":4,\"stranger_friendly\":2,\"vocalisation\":1,\"experimental\":0,\"hairless\":0,\"natural\":0,\"rare\":0,\"rex\":0,\"suppressed_tail\":0,\"short_legs\":0,\"wikipedia_url\":\"https://en.wikipedia.org/wiki/Himalayan_(cat)\",\"hypoallergenic\":0,\"reference_image_id\":\"CDhOtM-Ig\"},{\"weight\":{\"imperial\":\"5 - 10\",\"metric\":\"2 - 5\"},\"id\":\"jbob\",\"name\":\"Japanese Bobtail\",\"cfa_url\":\"http://cfa.org/Breeds/BreedsCJ/JapaneseBobtail.aspx\",\"vetstreet_url\":\"http://www.vetstreet.com/cats/japanese-bobtail\",\"vcahospitals_url\":\"https://vcahospitals.com/know-your-pet/cat-breeds/japanese-bobtail\",\"temperament\":\"Active, Agile, Clever, Easy Going, Intelligent, Lively, Loyal, Playful, Social\",\"origin\":\"Japan\",\"country_codes\":\"JP\",\"country_code\":\"JP\",\"description\":\"The Japanese Bobtail is an active, sweet, loving and highly intelligent breed. They love to be with people and play seemingly endlessly. They learn their name and respond to it. They bring toys to people and play fetch with a favorite toy for hours. Bobtails are social and are at their best when in the company of people. They take over the house and are not intimidated. If a dog is in the house, Bobtails assume Bobtails are in charge.\",\"life_span\":\"14 - 16\",\"indoor\":0,\"lap\":1,\"alt_names\":\"Japanese Truncated Cat\",\"adaptability\":5,\"affection_level\":5,\"child_friendly\":4,\"dog_friendly\":5,\"energy_level\":5,\"grooming\":1,\"health_issues\":1,\"intelligence\":5,\"shedding_level\":3,\"social_needs\":5,\"stranger_friendly\":5,\"vocalisation\":5,\"experimental\":0,\"hairless\":0,\"natural\":1,\"rare\":0,\"rex\":0,\"suppressed_tail\":1,\"short_legs\":0,\"wikipedia_url\":\"https://en.wikipedia.org/wiki/Japanese_Bobtail\",\"hypoallergenic\":0,\"reference_image_id\":\"-tm9-znzl\"},{\"weight\":{\"imperial\":\"5 - 10\",\"metric\":\"2 - 5\"},\"id\":\"java\",\"name\":\"Javanese\",\"vetstreet_url\":\"http://www.vetstreet.com/cats/javanese\",\"vcahospitals_url\":\"https://vcahospitals.com/know-your-pet/cat-breeds/javanese\",\"temperament\":\"Active, Devoted, Intelligent, Playful\",\"origin\":\"United States\",\"country_codes\":\"US\",\"country_code\":\"US\",\"description\":\"Javanese are endlessly interested, intelligent and active. They tend to enjoy jumping to great heights, playing with fishing pole-type or other interactive toys and just generally investigating their surroundings. He will attempt to copy things you do, such as opening doors or drawers.\",\"life_span\":\"10 - 12\",\"indoor\":0,\"alt_names\":\"\\xa0\",\"adaptability\":4,\"affection_level\":5,\"child_friendly\":4,\"dog_friendly\":4,\"energy_level\":5,\"grooming\":1,\"health_issues\":3,\"intelligence\":5,\"shedding_level\":2,\"social_needs\":5,\"stranger_friendly\":3,\"vocalisation\":5,\"experimental\":0,\"hairless\":0,\"natural\":0,\"rare\":0,\"rex\":0,\"suppressed_tail\":0,\"short_legs\":0,\"wikipedia_url\":\"https://en.wikipedia.org/wiki/Javanese_cat\",\"hypoallergenic\":1,\"reference_image_id\":\"xoI_EpOKe\"},{\"weight\":{\"imperial\":\"8 - 12\",\"metric\":\"4 - 6\"},\"id\":\"khao\",\"name\":\"Khao Manee\",\"cfa_url\":\"http://cfa.org/Breeds/BreedsKthruR/KhaoManee.aspx\",\"temperament\":\"Calm, Relaxed, Talkative, Playful, Warm\",\"origin\":\"Thailand\",\"country_codes\":\"TH\",\"country_code\":\"TH\",\"description\":\"The Khao Manee is highly intelligent, with an extrovert and inquisitive nature, however they are also very calm and relaxed, making them an idea lap cat.\",\"life_span\":\"10 - 12\",\"indoor\":0,\"lap\":1,\"alt_names\":\"Diamond Eye cat\",\"adaptability\":4,\"affection_level\":4,\"child_friendly\":3,\"cat_friendly\":3,\"dog_friendly\":3,\"energy_level\":3,\"grooming\":3,\"health_issues\":1,\"intelligence\":4,\"shedding_level\":3,\"social_needs\":3,\"stranger_friendly\":3,\"vocalisation\":5,\"experimental\":0,\"hairless\":0,\"natural\":0,\"rare\":0,\"rex\":0,\"suppressed_tail\":0,\"short_legs\":0,\"wikipedia_url\":\"https://en.wikipedia.org/wiki/Khao_Manee\",\"hypoallergenic\":0,\"reference_image_id\":\"165ok6ESN\"},{\"weight\":{\"imperial\":\"7 - 11\",\"metric\":\"3 - 5\"},\"id\":\"kora\",\"name\":\"Korat\",\"cfa_url\":\"http://cfa.org/Breeds/BreedsKthruR/Korat.aspx\",\"vetstreet_url\":\"http://www.vetstreet.com/cats/korat\",\"vcahospitals_url\":\"https://vcahospitals.com/know-your-pet/cat-breeds/korat\",\"temperament\":\"Active, Loyal, highly intelligent, Expressive, Trainable\",\"origin\":\"Thailand\",\"country_codes\":\"TH\",\"country_code\":\"TH\",\"description\":\"The Korat is a natural breed, and one of the oldest stable cat breeds. They are highly intelligent and confident cats that can be fearless, although they are startled by loud sounds and sudden movements. Korats form strong bonds with their people and like to cuddle and stay nearby.\",\"life_span\":\"10 - 15\",\"indoor\":0,\"adaptability\":5,\"affection_level\":5,\"child_friendly\":4,\"dog_friendly\":5,\"energy_level\":3,\"grooming\":1,\"health_issues\":1,\"intelligence\":5,\"shedding_level\":3,\"social_needs\":5,\"stranger_friendly\":2,\"vocalisation\":3,\"experimental\":0,\"hairless\":0,\"natural\":0,\"rare\":1,\"rex\":0,\"suppressed_tail\":0,\"short_legs\":0,\"wikipedia_url\":\"https://en.wikipedia.org/wiki/Korat\",\"hypoallergenic\":0,\"reference_image_id\":\"DbwiefiaY\"},{\"weight\":{\"imperial\":\"8 - 15\",\"metric\":\"4 - 7\"},\"id\":\"kuri\",\"name\":\"Kurilian\",\"vetstreet_url\":\"http://www.vetstreet.com/cats/kurilian-bobtail\",\"temperament\":\"Independent, highly intelligent, clever, inquisitive, sociable, playful, trainable\",\"origin\":\"Russia\",\"country_codes\":\"RU\",\"country_code\":\"RU\",\"description\":\"The character of the Kurilian Bobtail is independent, highly intelligent, clever, inquisitive, sociable, playful, trainable, absent of aggression and very gentle. They are devoted to their humans and when allowed are either on the lap of or sleeping in bed with their owners.\",\"life_span\":\"15 - 20\",\"indoor\":0,\"adaptability\":5,\"affection_level\":5,\"child_friendly\":5,\"dog_friendly\":5,\"energy_level\":5,\"grooming\":1,\"health_issues\":1,\"intelligence\":5,\"shedding_level\":2,\"social_needs\":5,\"stranger_friendly\":5,\"vocalisation\":3,\"experimental\":0,\"hairless\":0,\"natural\":1,\"rare\":0,\"rex\":0,\"suppressed_tail\":1,\"short_legs\":0,\"wikipedia_url\":\"https://en.wikipedia.org/wiki/Kurilian_Bobtail\",\"hypoallergenic\":0,\"reference_image_id\":\"NZpO4pU56M\"},{\"weight\":{\"imperial\":\"6 - 10\",\"metric\":\"3 - 5\"},\"id\":\"lape\",\"name\":\"LaPerm\",\"cfa_url\":\"http://cfa.org/Breeds/BreedsKthruR/LaPerm.aspx\",\"vetstreet_url\":\"http://www.vetstreet.com/cats/laperm\",\"vcahospitals_url\":\"https://vcahospitals.com/know-your-pet/cat-breeds/laperm\",\"temperament\":\"Affectionate, Friendly, Gentle, Intelligent, Playful, Quiet\",\"origin\":\"Thailand\",\"country_codes\":\"TH\",\"country_code\":\"TH\",\"description\":\"LaPerms are gentle and affectionate but also very active. Unlike many active breeds, the LaPerm is also quite content to be a lap cat. The LaPerm will often follow your lead; that is, if they are busy playing and you decide to sit and relax, simply pick up your LaPerm and sit down with it, and it will stay in your lap, devouring the attention you give it.\",\"life_span\":\"10 - 15\",\"indoor\":0,\"lap\":1,\"alt_names\":\"Si-Sawat\",\"adaptability\":5,\"affection_level\":5,\"child_friendly\":4,\"dog_friendly\":5,\"energy_level\":4,\"grooming\":1,\"health_issues\":1,\"intelligence\":5,\"shedding_level\":3,\"social_needs\":4,\"stranger_friendly\":4,\"vocalisation\":3,\"experimental\":0,\"hairless\":0,\"natural\":0,\"rare\":0,\"rex\":1,\"suppressed_tail\":0,\"short_legs\":0,\"wikipedia_url\":\"https://en.wikipedia.org/wiki/LaPerm\",\"hypoallergenic\":1,\"reference_image_id\":\"aKbsEYjSl\"},{\"weight\":{\"imperial\":\"12 - 18\",\"metric\":\"5 - 8\"},\"id\":\"mcoo\",\"name\":\"Maine Coon\",\"cfa_url\":\"http://cfa.org/Breeds/BreedsKthruR/MaineCoon.aspx\",\"vetstreet_url\":\"http://www.vetstreet.com/cats/maine-coon\",\"vcahospitals_url\":\"https://vcahospitals.com/know-your-pet/cat-breeds/maine-coon\",\"temperament\":\"Adaptable, Intelligent, Loving, Gentle, Independent\",\"origin\":\"United States\",\"country_codes\":\"US\",\"country_code\":\"US\",\"description\":\"They are known for their size and luxurious long coat Maine Coons are considered a gentle giant. The good-natured and affable Maine Coon adapts well to many lifestyles and personalities. She likes being with people and has the habit of following them around, but isn’t needy. Most Maine Coons love water and they can be quite good swimmers.\",\"life_span\":\"12 - 15\",\"indoor\":0,\"lap\":1,\"alt_names\":\"Coon Cat, Maine Cat, Maine Shag, Snowshoe Cat, American Longhair, The Gentle Giants\",\"adaptability\":5,\"affection_level\":5,\"child_friendly\":4,\"dog_friendly\":5,\"energy_level\":3,\"grooming\":3,\"health_issues\":3,\"intelligence\":5,\"shedding_level\":3,\"social_needs\":3,\"stranger_friendly\":5,\"vocalisation\":1,\"experimental\":0,\"hairless\":0,\"natural\":1,\"rare\":0,\"rex\":0,\"suppressed_tail\":0,\"short_legs\":0,\"wikipedia_url\":\"https://en.wikipedia.org/wiki/Maine_Coon\",\"hypoallergenic\":0,\"reference_image_id\":\"OOD3VXAQn\"},{\"weight\":{\"imperial\":\"6 - 13\",\"metric\":\"3 - 6\"},\"id\":\"mala\",\"name\":\"Malayan\",\"temperament\":\"Affectionate, Interactive, Playful, Social\",\"origin\":\"United Kingdom\",\"country_codes\":\"GB\",\"country_code\":\"GB\",\"description\":\"Malayans love to explore and even enjoy traveling by way of a cat carrier. They are quite a talkative and rather loud cat with an apparent strong will. These cats will make sure that you give it the attention it seeks and always seem to want to be held and hugged. They will constantly interact with people, even strangers. They love to play and cuddle.\",\"life_span\":\"12 - 18\",\"indoor\":0,\"alt_names\":\"Asian\",\"adaptability\":5,\"affection_level\":5,\"child_friendly\":4,\"dog_friendly\":5,\"energy_level\":5,\"grooming\":1,\"health_issues\":1,\"intelligence\":3,\"shedding_level\":1,\"social_needs\":3,\"stranger_friendly\":3,\"vocalisation\":5,\"experimental\":0,\"hairless\":0,\"natural\":0,\"rare\":0,\"rex\":0,\"suppressed_tail\":0,\"short_legs\":0,\"wikipedia_url\":\"https://en.wikipedia.org/wiki/Asian_cat\",\"hypoallergenic\":0},{\"weight\":{\"imperial\":\"7 - 13\",\"metric\":\"3 - 6\"},\"id\":\"manx\",\"name\":\"Manx\",\"cfa_url\":\"http://cfa.org/Breeds/BreedsKthruR/Manx.aspx\",\"vetstreet_url\":\"http://www.vetstreet.com/cats/manx\",\"vcahospitals_url\":\"https://vcahospitals.com/know-your-pet/cat-breeds/manx\",\"temperament\":\"Easy Going, Intelligent, Loyal, Playful, Social\",\"origin\":\"Isle of Man\",\"country_codes\":\"IM\",\"country_code\":\"IM\",\"description\":\"The Manx is a placid, sweet cat that is gentle and playful. She never seems to get too upset about anything. She is a loving companion and adores being with people.\",\"life_span\":\"12 - 14\",\"indoor\":0,\"lap\":1,\"alt_names\":\"Manks, Stubbin, Rumpy\",\"adaptability\":5,\"affection_level\":5,\"child_friendly\":4,\"dog_friendly\":5,\"energy_level\":5,\"grooming\":1,\"health_issues\":3,\"intelligence\":5,\"shedding_level\":5,\"social_needs\":5,\"stranger_friendly\":3,\"vocalisation\":3,\"experimental\":0,\"hairless\":0,\"natural\":1,\"rare\":0,\"rex\":0,\"suppressed_tail\":1,\"short_legs\":0,\"wikipedia_url\":\"https://en.wikipedia.org/wiki/Manx_(cat)\",\"hypoallergenic\":0,\"reference_image_id\":\"fhYh2PDcC\"},{\"weight\":{\"imperial\":\"5 - 9\",\"metric\":\"2 - 4\"},\"id\":\"munc\",\"name\":\"Munchkin\",\"vetstreet_url\":\"http://www.vetstreet.com/cats/munchkin\",\"temperament\":\"Agile, Easy Going, Intelligent, Playful\",\"origin\":\"United States\",\"country_codes\":\"US\",\"country_code\":\"US\",\"description\":\"The Munchkin is an outgoing cat who enjoys being handled. She has lots of energy and is faster and more agile than she looks. The shortness of their legs does not seem to interfere with their running and leaping abilities.\",\"life_span\":\"10 - 15\",\"indoor\":0,\"lap\":1,\"alt_names\":\"\",\"adaptability\":5,\"affection_level\":5,\"child_friendly\":4,\"dog_friendly\":5,\"energy_level\":4,\"grooming\":2,\"health_issues\":3,\"intelligence\":5,\"shedding_level\":3,\"social_needs\":5,\"stranger_friendly\":5,\"vocalisation\":3,\"experimental\":0,\"hairless\":0,\"natural\":0,\"rare\":0,\"rex\":0,\"suppressed_tail\":0,\"short_legs\":1,\"wikipedia_url\":\"https://en.wikipedia.org/wiki/Munchkin_(cat)\",\"hypoallergenic\":0,\"reference_image_id\":\"j5cVSqLer\"},{\"weight\":{\"imperial\":\"7 - 11\",\"metric\":\"3 - 5\"},\"id\":\"nebe\",\"name\":\"Nebelung\",\"temperament\":\"Gentle, Quiet, Shy, Playful\",\"origin\":\"United States\",\"country_codes\":\"US\",\"country_code\":\"US\",\"description\":\"The Nebelung may have a reserved nature, but she loves to play (being especially fond of retrieving) and enjoys jumping or climbing to high places where she can study people and situations at her leisure before making up her mind about whether she wants to get involved.\",\"life_span\":\"11 - 16\",\"indoor\":0,\"lap\":1,\"alt_names\":\"Longhaired Russian Blue\",\"adaptability\":5,\"affection_level\":5,\"child_friendly\":4,\"dog_friendly\":4,\"energy_level\":3,\"grooming\":3,\"health_issues\":2,\"intelligence\":5,\"shedding_level\":3,\"social_needs\":3,\"stranger_friendly\":3,\"vocalisation\":1,\"experimental\":0,\"hairless\":0,\"natural\":0,\"rare\":1,\"rex\":0,\"suppressed_tail\":0,\"short_legs\":0,\"wikipedia_url\":\"https://en.wikipedia.org/wiki/Nebelung\",\"hypoallergenic\":0,\"reference_image_id\":\"OGTWqNNOt\"},{\"weight\":{\"imperial\":\"8 - 16\",\"metric\":\"4 - 7\"},\"id\":\"norw\",\"name\":\"Norwegian Forest Cat\",\"cfa_url\":\"http://cfa.org/Breeds/BreedsKthruR/NorwegianForestCat.aspx\",\"vetstreet_url\":\"http://www.vetstreet.com/cats/norwegian-forest-cat\",\"vcahospitals_url\":\"https://vcahospitals.com/know-your-pet/cat-breeds/norwegian-forest-cat\",\"temperament\":\"Sweet, Active, Intelligent, Social, Playful, Lively, Curious\",\"origin\":\"Norway\",\"country_codes\":\"NO\",\"country_code\":\"NO\",\"description\":\"The Norwegian Forest Cat is a sweet, loving cat. She appreciates praise and loves to interact with her parent. She makes a loving companion and bonds with her parents once she accepts them for her own. She is still a hunter at heart. She loves to chase toys as if they are real. She is territorial and patrols several times each day to make certain that all is fine.\",\"life_span\":\"12 - 16\",\"indoor\":0,\"alt_names\":\"Skogkatt / Skaukatt, Norsk Skogkatt / Norsk Skaukatt, Weegie\",\"adaptability\":5,\"affection_level\":5,\"child_friendly\":4,\"dog_friendly\":5,\"energy_level\":3,\"grooming\":2,\"health_issues\":3,\"intelligence\":4,\"shedding_level\":3,\"social_needs\":5,\"stranger_friendly\":5,\"vocalisation\":1,\"experimental\":0,\"hairless\":0,\"natural\":1,\"rare\":0,\"rex\":0,\"suppressed_tail\":0,\"short_legs\":0,\"wikipedia_url\":\"https://en.wikipedia.org/wiki/Norwegian_Forest_Cat\",\"hypoallergenic\":0,\"reference_image_id\":\"06dgGmEOV\"},{\"weight\":{\"imperial\":\"7 - 15\",\"metric\":\"3 - 7\"},\"id\":\"ocic\",\"name\":\"Ocicat\",\"cfa_url\":\"http://cfa.org/Breeds/BreedsKthruR/Ocicat.aspx\",\"vetstreet_url\":\"http://www.vetstreet.com/cats/ocicat\",\"vcahospitals_url\":\"https://vcahospitals.com/know-your-pet/cat-breeds/ocicat\",\"temperament\":\"Active, Agile, Curious, Demanding, Friendly, Gentle, Lively, Playful, Social\",\"origin\":\"United States\",\"country_codes\":\"US\",\"country_code\":\"US\",\"description\":\"Loyal and devoted to their owners, the Ocicat is intelligent, confident, outgoing, and seems to have many dog traits. They can be trained to fetch toys, walk on a lead, taught to \\'speak\\', come when called, and follow other commands. \",\"life_span\":\"12 - 14\",\"indoor\":0,\"alt_names\":\"\",\"adaptability\":5,\"affection_level\":5,\"child_friendly\":4,\"dog_friendly\":5,\"energy_level\":5,\"grooming\":1,\"health_issues\":3,\"intelligence\":5,\"shedding_level\":3,\"social_needs\":5,\"stranger_friendly\":5,\"vocalisation\":3,\"experimental\":0,\"hairless\":0,\"natural\":0,\"rare\":0,\"rex\":0,\"suppressed_tail\":0,\"short_legs\":0,\"wikipedia_url\":\"https://en.wikipedia.org/wiki/Ocicat\",\"hypoallergenic\":1,\"reference_image_id\":\"JAx-08Y0n\"},{\"weight\":{\"imperial\":\"5 - 10\",\"metric\":\"2 - 5\"},\"id\":\"orie\",\"name\":\"Oriental\",\"cfa_url\":\"http://cfa.org/Breeds/BreedsKthruR/Oriental.aspx\",\"vetstreet_url\":\"http://www.vetstreet.com/cats/oriental\",\"vcahospitals_url\":\"https://vcahospitals.com/know-your-pet/cat-breeds/oriental\",\"temperament\":\"Energetic, Affectionate, Intelligent, Social, Playful, Curious\",\"origin\":\"United States\",\"country_codes\":\"US\",\"country_code\":\"US\",\"description\":\"Orientals are passionate about the people in their lives. They become extremely attached to their humans, so be prepared for a lifetime commitment. When you are not available to entertain her, an Oriental will divert herself by jumping on top of the refrigerator, opening drawers, seeking out new hideaways.\",\"life_span\":\"12 - 14\",\"indoor\":0,\"lap\":1,\"alt_names\":\"Foreign Type\",\"adaptability\":5,\"affection_level\":5,\"child_friendly\":4,\"dog_friendly\":5,\"energy_level\":5,\"grooming\":1,\"health_issues\":3,\"intelligence\":5,\"shedding_level\":3,\"social_needs\":5,\"stranger_friendly\":3,\"vocalisation\":5,\"experimental\":0,\"hairless\":0,\"natural\":0,\"rare\":0,\"rex\":0,\"suppressed_tail\":0,\"short_legs\":0,\"wikipedia_url\":\"https://en.wikipedia.org/wiki/Oriental_Shorthair\",\"hypoallergenic\":1,\"reference_image_id\":\"LutjkZJpH\"},{\"weight\":{\"imperial\":\"9 - 14\",\"metric\":\"4 - 6\"},\"id\":\"pers\",\"name\":\"Persian\",\"cfa_url\":\"http://cfa.org/Breeds/BreedsKthruR/Persian.aspx\",\"vetstreet_url\":\"http://www.vetstreet.com/cats/persian\",\"vcahospitals_url\":\"https://vcahospitals.com/know-your-pet/cat-breeds/persian\",\"temperament\":\"Affectionate, loyal, Sedate, Quiet\",\"origin\":\"Iran (Persia)\",\"country_codes\":\"IR\",\"country_code\":\"IR\",\"description\":\"Persians are sweet, gentle cats that can be playful or quiet and laid-back. Great with families and children, they absolutely love to lounge around the house. While they don’t mind a full house or active kids, they’ll usually hide when they need some alone time.\",\"life_span\":\"14 - 15\",\"indoor\":0,\"lap\":1,\"alt_names\":\"Longhair, Persian Longhair, Shiraz, Shirazi\",\"adaptability\":5,\"affection_level\":5,\"child_friendly\":2,\"dog_friendly\":2,\"energy_level\":1,\"grooming\":5,\"health_issues\":3,\"intelligence\":3,\"shedding_level\":4,\"social_needs\":4,\"stranger_friendly\":2,\"vocalisation\":1,\"experimental\":0,\"hairless\":0,\"natural\":1,\"rare\":0,\"rex\":0,\"suppressed_tail\":0,\"short_legs\":0,\"wikipedia_url\":\"https://en.wikipedia.org/wiki/Persian_(cat)\",\"hypoallergenic\":0,\"reference_image_id\":\"-Zfz5z2jK\"},{\"weight\":{\"imperial\":\"8 - 17\",\"metric\":\"4 - 8\"},\"id\":\"pixi\",\"name\":\"Pixie-bob\",\"vetstreet_url\":\"http://www.vetstreet.com/cats/pixiebob\",\"temperament\":\"Affectionate, Social, Intelligent, Loyal\",\"origin\":\"United States\",\"country_codes\":\"US\",\"country_code\":\"US\",\"description\":\"Companionable and affectionate, the Pixie-bob wants to be an integral part of the family. The Pixie-Bob’s ability to bond with their humans along with their patient personas make them excellent companions for children.\",\"life_span\":\"13 - 16\",\"indoor\":0,\"lap\":1,\"alt_names\":\"\",\"adaptability\":5,\"affection_level\":5,\"child_friendly\":4,\"dog_friendly\":5,\"energy_level\":4,\"grooming\":1,\"health_issues\":2,\"intelligence\":5,\"shedding_level\":3,\"social_needs\":4,\"stranger_friendly\":4,\"vocalisation\":1,\"experimental\":0,\"hairless\":0,\"natural\":0,\"rare\":0,\"rex\":0,\"suppressed_tail\":1,\"short_legs\":0,\"wikipedia_url\":\"https://en.wikipedia.org/wiki/Pixiebob\",\"hypoallergenic\":0,\"reference_image_id\":\"z7fJRNeN6\"},{\"weight\":{\"imperial\":\"8 - 20\",\"metric\":\"4 - 9\"},\"id\":\"raga\",\"name\":\"Ragamuffin\",\"cfa_url\":\"http://cfa.org/Breeds/BreedsKthruR/Ragamuffin.aspx\",\"vetstreet_url\":\"http://www.vetstreet.com/cats/ragamuffin\",\"vcahospitals_url\":\"https://vcahospitals.com/know-your-pet/cat-breeds/ragamuffin\",\"temperament\":\"Affectionate, Friendly, Gentle, Calm\",\"origin\":\"United States\",\"country_codes\":\"US\",\"country_code\":\"US\",\"description\":\"The Ragamuffin is calm, even tempered and gets along well with all family members. Changes in routine generally do not upset her. She is an ideal companion for those in apartments, and with children due to her patient nature.\",\"life_span\":\"12 - 16\",\"indoor\":0,\"lap\":1,\"alt_names\":\"\",\"adaptability\":5,\"affection_level\":5,\"child_friendly\":4,\"dog_friendly\":5,\"energy_level\":3,\"grooming\":3,\"health_issues\":3,\"intelligence\":5,\"shedding_level\":3,\"social_needs\":3,\"stranger_friendly\":5,\"vocalisation\":1,\"experimental\":0,\"hairless\":0,\"natural\":0,\"rare\":0,\"rex\":0,\"suppressed_tail\":0,\"short_legs\":0,\"wikipedia_url\":\"https://en.wikipedia.org/wiki/Ragamuffin_cat\",\"hypoallergenic\":0,\"reference_image_id\":\"SMuZx-bFM\"},{\"weight\":{\"imperial\":\"12 - 20\",\"metric\":\"5 - 9\"},\"id\":\"ragd\",\"name\":\"Ragdoll\",\"cfa_url\":\"http://cfa.org/Breeds/BreedsKthruR/Ragdoll.aspx\",\"vetstreet_url\":\"http://www.vetstreet.com/cats/ragdoll\",\"vcahospitals_url\":\"https://vcahospitals.com/know-your-pet/cat-breeds/ragdoll\",\"temperament\":\"Affectionate, Friendly, Gentle, Quiet, Easygoing\",\"origin\":\"United States\",\"country_codes\":\"US\",\"country_code\":\"US\",\"description\":\"Ragdolls love their people, greeting them at the door, following them around the house, and leaping into a lap or snuggling in bed whenever given the chance. They are the epitome of a lap cat, enjoy being carried and collapsing into the arms of anyone who holds them.\",\"life_span\":\"12 - 17\",\"indoor\":0,\"lap\":1,\"alt_names\":\"Rag doll\",\"adaptability\":5,\"affection_level\":5,\"child_friendly\":4,\"dog_friendly\":5,\"energy_level\":3,\"grooming\":2,\"health_issues\":3,\"intelligence\":3,\"shedding_level\":3,\"social_needs\":5,\"stranger_friendly\":3,\"vocalisation\":1,\"experimental\":0,\"hairless\":0,\"natural\":0,\"rare\":0,\"rex\":0,\"suppressed_tail\":0,\"short_legs\":0,\"wikipedia_url\":\"https://en.wikipedia.org/wiki/Ragdoll\",\"hypoallergenic\":0,\"reference_image_id\":\"oGefY4YoG\"},{\"weight\":{\"imperial\":\"5 - 11\",\"metric\":\"2 - 5\"},\"id\":\"rblu\",\"name\":\"Russian Blue\",\"cfa_url\":\"http://cfa.org/Breeds/BreedsKthruR/RussianBlue.aspx\",\"vetstreet_url\":\"http://www.vetstreet.com/cats/russian-blue-nebelung\",\"vcahospitals_url\":\"https://vcahospitals.com/know-your-pet/cat-breeds/russian-blue\",\"temperament\":\"Active, Dependent, Easy Going, Gentle, Intelligent, Loyal, Playful, Quiet\",\"origin\":\"Russia\",\"country_codes\":\"RU\",\"country_code\":\"RU\",\"description\":\"Russian Blues are very loving and reserved. They do not like noisy households but they do like to play and can be quite active when outdoors. They bond very closely with their owner and are known to be compatible with other pets.\",\"life_span\":\"10 - 16\",\"indoor\":0,\"lap\":1,\"alt_names\":\"Archangel Blue, Archangel Cat\",\"adaptability\":3,\"affection_level\":3,\"child_friendly\":3,\"dog_friendly\":3,\"energy_level\":3,\"grooming\":3,\"health_issues\":1,\"intelligence\":3,\"shedding_level\":3,\"social_needs\":3,\"stranger_friendly\":1,\"vocalisation\":1,\"experimental\":0,\"hairless\":0,\"natural\":1,\"rare\":0,\"rex\":0,\"suppressed_tail\":0,\"short_legs\":0,\"wikipedia_url\":\"https://en.wikipedia.org/wiki/Russian_Blue\",\"hypoallergenic\":1,\"reference_image_id\":\"Rhj-JsTLP\"},{\"weight\":{\"imperial\":\"8 - 25\",\"metric\":\"4 - 11\"},\"id\":\"sava\",\"name\":\"Savannah\",\"vetstreet_url\":\"http://www.vetstreet.com/cats/savannah\",\"temperament\":\"Curious, Social, Intelligent, Loyal, Outgoing, Adventurous, Affectionate\",\"origin\":\"United States\",\"country_codes\":\"US\",\"country_code\":\"US\",\"description\":\"Savannah is the feline version of a dog. Actively seeking social interaction, they are given to pouting if left out. Remaining kitten-like through life. Profoundly loyal to immediate family members whilst questioning the presence of strangers. Making excellent companions that are loyal, intelligent and eager to be involved.\",\"life_span\":\"17 - 20\",\"indoor\":0,\"alt_names\":\"\",\"adaptability\":5,\"affection_level\":5,\"child_friendly\":4,\"dog_friendly\":5,\"energy_level\":5,\"grooming\":1,\"health_issues\":1,\"intelligence\":5,\"shedding_level\":3,\"social_needs\":5,\"stranger_friendly\":5,\"vocalisation\":1,\"experimental\":1,\"hairless\":0,\"natural\":0,\"rare\":0,\"rex\":0,\"suppressed_tail\":0,\"short_legs\":0,\"wikipedia_url\":\"https://en.wikipedia.org/wiki/Savannah_cat\",\"hypoallergenic\":0,\"reference_image_id\":\"a8nIYvs6S\"},{\"weight\":{\"imperial\":\"5 - 11\",\"metric\":\"2 - 5\"},\"id\":\"sfol\",\"name\":\"Scottish Fold\",\"cfa_url\":\"http://cfa.org/Breeds/BreedsSthruT/ScottishFold.aspx\",\"vetstreet_url\":\"http://www.vetstreet.com/cats/scottish-fold-highland-fold\",\"vcahospitals_url\":\"https://vcahospitals.com/know-your-pet/cat-breeds/scottish-fold\",\"temperament\":\"Affectionate, Intelligent, Loyal, Playful, Social, Sweet, Loving\",\"origin\":\"United Kingdom\",\"country_codes\":\"GB\",\"country_code\":\"GB\",\"description\":\"The Scottish Fold is a sweet, charming breed. She is an easy cat to live with and to care for. She is affectionate and is comfortable with all members of her family. Her tail should be handled gently. Folds are known for sleeping on their backs, and for sitting with their legs stretched out and their paws on their belly. This is called the \\\\\"Buddha Position\\\\\".\",\"life_span\":\"11 - 14\",\"indoor\":0,\"alt_names\":\"Scot Fold\",\"adaptability\":5,\"affection_level\":5,\"child_friendly\":4,\"dog_friendly\":5,\"energy_level\":3,\"grooming\":1,\"health_issues\":4,\"intelligence\":3,\"shedding_level\":3,\"social_needs\":3,\"stranger_friendly\":3,\"vocalisation\":1,\"experimental\":0,\"hairless\":0,\"natural\":0,\"rare\":0,\"rex\":0,\"suppressed_tail\":0,\"short_legs\":0,\"wikipedia_url\":\"https://en.wikipedia.org/wiki/Scottish_Fold\",\"hypoallergenic\":0,\"reference_image_id\":\"o9t0LDcsa\"},{\"weight\":{\"imperial\":\"6 - 16\",\"metric\":\"3 - 7\"},\"id\":\"srex\",\"name\":\"Selkirk Rex\",\"cfa_url\":\"http://cfa.org/Breeds/BreedsSthruT/SelkirkRex.aspx\",\"vetstreet_url\":\"http://www.vetstreet.com/cats/selkirk-rex\",\"vcahospitals_url\":\"https://vcahospitals.com/know-your-pet/cat-breeds/selkirk-rex\",\"temperament\":\"Active, Affectionate, Dependent, Gentle, Patient, Playful, Quiet, Social\",\"origin\":\"United States\",\"country_codes\":\"US\",\"country_code\":\"US\",\"description\":\"The Selkirk Rex is an incredibly patient, loving, and tolerant breed. The Selkirk also has a silly side and is sometimes described as clownish. She loves being a lap cat and will be happy to chat with you in a quiet voice if you talk to her. \",\"life_span\":\"14 - 15\",\"indoor\":0,\"lap\":1,\"alt_names\":\"Shepherd Cat\",\"adaptability\":5,\"affection_level\":5,\"child_friendly\":4,\"dog_friendly\":5,\"energy_level\":3,\"grooming\":2,\"health_issues\":4,\"intelligence\":3,\"shedding_level\":1,\"social_needs\":3,\"stranger_friendly\":3,\"vocalisation\":3,\"experimental\":0,\"hairless\":0,\"natural\":0,\"rare\":0,\"rex\":1,\"suppressed_tail\":0,\"short_legs\":0,\"wikipedia_url\":\"https://en.wikipedia.org/wiki/Selkirk_Rex\",\"hypoallergenic\":1,\"reference_image_id\":\"II9dOZmrw\"},{\"weight\":{\"imperial\":\"8 - 15\",\"metric\":\"4 - 7\"},\"id\":\"siam\",\"name\":\"Siamese\",\"cfa_url\":\"http://cfa.org/Breeds/BreedsSthruT/Siamese.aspx\",\"vetstreet_url\":\"http://www.vetstreet.com/cats/siamese\",\"vcahospitals_url\":\"https://vcahospitals.com/know-your-pet/cat-breeds/siamese\",\"temperament\":\"Active, Agile, Clever, Sociable, Loving, Energetic\",\"origin\":\"Thailand\",\"country_codes\":\"TH\",\"country_code\":\"TH\",\"description\":\"While Siamese cats are extremely fond of their people, they will follow you around and supervise your every move, being talkative and opinionated. They are a demanding and social cat, that do not like being left alone for long periods.\",\"life_span\":\"12 - 15\",\"indoor\":0,\"lap\":1,\"alt_names\":\"Siam, Thai Cat\",\"adaptability\":5,\"affection_level\":5,\"child_friendly\":4,\"dog_friendly\":5,\"energy_level\":5,\"grooming\":1,\"health_issues\":1,\"intelligence\":5,\"shedding_level\":2,\"social_needs\":5,\"stranger_friendly\":5,\"vocalisation\":5,\"experimental\":0,\"hairless\":0,\"natural\":0,\"rare\":0,\"rex\":0,\"suppressed_tail\":0,\"short_legs\":0,\"wikipedia_url\":\"https://en.wikipedia.org/wiki/Siamese_(cat)\",\"hypoallergenic\":1,\"reference_image_id\":\"ai6Jps4sx\"},{\"weight\":{\"imperial\":\"8 - 16\",\"metric\":\"4 - 7\"},\"id\":\"sibe\",\"name\":\"Siberian\",\"cfa_url\":\"http://cfa.org/Breeds/BreedsSthruT/Siberian.aspx\",\"vetstreet_url\":\"http://www.vetstreet.com/cats/siberian\",\"vcahospitals_url\":\"https://vcahospitals.com/know-your-pet/cat-breeds/siberian\",\"temperament\":\"Curious, Intelligent, Loyal, Sweet, Agile, Playful, Affectionate\",\"origin\":\"Russia\",\"country_codes\":\"RU\",\"country_code\":\"RU\",\"description\":\"The Siberians dog like temperament and affection makes the ideal lap cat and will live quite happily indoors. Very agile and powerful, the Siberian cat can easily leap and reach high places, including the tops of refrigerators and even doors. \",\"life_span\":\"12 - 15\",\"indoor\":0,\"lap\":1,\"alt_names\":\"Moscow Semi-longhair, HairSiberian Forest Cat\",\"adaptability\":5,\"affection_level\":5,\"child_friendly\":4,\"dog_friendly\":5,\"energy_level\":5,\"grooming\":2,\"health_issues\":2,\"intelligence\":5,\"shedding_level\":3,\"social_needs\":4,\"stranger_friendly\":3,\"vocalisation\":1,\"experimental\":0,\"hairless\":0,\"natural\":1,\"rare\":0,\"rex\":0,\"suppressed_tail\":0,\"short_legs\":0,\"wikipedia_url\":\"https://en.wikipedia.org/wiki/Siberian_(cat)\",\"hypoallergenic\":1,\"reference_image_id\":\"3bkZAjRh1\"},{\"weight\":{\"imperial\":\"5 - 8\",\"metric\":\"2 - 4\"},\"id\":\"sing\",\"name\":\"Singapura\",\"cfa_url\":\"http://cfa.org/Breeds/BreedsSthruT/Singapura.aspx\",\"vetstreet_url\":\"http://www.vetstreet.com/cats/singapura\",\"vcahospitals_url\":\"https://vcahospitals.com/know-your-pet/cat-breeds/singapura\",\"temperament\":\"Affectionate, Curious, Easy Going, Intelligent, Interactive, Lively, Loyal\",\"origin\":\"Singapore\",\"country_codes\":\"SP\",\"country_code\":\"SP\",\"description\":\"The Singapura is usually cautious when it comes to meeting new people, but loves attention from his family so much that she sometimes has the reputation of being a pest. This is a highly active, curious and affectionate cat. She may be small, but she knows she’s in charge\",\"life_span\":\"12 - 15\",\"indoor\":0,\"lap\":1,\"alt_names\":\"Drain Cat, Kucinta, Pura\",\"adaptability\":5,\"affection_level\":5,\"child_friendly\":4,\"dog_friendly\":5,\"energy_level\":5,\"grooming\":1,\"health_issues\":1,\"intelligence\":5,\"shedding_level\":3,\"social_needs\":5,\"stranger_friendly\":5,\"vocalisation\":1,\"experimental\":0,\"hairless\":0,\"natural\":0,\"rare\":0,\"rex\":0,\"suppressed_tail\":0,\"short_legs\":0,\"wikipedia_url\":\"https://en.wikipedia.org/wiki/Singapura_(cat)\",\"hypoallergenic\":0,\"reference_image_id\":\"Qtncp2nRe\"},{\"weight\":{\"imperial\":\"7 - 12\",\"metric\":\"3 - 5\"},\"id\":\"snow\",\"name\":\"Snowshoe\",\"temperament\":\"Affectionate, Social, Intelligent, Sweet-tempered\",\"origin\":\"United States\",\"country_codes\":\"US\",\"country_code\":\"US\",\"description\":\"The Snowshoe is a vibrant, energetic, affectionate and intelligent cat. They love being around people which makes them ideal for families, and becomes unhappy when left alone for long periods of time. Usually attaching themselves to one person, they do whatever they can to get your attention.\",\"life_span\":\"14 - 19\",\"indoor\":0,\"lap\":1,\"alt_names\":\"\",\"adaptability\":5,\"affection_level\":5,\"child_friendly\":4,\"dog_friendly\":5,\"energy_level\":4,\"grooming\":3,\"health_issues\":1,\"intelligence\":5,\"shedding_level\":3,\"social_needs\":4,\"stranger_friendly\":4,\"vocalisation\":5,\"experimental\":0,\"hairless\":0,\"natural\":0,\"rare\":0,\"rex\":0,\"suppressed_tail\":0,\"short_legs\":0,\"wikipedia_url\":\"https://en.wikipedia.org/wiki/Snowshoe_(cat)\",\"hypoallergenic\":0,\"reference_image_id\":\"MK-sYESvO\"},{\"weight\":{\"imperial\":\"6 - 12\",\"metric\":\"3 - 5\"},\"id\":\"soma\",\"name\":\"Somali\",\"cfa_url\":\"http://cfa.org/Breeds/BreedsSthruT/Somali.aspx\",\"vetstreet_url\":\"http://www.vetstreet.com/cats/somali\",\"vcahospitals_url\":\"https://vcahospitals.com/know-your-pet/cat-breeds/somali\",\"temperament\":\"Mischievous, Tenacious, Intelligent, Affectionate, Gentle, Interactive, Loyal\",\"origin\":\"Somalia\",\"country_codes\":\"SO\",\"country_code\":\"SO\",\"description\":\"The Somali lives life to the fullest. He climbs higher, jumps farther, plays harder. Nothing escapes the notice of this highly intelligent and inquisitive cat. Somalis love the company of humans and other animals.\",\"life_span\":\"12 - 16\",\"indoor\":0,\"alt_names\":\"Fox Cat, Long-Haired Abyssinian\",\"adaptability\":5,\"affection_level\":5,\"child_friendly\":3,\"dog_friendly\":4,\"energy_level\":5,\"grooming\":3,\"health_issues\":2,\"intelligence\":5,\"shedding_level\":4,\"social_needs\":5,\"stranger_friendly\":5,\"vocalisation\":1,\"experimental\":0,\"hairless\":0,\"natural\":0,\"rare\":0,\"rex\":0,\"suppressed_tail\":0,\"short_legs\":0,\"wikipedia_url\":\"https://en.wikipedia.org/wiki/Somali_(cat)\",\"hypoallergenic\":0,\"reference_image_id\":\"EPF2ejNS0\"},{\"weight\":{\"imperial\":\"6 - 12\",\"metric\":\"3 - 5\"},\"id\":\"sphy\",\"name\":\"Sphynx\",\"cfa_url\":\"http://cfa.org/Breeds/BreedsSthruT/Sphynx.aspx\",\"vetstreet_url\":\"http://www.vetstreet.com/cats/sphynx\",\"vcahospitals_url\":\"https://vcahospitals.com/know-your-pet/cat-breeds/sphynx\",\"temperament\":\"Loyal, Inquisitive, Friendly, Quiet, Gentle\",\"origin\":\"Canada\",\"country_codes\":\"CA\",\"country_code\":\"CA\",\"description\":\"The Sphynx is an intelligent, inquisitive, extremely friendly people-oriented breed. Sphynx commonly greet their owners  at the front door, with obvious excitement and happiness. She has an unexpected sense of humor that is often at odds with her dour expression.\",\"life_span\":\"12 - 14\",\"indoor\":0,\"lap\":1,\"alt_names\":\"Canadian Hairless, Canadian Sphynx\",\"adaptability\":5,\"affection_level\":5,\"child_friendly\":4,\"dog_friendly\":5,\"energy_level\":3,\"grooming\":2,\"health_issues\":4,\"intelligence\":5,\"shedding_level\":1,\"social_needs\":5,\"stranger_friendly\":5,\"vocalisation\":5,\"experimental\":0,\"hairless\":1,\"natural\":0,\"rare\":1,\"rex\":0,\"suppressed_tail\":0,\"short_legs\":0,\"wikipedia_url\":\"https://en.wikipedia.org/wiki/Sphynx_(cat)\",\"hypoallergenic\":1,\"reference_image_id\":\"BDb8ZXb1v\"},{\"weight\":{\"imperial\":\"6 - 12\",\"metric\":\"3 - 5\"},\"id\":\"tonk\",\"name\":\"Tonkinese\",\"cfa_url\":\"http://cfa.org/Breeds/BreedsSthruT/Tonkinese.aspx\",\"vetstreet_url\":\"http://www.vetstreet.com/cats/tonkinese\",\"vcahospitals_url\":\"https://vcahospitals.com/know-your-pet/cat-breeds/tonkinese\",\"temperament\":\"Curious, Intelligent, Social, Lively, Outgoing, Playful, Affectionate\",\"origin\":\"Canada\",\"country_codes\":\"CA\",\"country_code\":\"CA\",\"description\":\"Intelligent and generous with their affection, a Tonkinese will supervise all activities with curiosity. Loving, social, active, playful, yet content to be a lap cat\",\"life_span\":\"14 - 16\",\"indoor\":0,\"lap\":1,\"alt_names\":\"Tonk\",\"adaptability\":5,\"affection_level\":5,\"child_friendly\":4,\"dog_friendly\":5,\"energy_level\":5,\"grooming\":1,\"health_issues\":1,\"intelligence\":5,\"shedding_level\":3,\"social_needs\":5,\"stranger_friendly\":5,\"vocalisation\":5,\"experimental\":0,\"hairless\":0,\"natural\":0,\"rare\":0,\"rex\":0,\"suppressed_tail\":0,\"short_legs\":0,\"wikipedia_url\":\"https://en.wikipedia.org/wiki/Tonkinese_(cat)\",\"hypoallergenic\":0,\"reference_image_id\":\"KBroiVNCM\"},{\"weight\":{\"imperial\":\"7 - 15\",\"metric\":\"3 - 7\"},\"id\":\"toyg\",\"name\":\"Toyger\",\"vetstreet_url\":\"http://www.vetstreet.com/cats/toyger\",\"temperament\":\"Playful, Social, Intelligent\",\"origin\":\"United States\",\"country_codes\":\"US\",\"country_code\":\"US\",\"description\":\"The Toyger has a sweet, calm personality and is generally friendly. He\\'s outgoing enough to walk on a leash, energetic enough to play fetch and other interactive games, and confident enough to get along with other cats and friendly dogs.\",\"life_span\":\"12 - 15\",\"indoor\":0,\"lap\":1,\"alt_names\":\"\",\"adaptability\":5,\"affection_level\":5,\"child_friendly\":4,\"dog_friendly\":5,\"energy_level\":5,\"grooming\":1,\"health_issues\":2,\"intelligence\":5,\"shedding_level\":3,\"social_needs\":3,\"stranger_friendly\":5,\"vocalisation\":5,\"experimental\":0,\"hairless\":0,\"natural\":0,\"rare\":0,\"rex\":0,\"suppressed_tail\":0,\"short_legs\":0,\"wikipedia_url\":\"https://en.wikipedia.org/wiki/Toyger\",\"hypoallergenic\":0,\"reference_image_id\":\"O3F3_S1XN\"},{\"weight\":{\"imperial\":\"5 - 10\",\"metric\":\"2 - 5\"},\"id\":\"tang\",\"name\":\"Turkish Angora\",\"cfa_url\":\"http://cfa.org/Breeds/BreedsSthruT/TurkishAngora.aspx\",\"vetstreet_url\":\"http://www.vetstreet.com/cats/turkish-angora\",\"vcahospitals_url\":\"https://vcahospitals.com/know-your-pet/cat-breeds/turkish-angora\",\"temperament\":\"Affectionate, Agile, Clever, Gentle, Intelligent, Playful, Social\",\"origin\":\"Turkey\",\"country_codes\":\"TR\",\"country_code\":\"TR\",\"description\":\"This is a smart and intelligent cat which bonds well with humans. With its affectionate and playful personality the Angora is a top choice for families. The Angora gets along great with other pets in the home, but it will make clear who is in charge, and who the house belongs to\",\"life_span\":\"15 - 18\",\"indoor\":0,\"alt_names\":\"Ankara\",\"adaptability\":5,\"affection_level\":5,\"child_friendly\":4,\"dog_friendly\":5,\"energy_level\":5,\"grooming\":2,\"health_issues\":2,\"intelligence\":5,\"shedding_level\":2,\"social_needs\":5,\"stranger_friendly\":5,\"vocalisation\":3,\"experimental\":0,\"hairless\":0,\"natural\":1,\"rare\":0,\"rex\":0,\"suppressed_tail\":0,\"short_legs\":0,\"wikipedia_url\":\"https://en.wikipedia.org/wiki/Turkish_Angora\",\"hypoallergenic\":0,\"reference_image_id\":\"7CGV6WVXq\"},{\"weight\":{\"imperial\":\"7 - 20\",\"metric\":\"3 - 9\"},\"id\":\"tvan\",\"name\":\"Turkish Van\",\"cfa_url\":\"http://cfa.org/Breeds/BreedsSthruT/TurkishVan.aspx\",\"vetstreet_url\":\"http://www.vetstreet.com/cats/turkish-van\",\"vcahospitals_url\":\"https://vcahospitals.com/know-your-pet/cat-breeds/turkish-van\",\"temperament\":\"Agile, Intelligent, Loyal, Playful, Energetic\",\"origin\":\"Turkey\",\"country_codes\":\"TR\",\"country_code\":\"TR\",\"description\":\"While the Turkish Van loves to jump and climb, play with toys, retrieve and play chase, she is is big and ungainly; this is one cat who doesn’t always land on his feet. While not much of a lap cat, the Van will be happy to cuddle next to you and sleep in your bed. \",\"life_span\":\"12 - 17\",\"indoor\":0,\"alt_names\":\"Turkish Cat, Swimming cat\",\"adaptability\":5,\"affection_level\":5,\"child_friendly\":4,\"dog_friendly\":5,\"energy_level\":5,\"grooming\":2,\"health_issues\":1,\"intelligence\":5,\"shedding_level\":3,\"social_needs\":4,\"stranger_friendly\":4,\"vocalisation\":5,\"experimental\":0,\"hairless\":0,\"natural\":1,\"rare\":0,\"rex\":0,\"suppressed_tail\":0,\"short_legs\":0,\"wikipedia_url\":\"https://en.wikipedia.org/wiki/Turkish_Van\",\"hypoallergenic\":0,\"reference_image_id\":\"sxIXJax6h\"},{\"weight\":{\"imperial\":\"12 - 18\",\"metric\":\"5 - 8\"},\"id\":\"ycho\",\"name\":\"York Chocolate\",\"temperament\":\"Playful, Social, Intelligent, Curious, Friendly\",\"origin\":\"United States\",\"country_codes\":\"US\",\"country_code\":\"US\",\"description\":\"York Chocolate cats are known to be true lap cats with a sweet temperament. They love to be cuddled and petted. Their curious nature makes them follow you all the time and participate in almost everything you do, even if it\\'s related to water: unlike many other cats, York Chocolates love it.\",\"life_span\":\"13 - 15\",\"indoor\":0,\"lap\":1,\"alt_names\":\"York\",\"adaptability\":5,\"affection_level\":5,\"child_friendly\":4,\"dog_friendly\":5,\"energy_level\":5,\"grooming\":3,\"health_issues\":1,\"intelligence\":5,\"shedding_level\":3,\"social_needs\":4,\"stranger_friendly\":4,\"vocalisation\":5,\"experimental\":0,\"hairless\":0,\"natural\":0,\"rare\":0,\"rex\":0,\"suppressed_tail\":0,\"short_legs\":0,\"wikipedia_url\":\"https://en.wikipedia.org/wiki/York_Chocolate\",\"hypoallergenic\":0,\"reference_image_id\":\"0SxW2SQ_S\"}]'"
      ]
     },
     "execution_count": 49,
     "metadata": {},
     "output_type": "execute_result"
    }
   ],
   "source": [
    "response = requests.get(\"https://api.thecatapi.com/v1/breeds\")\n",
    "response.text"
   ]
  },
  {
   "cell_type": "code",
   "execution_count": 50,
   "id": "2299658c",
   "metadata": {},
   "outputs": [],
   "source": [
    "request = response.request"
   ]
  },
  {
   "cell_type": "code",
   "execution_count": 51,
   "id": "844b98ab",
   "metadata": {},
   "outputs": [
    {
     "data": {
      "text/plain": [
       "'https://api.thecatapi.com/v1/breeds'"
      ]
     },
     "execution_count": 51,
     "metadata": {},
     "output_type": "execute_result"
    }
   ],
   "source": [
    "request.url"
   ]
  },
  {
   "cell_type": "code",
   "execution_count": 52,
   "id": "5e10ee78",
   "metadata": {},
   "outputs": [
    {
     "data": {
      "text/plain": [
       "'GET'"
      ]
     },
     "execution_count": 52,
     "metadata": {},
     "output_type": "execute_result"
    }
   ],
   "source": [
    "request.method"
   ]
  },
  {
   "cell_type": "code",
   "execution_count": 53,
   "id": "9cbeb915",
   "metadata": {},
   "outputs": [
    {
     "data": {
      "text/plain": [
       "{'User-Agent': 'python-requests/2.29.0', 'Accept-Encoding': 'gzip, deflate, br', 'Accept': '*/*', 'Connection': 'keep-alive'}"
      ]
     },
     "execution_count": 53,
     "metadata": {},
     "output_type": "execute_result"
    }
   ],
   "source": [
    "request.headers"
   ]
  },
  {
   "cell_type": "code",
   "execution_count": 54,
   "id": "055bf0b0",
   "metadata": {},
   "outputs": [
    {
     "data": {
      "text/plain": [
       "'OK'"
      ]
     },
     "execution_count": 54,
     "metadata": {},
     "output_type": "execute_result"
    }
   ],
   "source": [
    "response.reason"
   ]
  },
  {
   "cell_type": "code",
   "execution_count": 55,
   "id": "72f1dba6",
   "metadata": {},
   "outputs": [
    {
     "data": {
      "text/plain": [
       "{'x-dns-prefetch-control': 'off', 'x-frame-options': 'SAMEORIGIN', 'strict-transport-security': 'max-age=15552000; includeSubDomains', 'x-download-options': 'noopen', 'x-content-type-options': 'nosniff', 'x-xss-protection': '1; mode=block', 'vary': 'Origin', 'content-type': 'application/json; charset=utf-8', 'x-response-time': '1ms', 'X-Cloud-Trace-Context': 'de48bbcbd8ca4b7d27677d36fed695b3', 'Date': 'Sun, 17 Mar 2024 14:16:10 GMT', 'Server': 'Google Frontend', 'Content-Length': '1041'}"
      ]
     },
     "execution_count": 55,
     "metadata": {},
     "output_type": "execute_result"
    }
   ],
   "source": [
    "response = requests.get(\"https://api.thecatapi.com/v1/breeds/abys\")\n",
    "response.headers\n"
   ]
  },
  {
   "cell_type": "markdown",
   "id": "474b8c32",
   "metadata": {},
   "source": [
    "# Custom Headers\n",
    "Another standard that you might come across when consuming APIs is the use of custom headers. These usually start with X-, but that’s not a requirement. API developers typically use custom headers to send or request additional custom information from clients."
   ]
  },
  {
   "cell_type": "code",
   "execution_count": 56,
   "id": "f47f4e24",
   "metadata": {},
   "outputs": [
    {
     "data": {
      "text/plain": [
       "{'User-Agent': 'python-requests/2.29.0', 'Accept-Encoding': 'gzip, deflate, br', 'Accept': '*/*', 'Connection': 'keep-alive', 'X-Request-Id': '<my-request-id>'}"
      ]
     },
     "execution_count": 56,
     "metadata": {},
     "output_type": "execute_result"
    }
   ],
   "source": [
    "headers = {\"X-Request-Id\": \"<my-request-id>\"}\n",
    "response = requests.get(\"https://example.org\", headers=headers)\n",
    "response.request.headers"
   ]
  },
  {
   "cell_type": "markdown",
   "id": "338bffca",
   "metadata": {},
   "source": [
    "These days, most APIs use JSON as the default content type, but you might need to use an API that returns XML or other media types, such as images or video. In that case, the content type will differ.\n",
    "\n",
    "If you look back to one of the previous examples using the Cat API and try to inspect the Content-Type header, then you’ll notice how it was defined as application/json:"
   ]
  },
  {
   "cell_type": "code",
   "execution_count": 57,
   "id": "d84a0b5d",
   "metadata": {},
   "outputs": [
    {
     "data": {
      "text/plain": [
       "'application/json; charset=utf-8'"
      ]
     },
     "execution_count": 57,
     "metadata": {},
     "output_type": "execute_result"
    }
   ],
   "source": [
    "response = requests.get(\"https://api.thecatapi.com/v1/breeds/abys\")\n",
    "response.headers.get(\"Content-Type\")"
   ]
  },
  {
   "cell_type": "code",
   "execution_count": 58,
   "id": "53fa67f4",
   "metadata": {},
   "outputs": [],
   "source": [
    "url = \"https://image-charts.com/chart?chs=700x125&cht=ls&chd=t:23,15,28\"\n",
    "response = requests.get(url)"
   ]
  },
  {
   "cell_type": "code",
   "execution_count": 59,
   "id": "f992c5fe",
   "metadata": {},
   "outputs": [
    {
     "data": {
      "text/plain": [
       "'image/png'"
      ]
     },
     "execution_count": 59,
     "metadata": {},
     "output_type": "execute_result"
    }
   ],
   "source": [
    "response.headers.get(\"Content-Type\")"
   ]
  },
  {
   "cell_type": "code",
   "execution_count": 60,
   "id": "d9a20a1c",
   "metadata": {},
   "outputs": [
    {
     "data": {
      "text/plain": [
       "b'\\x89PNG\\r\\n\\x1a\\n\\x00\\x00\\x00\\rIHDR\\x00\\x00\\x02\\xbc\\x00\\x00\\x00}\\x08\\x06\\x00\\x00\\x00@\\x91\\xb0{\\x00\\x00\\x00\\x06bKGD\\x00\\xff\\x00\\xff\\x00\\xff\\xa0\\xbd\\xa7\\x93\\x00\\x00\\x16\\x8aIDATx^\\xed\\xddY\\x88$\\xd5\\x9e\\xc7\\xf1\\x7fd\\xed\\x99U\\x95YKw\\xf5\\xa2\\x0c\\xae\\xa8\\x88\\xca\\xbc\\xb8 \\xfa .\\xdc\\x07\\x05A\\xc4\\xe5AttDG\\xc1}C\\x107\\x14\\\\\\x9e]\\x10q\\x10Fp\\x1e\\xf4It\\x98\\x99\\x17\\x15\\\\P\\xc4+^Q\\xb8#\\xb7\\xbb*\\xbb\\xab2k\\xc9\\xcc\\xaa\\xae%b\\xf8\\x9f\\x88\\xc8\\xce\\xac\\xca\\xea\\xce\\xea>Uy2\\xf2\\x9bPdWT\\xd4\\x89\\x13\\x9f\\x93\\xf6\\xfd\\xdd\\xd3\\'\\xfe\\xc7\\x0b\\x82 \\x10^\\x08 \\x80\\x00\\x02\\x08 \\x80\\x00\\x02\\x08$T \\x95\\xd0\\xfb\\xe2\\xb6\\x10@\\x00\\x01\\x04\\x10@\\x00\\x01\\x04\\x100\\x02\\x04^>\\x08\\x08 \\x80\\x00\\x02\\x08 \\x80@\\x1b\\x08,--\\xc9\\xf5\\xd7_/\\xdf~\\xfbm\\xcb{[\\xa9TL_\\xbe\\xfb\\xee\\xbb-\\xf5\\xe5\\x9bo\\xbe1\\xbfw\\xe4\\xc8\\x91-\\xfd\\xde\\xc9\\x9eL\\xe0=YA~\\x1f\\x01\\x04\\x10@\\x00\\x01\\x04\\x10\\xd8\\x01\\x81\\xde\\xde^y\\xf6\\xd9g\\xe5\\xec\\xb3\\xcf\\xde\\x81\\xab%\\xeb\\x12\\x04\\xded\\x8d\\'w\\x83\\x00\\x02\\x08 \\x80\\x00\\x02\\t\\x15X^^\\x96\\x17^xA~\\xfb\\xed7y\\xef\\xbd\\xf7\\xccLi\\xed\\xd7\\x1bo\\xbcQ\\xbd\\xf3|>/w\\xddu\\x97\\xf9\\xf9\\xc3\\x0f?l\\x8e\\x1f\\xeb\\xd8SO=uL\\xb5\\x83\\x07\\x0f\\x9a\\xf6\\x9e~\\xfai\\xf1}\\xbfz\\xee\\xf3\\xcf?/o\\xbe\\xf9f\\xf5\\xfb\\xa9\\xa9\\xa9\\xeau\\x1fy\\xe4\\x11s|aaA\\x1ex\\xe0\\x01y\\xff\\xfd\\xf7\\xab\\xe7\\xddt\\xd3M\\xd5\\xd9\\xe1/\\xbf\\xfc\\xb2z\\x1f\\xdf\\x7f\\xff}]?\\xf4\\xbaw\\xdey\\xa7<\\xf3\\xcc3\\xd5\\xeb\\xea5\\xe2czr\\xb9\\\\\\xde`q\\xc3\\r7\\x88\\x9e\\x17\\xbf\\x08\\xbcu\\xac|\\x83\\x00\\x02\\x08 \\x80\\x00\\x02\\x08\\xb4\\x87\\xc0\\xbe}\\xfbL\\x00\\xd5\\xd7\\xad\\xb7\\xde*\\x1a\\x88_\\x7f\\xfdu\\xd1\\xa5\\x0fw\\xdf}\\xb7\\\\}\\xf5\\xd5r\\xd9e\\x97\\x99\\x9f/..\\x9ac\\xd7\\\\s\\x8d\\\\z\\xe9\\xa5u\\xc7\\xae\\xbc\\xf2J\\xc9d2\\xd5`\\xac\\x012\\xfe\\xd2\\xb6t\\xf9\\xc2\\xbd\\xf7\\xdek~whhH\\x1e{\\xec\\xb1*\\xd0m\\xb7\\xddf\\xae\\xa7a[\\xcf\\xbb\\xe7\\x9e{\\xea\\xae\\xa1?\\xd3\\xe0{\\xf9\\xe5\\x97\\x9b\\xfe\\xc4/\\r\\xb0:S\\xfd\\xee\\xbb\\xef\\xca\\x07\\x1f| O>\\xf9\\xa4<\\xf7\\xdcsr\\xd6YgU\\xcf\\x89\\xaf{\\xed\\xb5\\xd7\\xca\\xe0\\xe0\\xa0<\\xfe\\xf8\\xe3\\xa6_z\\x8d\\xeb\\xae\\xbb\\xce\\xf4\\xf9\\xd1G\\x1f\\xad\\x9e\\x7f\\xfb\\xed\\xb7\\xcb%\\x97\\\\\"\\xa7\\x9cr\\x8a<\\xf1\\xc4\\x13\\xe6\\xeb\\xd7_\\x7f5?\\xef\\xae\\x9e\\xc5\\x1f\\x10@\\x00\\x01\\x04\\x10@\\x00\\x01\\x04\\xdaF \\x9dN\\xcbE\\x17]d\\xfa{\\xc6\\x19g\\x98\\xc0\\xf9\\xf3\\xcf?W\\xfb\\x1f\\x1f;t\\xe8P\\xdd1\\r\\x8d\\x87\\x0f\\x1f\\xae\\x1e\\xfb\\xf8\\xe3\\x8f\\xe5\\xf4\\xd3O7AV\\x83\\xf1-\\xb7\\xdcR\\xfd\\xd9\\x99g\\x9e)/\\xbe\\xf8b\\xf5\\x1aW]u\\x959\\'~\\xe95J\\xa5\\x92\\xfc\\xf2\\xcb/\\x1b\\x8eMOO\\x9bYY\\x9di\\xd5\\xf3\\xf6\\xef\\xdf/\\x07\\x0e\\x1c0\\xe7i\\xbf\\xfb\\xfa\\xfa\\xe4\\xc6\\x1bo4}~\\xf5\\xd5W\\xe5\\x93O>\\xa9\\xb6Q\\xfb\\x07\\xed\\x83^W\\xc3s\\xfc\\xd2csssR(\\x14\\x1a\\x1e\\xbb\\xf0\\xc2\\x0b\\xa5X,\\x1a\\x13}\\x11x\\x1b\\xd2r\\x10\\x01\\x04\\x10@\\x00\\x01\\x04\\x10\\xe8\\x0c\\x81;\\xee\\xb8C\\xae\\xb8\\xe2\\n\\x19\\x1f\\x1f7\\x01\\xf5\\x95W^\\xa9\\xde\\xf8\\xc0\\xc0@\\x1d\\xc2\\xc8\\xc8\\x88\\xe4r93\\x9bl\\xe35::*/\\xbf\\xfc\\xb2\\x99\\x89\\xfd\\xe8\\xa3\\x8f\\xe4\\xe6\\x9bon\\xd8\\xac^W+\\xe9\\x9e\\xc8\\xc3nAi\\x91\\xc0\\xdbP\\x95\\x83\\x08 \\x80\\x00\\x02\\x08 \\x80@\\x9b\\ntww\\x9b\\x7f\\xda\\xff\\xe3\\x8f?$\\x9e\\xdd\\xad=\\xa6ky\\xf5\\x15\\x1f[YY\\x91?\\xff\\xfcStF\\xf6\\x9cs\\xce\\x91\\xf3\\xce;\\xaf\\xee\\xce\\xe3YRm\\xef\\x8b/\\xbe0\\xe7\\xe9Z\\xe2\\xf5\\xafF\\xd7]\\x7fN\\xfc\\xfd\\x8f?\\xfe(\\xe7\\x9e{\\xae\\xcc\\xcf\\xcf\\x9b>j\\x90\\xfd\\xf0\\xc3\\x0fEgn\\'&&\\xcc\\xd2\\x85SO=\\xd5\\x9c\\xfe\\xfb\\xef\\xbf\\xcb\\xe7\\x9f\\x7f.333&\\x1c_|\\xf1\\xc5\\xe6\\x98\\xf6C\\x97J\\xc4\\xaf`\\xb6$\\xfe\\x81\\x19\\xf1\\xff//\\xcb\\xff\\xf1\\xbf\\xe2\\xffqP\\x8e\\xbc\\xf9\\x9f\\xb2\\xb4\\xff4\\xca\\x92m6\\x10\\x1cG\\x00\\x01\\x04\\x10@\\x00\\x01\\x04\\xdaQ@\\x83\\xa7\\xae\\xed\\xfd\\xe9\\xa7\\x9f\\xe4\\xab\\xaf\\xbe2\\xb7\\xd0\\xd3\\xd3c\\x8ei\\xd0\\xfc\\xfa\\xeb\\xaf7\\x1c\\xd3\\xf5\\xb3o\\xbf\\xfdv\\xc3\\xdb\\xd5\\xa5\\x13\\x9f~\\xfa\\xa9\\xf9\\xdd\\xd3N;\\xcd\\xac\\x13n\\xf4\\xd2*\\x12\\xeb\\xaf\\xb1\\xfe\\xbc\\x0b.\\xb8@\\xee\\xbf\\xff~y\\xe9\\xa5\\x97\\xcc\\xc3w\\x9f}\\xf6\\x99Y\\xbb\\xab\\xb3\\xcao\\xbd\\xf5\\x96\\x9c\\x7f\\xfe\\xf9\\xe6\\xd8;\\xef\\xbc#\\xf1u\\x7f\\xf8\\xe1\\x07\\xb3\\xe4\\xe2\\xb5\\xd7^\\x93\\xde\\xaeny\\xfa_\\xffM\\xbe\\xfb\\xec\\xbf\\xe5\\x9fJ\"\\x7f\\x99K\\xcb\\xd2\\xeb\\x1f\\xcb\\xda_\\xff.\\xcb\\xff\\xfe_\\xe2\\xff\\xedO\\t*G$\\xb5oT\\xbc\\x89\\x11\\xe9\\xbd\\xfb/2\\xf0\\xca\\xbf\\x88\\xc7Nk\\xeb\\x87\\x82\\xef\\x11@\\x00\\x01\\x04\\x10@\\x00\\x81d\\n\\xe8Z[]+\\x9b\\xcdf\\xe5\\xbe\\xfb\\xees\\xf6&\\x83\\xa5e\\t\\x0e\\xcdJ0=\\'\\xfed\\xc1|\\x05\\x933\\xe2O\\xcf\\x89\\x97\\x1d\\x94\\xd4\\xdeQ\\xf3\\xe5\\x8dg\\xc3?\\x9f\\xb2K\\xa4\\xafg\\xd3\\xfb!\\xf0nJ\\xc3\\x0f\\x10@\\x00\\x01\\x04\\x10@\\x00\\x81d\\t<\\xf4\\xd0Cf\\x96\\xf6\\xc1\\x07\\x1ft\\xe2\\xc6t6\\xd6\\x04Y\\r\\xb4\\xb5\\xe1v\\xae$\\xa9\\xf1\\xacx{\\xc7\\xd6\\x85\\xdb1\\x91\\x9e\\xae-\\xf7\\x9d\\xc0\\xbbe2~\\x01\\x01\\x04\\x10@\\x00\\x01\\x04\\x10@`+\\x02\\xc1\\\\\\xf9\\xe8,m\\x1cn\\x0f\\xce\\x88\\xac\\xaeUgi\\xeb\\xc2\\xed\\xd8\\xb0\\x88\\xe7m\\xe5\\x12\\xc7<\\x97\\xc0{L\\x1e~\\x88\\x00\\x02\\x08 \\x80\\x00\\x02\\x08 \\xd0\\x94\\xc0\\x9a/Aq\\xa1~\\t\\x82.G\\x98*\\x8a7\\xd0[\\xb7\\x04!\\x0e\\xb7^6\\xd3T\\xd3\\'{\\x12\\x81\\xf7d\\x05\\xf9}\\x04\\x10@\\x00\\x01\\x04\\x10@\\xa0\\x83\\x04\\x82\\xc5e\\t\\x0e\\xdb[_\\xbb\\x13t\\x04\\xde\\x9dP\\xe6\\x1a\\x08 \\x80\\x00\\x02\\x08 \\x80@\\x9b\\t\\xec\\xd4\\xfa\\xda\\x9d`!\\xf0\\xee\\x842\\xd7@\\x00\\x01\\x04\\x10@\\x00\\x01\\x04\\x1c\\x15h\\xf5\\xfa\\xda\\x9d`!\\xf0\\xee\\x842\\xd7@\\x00\\x01\\x04\\x10@\\x00\\x01\\x04Z)\\xb0\\xbaf\\xd6\\xd2\\x06\\xf9\\xa2\\xf8S\\xe1\\xba\\xda _\\x10??+\\xdepZR{F$\\xb5w\\xcc\\xd4\\xaeM\\xed\\x19\\x15o\\xcf\\x88x\\x99\\xfeV\\xf6\\xd8\\xea\\xb5\\t\\xbcV9i\\x0c\\x01\\x04\\x10@\\x00\\x01\\x04\\x10h\\x9d\\x80Y\\x86P\\x1bh\\xa7\\xc2\\x80\\x1b\\xcc\\x96%\\xb5+\\x1b\\x05\\xda\\x9ap;1\"\\xd2\\xdb\\xdd\\xba\\x0e\\xef\\xd0\\x95\\t\\xbc;\\x04\\xcde\\x10@\\x00\\x01\\x04\\x10@\\x00\\x01[\\x02\\xb5\\xebk\\xfd\\xc9\\x19\\t\\xb4\\x1a\\xc2\\xf4\\xbcHyQ\\xbc]\\xb9\\xa3\\x1b2\\xc4\\x9b3\\xec\\x1b\\x13\\xe9\\xdez\\xfdZ[\\xfdmu;\\x04\\xdeV\\x8f\\x00\\xd7G\\x00\\x01\\x04\\x10@\\x00\\x01\\x04\\x1a\\t\\xf8\\xbe\\x04\\x85\\x05\\x13d\\xe3\\xcd\\x19L\\xb8=0#\\x92\\xf2\\xc43\\xbb\\x8d\\x8d\\xd5\\x87\\xdb\\xb1\\xac\\x88\\xbd\\xf2\\xb5\\x8dz\\xd5\\x96\\xc7\\x08\\xbcm9lt\\x1a\\x01\\x04\\x10@\\x00\\x01\\x04\\x12#\\xa0\\xebk\\xb5\\xccW4K{4\\xdc\\x16\\xc4K\\xf7\\x85\\xf5kk\\xc3\\xed\\xfeq\\xf1\\x86\\x06\\x12s\\xfb;q#\\x04\\xde\\x9dP\\xe6\\x1a\\x08 \\x80\\x00\\x02\\x08 \\xd0\\xf1\\x02f\\x19\\x82\\xd9>7Z\\x82\\xa0\\x01Ww\\x1d\\xab\\xddFw|\\xb8:s\\xab\\x0f\\x8fu\\xc2\\xfa\\xda\\x9d\\xf8`\\x10xwB\\x99k \\x80\\x00\\x02\\x08 \\x80@\\xc7\\x08T\\xcb|\\xad\\x0b\\xb7\\xb2\\xb2Z\\xbf\\x8dn\\x1cn\\'F\\xcd\\x12\\x05^\\xdb\\'@\\xe0\\xdd>[ZF\\x00\\x01\\x04\\x10@\\x00\\x81\\xa4\\n\\xac\\xdfF7\\n\\xb7\\xfe?\\xa6\\xc5\\xebJ\\x1d\\x9d\\xa5\\xd5\\x87\\xc6\\xf6\\x8eIJ\\xc3\\xedx6\\xa9\\x1a\\xce\\xdf\\x17\\x81\\xd7\\xf9!\\xa2\\x83\\x08 \\x80\\x00\\x02\\x08 \\xd0*\\x81\\xadn\\xa3\\xeb\\xe9\\xfa\\xda\\xfe\\xdeVu\\x97\\xebn\"@\\xe0\\xdd\\x04\\x86\\xc3\\x08 \\x80\\x00\\x02\\x08 \\xd09\\x02I\\xdaF\\xb7sF\\xad\\xf9;%\\xf06o\\xc5\\x99\\x08 \\x80\\x00\\x02\\x08 \\xd0\\xce\\x02\\r\\xca|\\x99\\x87\\xc8\\x0eL\\x8b\\xac\\xf9\\x9b\\x94\\xf9\\x1a\\x16\\xf1X_\\xdb\\xce\\xc3\\xae}\\xf7V\\xff\\xfa\\xf7\\xc0\\xcb\\r\\x8a7\\x94\\xa6\\xc4E\\xbb\\x8f&\\xfdG\\x00\\x01\\x04\\x10@\\x00\\x01\\x91\\xe5U\\xf1\\xf3\\xd16\\xba\\x933G\\xb7\\xd4=<\\'^.c\\xb6\\xce\\xd5\\xadt\\xbd\\x89\\xe8]\\xb7\\xd2M\\xf7!\\x97`\\x81\\xee\\xd5\\xff\\xf9Q\\x82bI\\x82\\x85\\x8a\\xe8:\\x15\\x13|G\\xa2\\x00\\\\\\xfb>\\x9c\\x16\\x13\\x8c\\xf5}\\x90\\xdao\\t\\xfeLpk\\x08 \\x80\\x00\\x02\\x08\\xb4\\x85@P^\\nk\\xd7\\xe6\\x0ba\\xa8\\xd52_\\x1at\\xe7+\\x92\\x9a\\xc8U\\x03m\\xf7?\\x9fU\\xddR\\xb7\\x93w\\x1bk\\x8bA\\xdd\\xa6N\\xd6/iX]\\x13\\xf3\\xe1\\x99+\\x1f\\xfb\\xab\\xb2$^\\xba_\\xbcl\\xe6\\xd8_\\xc3i\\xfe\\x19`\\x9b\\x06\\x8ef\\x11@\\x00\\x01\\x04\\x10\\xe8\\x14\\x81\\x86e\\xbe\\xcc6\\xbaK\\xe2\\xed\\xcaF\\x1b3D\\x95\\x10t\\x83\\x06\\xca|u\\xcaG\\xa3\\xe9\\xfb<\\xb15\\xbc\\x04\\xe3\\xa6\\x819\\x11\\x01\\x04\\x10@\\x00\\x01\\x04\\x9a\\x108\\x912_l\\xa3\\xdb\\x04,\\xa7\\xa8\\xc0\\x89\\x05\\xdef\\xed\\x08\\xc6\\xcdJq\\x1e\\x02\\x08 \\x80\\x00\\x02\\x9d!P\\xbb\\x8dn\\xbc\\xd3\\x98>8\\x96/\\x9ae\\x95\\xa6^m\\xb4\\x8dnJk\\xd8R\\xe6\\xab3>\\x17\\xdb|\\x97\\xdb\\x1bx\\x9b\\xed\\xbc\\xf5`\\x9c\\x11\\xe1\\x81\\xcaf\\xf59\\x0f\\x01\\x04\\x10@\\x00\\x01\\xeb\\x02[/\\xf35*\\xd2\\xd3m\\xbd\\x1f4\\x88\\x80\\n\\xb8\\x11x\\x9b\\x1d\\x8b\\x955\\xb3\\xdft\\xc35\\xc6\\xb3e\\t\\xe6\\xcb\\x12\\xe8\\xfb\\xea\\xda\\xc6\\xb5\\xc5\\xb9\\x8cx\\xc3\\x19\\xf3t\\xa6y\\xd7\\xf5\\xc7<\\x91\\xd9\\xac<\\xe7!\\x80\\x00\\x02\\x08 \\xb0Q\\xc0\\x0f$\\x98\\x993\\x0f\\x8c\\xf9S\\x05\\t\\xf2E\\xf1\\'\\x0b\\x12L\\x15E\\xbaS\\x92\\xda;&\\xdeD\\xceTE\\xf0\\xb42\\xc2\\xc4\\x88x\\xa3C\\x1b\\xdb\\xe1\\x08\\x02\\xdb,\\xd0^\\x81\\xb7Y\\x8c\\x95\\xd50\\xf8\\xc6\\x01x\\xb3\\xf7j0N\\x8b\\x97\\x1d\\x14/[\\xf3^\\x1b\\x8e3\\xfd\\xcd^\\x99\\xf3\\x10@\\x00\\x01\\x04\\x10H\\x9e\\xc0JT\\xe6+\\n\\xb6\\x1ap\\x83\\xa9\\x82\\xf8Z\\xe6+\\xabe\\xbeF\\xc2P;\\x11\\xbdk\\xc9/\\xfe\\xb73y\\x9f\\x836\\xbe\\xa3d\\x06\\xdef\\x07\\xa4Q0nT\\xa1be\\xb5~vx\\xfdlq\\xfc=\\xffq7+\\xcfy\\x08 \\x80\\x00\\x02\\x0e\\n\\x04\\x0b\\x8b\\xe2O\\xceH\\x90\\x9f\\r\\xcb{i\\xa8\\x8d\\xcb|\\xed\\xce\\x89\\xa7\\xc1VC\\xad\\xae\\xad\\xd5w\\xad\\x86\\xd0\\xd3\\xe5\\xe0\\x9d\\xd0%\\x04\\xea\\x05:;\\xf06\\xfbi\\xb0\\xbe\\xc6\\x98rm\\xcd\\xd2s\\x1e\\x02\\x08 \\x80\\x80e\\x81\\xcdv\\x1b;8#\\xa2\\xff\\xf29N\\x99/\\xcb\\xe24\\xe7\\x80\\x00\\x81\\xd7\\xe6 \\xd8\\x0e\\xc6Ci\\x91\\x14O\\xdf\\xd9\\x1c\"\\xdaB\\x00\\x01\\x04:F\\xa0\\xb6\\x1a\\xc2\\xf4\\xbc\\x04\\xba\\xe3\\x98VE\\x98*\\x887\\xd0\\x17\\xce\\xd2\\xd6\\x86[\\x9d\\xb5\\xcdf:\\x86\\x87\\x1b\\xed,\\x01\\x02o+\\xc6\\x9b`\\xdc\\nu\\xae\\x89\\x00\\x02\\x08$R\\xa0\\xa9j\\x08\\xb5\\xa5\\xbe\\xf6\\x8c\\x8a\\xf4R\\r!\\x91\\x1f\\x06njS\\x01\\x02\\xef\\xa64\\x0e\\xfc\\xa0\\xd9`\\xbcP\\x11\\xaf\\xbfwce\\x8a\\xf5;\\xe1\\x8d\\x0e3c\\xec\\xc0\\xb0\\xd2\\x05\\x04\\x10@`\\xcb\\x02\\xf1\\xa6\\x0c\\xb53\\xb5\\xba\\xd6\\xf6\\xc0\\x8c\\xf9{\\xbdn\\x19\\x82\\xa9a;*\\xde\\xd80\\xbb\\x9dn\\x19\\x9a_H\\xaa\\x00\\x817\\t#\\xbbY0\\xae\\xe86\\xd1\\x95\\xa8\\x94[E\\x82\\xc2<\\xc18\\t\\xe3\\xcd= \\x80@b\\x05\\x82\\xc5#\\x12\\x1c\\x9e\\x93@7b8\\xce\\xa6\\x0c&\\xe4\\xea\\xa6\\x0cC\\x03\\x89\\xf5\\xe0\\xc6\\x10\\xb0%@\\xe0\\xb5%\\xd9&\\xed\\x98\\x7f\\xfa2\\xb5\\x8ck\\x82\\xf0\\xfa\\xef\\x9b\\x0e\\xc6C\"\\xa9T\\x9b\\xdc9\\xddD\\x00\\x01\\x04\\xdc\\x11\\xd0z\\xf2\\xa6^\\xad\\t\\xb63\\x12h\\xb8\\x9d\\x9e\\x17)/\\x8a\\xb7+W\\x9d\\xb153\\xb5\\xd1:[6epg\\xfc\\xe8I\\xfb\\t\\x10x\\xdbo\\xccv\\xa4\\xc7\\xcd\\x05\\xe3\\x05\\xf1\\xfa{\\x9aXJA0\\xde\\x91A\\xe3\"\\x08 \\xe0\\x96\\x80\\xfe\\xeb\\xdbl\\xa9~\\xa6V\\x1f\\x1c\\xfb\\xc7\\xb4x]\\xa9\\xea\\xf6\\xb9q\\xa0\\r\\x97!d\\xd9)\\xd4\\xadQ\\xa47\\t\\x11 \\xf0&d [u\\x1b\\x04\\xe3V\\xc9s]\\x04\\x10pE\\xc0\\xfc=\\xb8n\\xa6\\xd6TD\\x98\\xd6M\\x19\\x06\\xcdz\\xda\\xda\\x99ZO\\x97!\\xf4\\xf7\\xba\\xd2}\\xfa\\x81@G\\x08\\x10x;b\\x98[|\\x93Z\\xf3qa\\xf1\\xf8\\xbb\\xdf\\x95\\x16\\xc5\\x1b\\x1c8\\xfe&\\x1f\\xba^\\x8d\\xa5\\x14-\\x1eT.\\x8f@\\x87\\t\\xe8\\xdfc\\xd3\\xf3\\xa6\\xa4\\x97\\x9f\\x9f\\r\\xb7\\xd0\\xcdG[\\xe8\\x8aD\\x1b2D\\x9b1\\x98]\\xc7F\\xc4\\x1b\\xcb\\xf2\\xa0p\\x87}L\\xb8]w\\x05\\x08\\xbc\\xee\\x8eM\\xe7\\xf5L\\xf7d_\\xd0\\xb5\\xc5\\xe5\\xc6_\\xf1\\x16\\xd1\\xd5`\\xac[Ag\\xc4\\x1bN\\x8b\\x97\\x1b\\x0c\\xc3\\xf2\\xc8\\xa0xC\\xd1\\xf7\\xc3i\\x91nv\\x00\\xea\\xbc\\x0f\\x12w\\x8c\\xc0\\x89\\x0b\\x04\\xe5\\xa50\\xcc\\xea\\xd6\\xb9\\x87\\x8aQ\\xb8-\\x88?\\xb3`\\xfe\\x9eIM\\xe4\\xa2-tsf\\xc71o\\xcf\\xa8\\xf9\\xbb\\x87\\x17\\x02\\x08\\xb8-@\\xe0u{|\\xe8]#\\x81 \\x90`\\xbe\"\\x81\\x06`}\\xf8.\\x0e\\xc2\\x1a\\x96\\x8b%\\tJ:\\x9b\\\\2\\xe7x}=\\xe1\\x8cq\\xb6&\\x1cg\\x07\\xa3\\x90\\x9c\\x11\\x19JK*7(\\xd2\\xd7\\xd3\\xe8J\\x1cC\\x00\\x81$\\n\\xc4\\xb3\\xb5\\xf9\\xa2\\xf8q\\xb0\\xd5\\xf7|Qd\\xcd\\x0f\\xb7\\xcc\\xd5\\x19Z\\xb3u\\xae\\xbe\\xe7$\\xb5+\\xc7\\xff\\x81N\\xe2g\\x81{\\xea\\x18\\x01\\x02o\\xc7\\x0cu\\x87\\xde\\xe8\\xcaj\\xe3\\xd9\\xe2\\xdaYd]\\x7fWY\\x12/\\xdd\\x7f\\xfc\\x07\\xf0t\\xd6\\xd8c\\xf7\\xbb\\x0e\\xfd4q\\xdbm&\\xb0i\\x89\\xaf\\xc9\\x82x\\xe9\\x06;\\x8d\\xe9\\xe6\\x0c\\xba\\x0c\\x81\\xff\\xc4\\xdbl\\xa4\\xe9.\\x02\\xc7\\x17 \\xf0\\x1e\\xdf\\x883:A`e\\xcd\\x84\\xdeM\\x97S\\xc4\\x019\\x0e\\xc6\\xe9\\xbec\\x87\\xe3\\x91!\\x91.J\\xb6u\\xc2G\\x87{l\\xb1\\x80\\xce\\xd6\\x16\\x16LI\\xaf\\xf5\\x0f\\x8e\\xd5\\x95\\xf8b\\xa7\\xb1\\x16\\x0f\\x14\\x97G\\xa0\\xb5\\x02\\x04\\xde\\xd6\\xfas\\xf5v\\x13X\\xbf\\xc9\\xc7\\xfa\\xcd=\\xe2\\x9a\\xc6\\x85\\x8d%\\xdb\\xc4\\x84\\xe4A\\xf1\\xcc\\xf2\\x8a\\xe8}d\\x88\\xa7\\xb5\\xdb\\xed3@\\x7f[\"\\xc0lmK\\xd8\\xb9(\\x02\\x89\\x11 \\xf0&f(\\xb9\\x11\\xd7\\x046+\\xd9&f\\xf3\\x8f\\xe8\\xc1<]s\\xbc\\xb6\\xb61\\x08\\xaf\\x0f\\xc6\\xd1r\\x0b\\xd7\\xee\\x91\\xfe `U\\xe0\\x18\\xb3\\xb5\\xbaaNj<+\\xde\\xde1I\\xd5\\xcd\\xd6\\x8e\\x88\\xf4\\xb2\\x06\\xdf\\xea8\\xd0\\x18\\x02\\t\\x14 \\xf0&pP\\xb9\\xa5\\xf6\\x120O\\x85\\xc7\\x0f\\xe0i\\x10\\xd6\\x07\\xf2t\\xa6X\\xdfg\\xcb\"\\xa5\\x8a\\xf8\\xc5\\x92H\\x10\\x84\\xd5(\\xb4\\n\\x85V\\xa6\\xd0\\n\\x15\\xa6\"E\\xf4\\xae3\\xc7\\xc3\\xfag\\xca\\xb6\\xb5\\xd7\\'\\xa0\\xf3zk\\xfe\\xcf\\xa0V@\\x88\\x1e\\x14\\xf3\\xf3\\xe1\\x03c\\xa6n\\xedp&\\xaa~\\x10?0\\x16\\xbdg3\\x9d\\x07\\xc5\\x1d#\\x80\\x805\\x01\\x02\\xaf5J\\x1aB`\\x9b\\x05\\x96W\\xc2Z\\xc6Z\\x8d\\xc2\\x84\\xe2rX\\xc6m6z\\x8f+Vh\\xd9\\xb6L\\x7fX\\xa6M\\xcb\\xb5\\xd5\\x04d\\x19\\x1a\\x08\\xabR\\x0c\\r\\x84\\x81y\\xa0o\\x9b;M\\xf3\\x1d+\\xb0\\xe6K03/\\xfe\\xa1YS\\xbb6\\xc8\\xcfJ\\x18l\\x0b\"+ka\\xe5\\x83\\xa8\\xacWjw.\\xac\\x88\\xb0{D\\xa4\\x87R\\x82\\x1d\\xfb\\x99\\xe1\\xc6\\x11\\xd8F\\x01\\x02\\xef6\\xe2\\xd24\\x02-\\x11\\x08$\\x0c\\xc2qy6S\\xdb8*\\xdf\\x16\\x05e\\xd1\\x8d@t\\x16yu\\xedh\\xddb\\xdd\\xf4\\xc3\\x04\\xe4(\\x0c\\xeb,r\\xcdL25\\x8d[2\\x9an_T?k\\xc5\\x05\\xf1\\x0f\\xebF\\x0c\\xb3&\\xdc\\x9a\\x99[}/.\\x84\\xbb\\x8c\\xc5aV\\xcb|\\xed\\x8e6d`\\xb6\\xd6\\xedq\\xa5w\\x08$P\\x80\\xc0\\x9b\\xc0A\\xe5\\x96\\x10hZ\\xa0\\x89\\x87\\xf0t\\xcd\\xb1_X\\x10\\xf1\\xfd\\x8dk\\x8d\\x1b\\x95r\\x1bJ\\xb3\\xbbT\\xd3\\x03\\xd0\\x1e\\'\\xc6[\\xe7\\x86U\\x10\\n\\xe2O\\x16\\xc2\\x8a\\x08\\xf9\\xa2x])\\xf1\\xc6\\xb3\\xe1\\xd6\\xb9\\xf1\\xfaZ\\xfd~\\xcf\\xa8How{\\xdc \\xbdD\\x00\\x81\\xc4\\x0b\\x10x\\x13?\\xc4\\xdc \\x02\\x96\\x04\\x1a\\xd54\\xae}\\x00/~\\x10o\\xa1b*O\\x985\\xc6\\xeb\\xbe\\xea*U\\xe4\\x86\\xc4\\x1b\\xe8\\xb5\\xd49\\x9a9i\\x81\\xd5\\xb5p\\xa6v\\xb2P-\\xf1e\\x02\\xee\\xc1\\x19\\x11\\xfd\\x97\\x00}`L\\x83l\\xcd\\x03c\\x9e\\xce\\xde\\xf63\\x86\\'mO\\x03\\x08 \\xb0\\xed\\x02\\x04\\xdem\\'\\xe6\\x02\\x08t\\x98\\x80\\xce\\x1a\\x9b\\xe5\\x14\\xd1\\xda\\xe2\\xf8\\x81<]ZQ]o\\x1c>\\x9cgf\\x07s\\x19\\x91\\xc1h\\xf9\\x84.\\xa1\\xd0\\xa5\\x15\\xba\\xeeX\\x1f\\xc23\\x7f\\x1e0\\x0f2\\xb1\\x1b\\x9e\\x85\\xcfQ\\x1cju\\xf9\\x81.C\\xd0\\xf5\\xb5\\xf9p\\x19B\\xb0\\xb4\"f-\\xed\\xee\\\\\\xfd\\xbb\\xae\\xb3\\xcd\\xf4[\\xb88M \\x80\\x00\\x02\\xad\\x13 \\xf0\\xb6\\xce\\x9e+#\\xd0\\xf1\\x02\\xc1\\xd2r\\xb5\\x12E\\xb8]t%\\x0c\\xcb\\xf1\\xbac\\r\\xce\\xba\\xdex\\xbe,\\xe2\\x07\\xd5\\xf0kBp\\x14\\x84MU\\n\\r\\xc6Q\\x85\\x8a8$w\\xec\\x8ex~\\x10>,V]W[\\x0c\\x83\\xad\\xae\\xab\\x9d/Kjt8\\x0c\\xb5\\x1adwE\\x01w\"g\\xd6o\\xf3B\\x00\\x01\\x04\\x92*@\\xe0M\\xea\\xc8r_\\x08$M@\\x97T\\x98\\x87\\xed\\xcaQ(\\x0e\\x83\\xb0\\x1e\\x13\\r\\xc6\\xa6j\\xc5\\xa2\\x04\\xa5\\x8ah\\xa97\\x13|M\\x10\\x0eg\\x8fM(\\x8e+V\\xd4\\xcd\"\\xa7\\xdb\\xaf2\\x80\\xd6\\xab-\\x96D\\xcbx\\x05\\x87\\xe7\\x8e\\x06Z}`lf\\xde\\xdcg*\\n\\xb4)\\r\\xb3\\xfa\\xb0\\xd8\\xee\\xacxc\\xc3\")v\\x00L\\xda\\x7f\\x1a\\xdc\\x0f\\x02\\x08\\x1c_\\x80\\xc0{|#\\xce@\\x00\\x81v\\x13\\xd0YN\\r\\xc1\\xd5 \\\\\\tC\\xb1V\\xa9\\xd0/3s\\x1cU\\xaf\\xd02n\\xdd]\"\\x1a\\x8cu\\xd6X\\x97W\\xe8r\\n\\r\\xc7q`\\xd6\\x07\\xf1\\xb4\\xd4\\x9b)\\xf7\\xd6\\xbf#\\xa11X\\\\6\\x0f\\x86\\x99u\\xb4\\xd1\\xb6\\xb9\\xe1\\x9f\\xe7L\\xd8\\xd5 o6b\\xd0\\xaf\\xdae\\x08\\xbbr\\xed\\x17\\xe0\\xdb\\xed\\xf3E\\x7f\\x11@\\xa0\\xed\\x04\\x08\\xbcm7dt\\x18\\x01\\x04l\\x0b\\x98p\\xa9\\xcb&\\xe2%\\x14\\x8df\\x91u\\x83\\x90\\xf2b8{\\xac;{\\x99\\x19\\xe4(\\x04\\xeb\\x1aW\\x13\\x88\\x07\\xc2P\\x1c\\x7f\\xaf\\xe7\\xf5t\\x89\\xa7\\xf5\\x8e\\xb5\\xbeloO\\xf8\\x90\\xd7\\xca\\xaa\\xd9L\\xc4l82\\x1bo2R\\ng\\xa9\\xa3p+k\\xbex\\xfa\\x80\\x98yPL\\x83m\\xcd\\x9fG\\x87\\x842q\\xb6?\\x05\\xb4\\x87\\x00\\x02I\\x16 \\xf0&yt\\xb97\\x04\\x10\\xd8\\x16\\x81`\\xf1H\\x18\\x8e5\\x04\\x974\\x08/\\x89T\\xc2w\\xf3}eID\\x7fvd\\xc5T8\\xd0\\xb2^\\xfa.\\xbay\\xc8\\xd2\\x8a\\t\\xab\\xa9\\xd1A\\x11]z02\\x18\\xae?\\xd6\\x1a\\xc8:\\xb3<\\x16\\x06[\\x9d]\\xe6\\x85\\x00\\x02\\x08 `G\\x80\\xc0k\\xc7\\x91V\\x10@\\x00\\x01\\x04\\x10@\\x00\\x01\\x04\\x1c\\x15\\xe0\\xe9\\x05G\\x07\\x86n!\\x80\\x00\\x02\\x08 \\x80\\x00\\x02\\x08\\xd8\\x11 \\xf0\\xdaq\\xa4\\x15\\x04\\x10@\\x00\\x01\\x04\\x10@\\x00\\x01G\\x05\\x08\\xbc\\x8e\\x0e\\x0c\\xddB\\x00\\x01\\x04\\x10@\\x00\\x01\\x04\\x10\\xb0#@\\xe0\\xb5\\xe3H+\\x08 \\x80\\x00\\x02\\x08 \\x80\\x00\\x02\\x8e\\n\\x10x\\x1d\\x1d\\x18\\xba\\x85\\x00\\x02\\x08 \\x80\\x00\\x02\\x08 `G\\x80\\xc0k\\xc7\\x91V\\x10@\\x00\\x01\\x04\\x10@\\x00\\x01\\x04\\x1c\\x15 \\xf0::0t\\x0b\\x01\\x04\\x10@\\x00\\x01\\x04\\x10@\\xc0\\x8e\\x00\\x81\\xd7\\x8e#\\xad \\x80\\x00\\x02\\x08 \\x80\\x00\\x02\\x088*@\\xe0ut`\\xe8\\x16\\x02\\x08 \\x80\\x00\\x02\\x08 \\x80\\x80\\x1d\\x01\\x02\\xaf\\x1dGZA\\x00\\x01\\x04\\x10@\\x00\\x01\\x04\\x10pT\\x80\\xc0\\xeb\\xe8\\xc0\\xd0-\\x04\\x10@\\x00\\x01\\x04\\x10@\\x00\\x01;\\x02\\x04^;\\x8e\\xb4\\x82\\x00\\x02\\x08 \\x80\\x00\\x02\\x08 \\xe0\\xa8\\x00\\x81\\xd7\\xd1\\x81\\xa1[\\x08 \\x80\\x00\\x02\\x08 \\x80\\x00\\x02v\\x04\\x08\\xbcv\\x1ci\\x05\\x01\\x04\\x10@\\x00\\x01\\x04\\x10@\\xc0Q\\x01\\x02\\xaf\\xa3\\x03C\\xb7\\x10@\\x00\\x01\\x04\\x10@\\x00\\x01\\x04\\xec\\x08\\x10x\\xed8\\xd2\\n\\x02\\x08 \\x80\\x00\\x02\\x08 \\x80\\x80\\xa3\\x02\\x04^G\\x07\\x86n!\\x80\\x00\\x02\\x08 \\x80\\x00\\x02\\x08\\xd8\\x11 \\xf0\\xdaq\\xa4\\x15\\x04\\x10@\\x00\\x01\\x04\\x10@\\x00\\x01G\\x05\\x08\\xbc\\x8e\\x0e\\x0c\\xddB\\x00\\x01\\x04\\x10@\\x00\\x01\\x04\\x10\\xb0#@\\xe0\\xb5\\xe3H+\\x08 \\x80\\x00\\x02\\x08 \\x80\\x00\\x02\\x8e\\n\\x10x\\x1d\\x1d\\x18\\xba\\x85\\x00\\x02\\x08 \\x80\\x00\\x02\\x08 `G\\x80\\xc0k\\xc7\\x91V\\x10@\\x00\\x01\\x04\\x10@\\x00\\x01\\x04\\x1c\\x15 \\xf0::0t\\x0b\\x01\\x04\\x10@\\x00\\x01\\x04\\x10@\\xc0\\x8e\\x00\\x81\\xd7\\x8e#\\xad \\x80\\x00\\x02\\x08 \\x80\\x00\\x02\\x088*@\\xe0ut`\\xe8\\x16\\x02\\x08 \\x80\\x00\\x02\\x08 \\x80\\x80\\x1d\\x01\\x02\\xaf\\x1dGZA\\x00\\x01\\x04\\x10@\\x00\\x01\\x04\\x10pT\\x80\\xc0\\xeb\\xe8\\xc0\\xd0-\\x04\\x10@\\x00\\x01\\x04\\x10@\\x00\\x01;\\x02\\x04^;\\x8e\\xb4\\x82\\x00\\x02\\x08 \\x80\\x00\\x02\\x08 \\xe0\\xa8\\x00\\x81\\xd7\\xd1\\x81\\xa1[\\x08 \\x80\\x00\\x02\\x08 \\x80\\x00\\x02v\\x04\\x08\\xbcv\\x1ci\\x05\\x01\\x04\\x10@\\x00\\x01\\x04\\x10@\\xc0Q\\x01\\x02\\xaf\\xa3\\x03C\\xb7\\x10@\\x00\\x01\\x04\\x10@\\x00\\x01\\x04\\xec\\x08\\x10x\\xed8\\xd2\\n\\x02\\x08 \\x80\\x00\\x02\\x08 \\x80\\x80\\xa3\\x02\\x04^G\\x07\\x86n!\\x80\\x00\\x02\\x08 \\x80\\x00\\x02\\x08\\xd8\\x11 \\xf0\\xdaq\\xa4\\x15\\x04\\x10@\\x00\\x01\\x04\\x10@\\x00\\x01G\\x05\\x08\\xbc\\x8e\\x0e\\x0c\\xddB\\x00\\x01\\x04\\x10@\\x00\\x01\\x04\\x10\\xb0#@\\xe0\\xb5\\xe3H+\\x08 \\x80\\x00\\x02\\x08 \\x80\\x00\\x02\\x8e\\n\\x10x\\x1d\\x1d\\x18\\xba\\x85\\x00\\x02\\x08 \\x80\\x00\\x02\\x08 `G\\x80\\xc0k\\xc7\\x91V\\x10@\\x00\\x01\\x04\\x10@\\x00\\x01\\x04\\x1c\\x15 \\xf0::0t\\x0b\\x01\\x04\\x10@\\x00\\x01\\x04\\x10@\\xc0\\x8e\\x00\\x81\\xd7\\x8e#\\xad \\x80\\x00\\x02\\x08 \\x80\\x00\\x02\\x088*@\\xe0ut`\\xe8\\x16\\x02\\x08 \\x80\\x00\\x02\\x08 \\x80\\x80\\x1d\\x01\\x02\\xaf\\x1dGZA\\x00\\x01\\x04\\x10@\\x00\\x01\\x04\\x10pT\\x80\\xc0\\xeb\\xe8\\xc0\\xd0-\\x04\\x10@\\x00\\x01\\x04\\x10@\\x00\\x01;\\x02\\x04^;\\x8e\\xb4\\x82\\x00\\x02\\x08 \\x80\\x00\\x02\\x08 \\xe0\\xa8\\x00\\x81\\xd7\\xd1\\x81\\xa1[\\x08 \\x80\\x00\\x02\\x08 \\x80\\x00\\x02v\\x04\\x08\\xbcv\\x1ci\\x05\\x01\\x04\\x10@\\x00\\x01\\x04\\x10@\\xc0Q\\x01\\x02\\xaf\\xa3\\x03C\\xb7\\x10@\\x00\\x01\\x04\\x10@\\x00\\x01\\x04\\xec\\x08\\x10x\\xed8\\xd2\\n\\x02\\x08 \\x80\\x00\\x02\\x08 \\x80\\x80\\xa3\\x02\\x04^G\\x07\\x86n!\\x80\\x00\\x02\\x08 \\x80\\x00\\x02\\x08\\xd8\\x11 \\xf0\\xdaq\\xa4\\x15\\x04\\x10@\\x00\\x01\\x04\\x10@\\x00\\x01G\\x05\\x08\\xbc\\x8e\\x0e\\x0c\\xddB\\x00\\x01\\x04\\x10@\\x00\\x01\\x04\\x10\\xb0#@\\xe0\\xb5\\xe3H+\\x08 \\x80\\x00\\x02\\x08 \\x80\\x00\\x02\\x8e\\n\\x10x\\x1d\\x1d\\x18\\xba\\x85\\x00\\x02\\x08 \\x80\\x00\\x02\\x08 `G\\x80\\xc0k\\xc7\\x91V\\x10@\\x00\\x01\\x04\\x10@\\x00\\x01\\x04\\x1c\\x15 \\xf0::0t\\x0b\\x01\\x04\\x10@\\x00\\x01\\x04\\x10@\\xc0\\x8e\\x00\\x81\\xd7\\x8e#\\xad \\x80\\x00\\x02\\x08 \\x80\\x00\\x02\\x088*@\\xe0ut`\\xe8\\x16\\x02\\x08 \\x80\\x00\\x02\\x08 \\x80\\x80\\x1d\\x01\\x02\\xaf\\x1dGZA\\x00\\x01\\x04\\x10@\\x00\\x01\\x04\\x10pT\\x80\\xc0\\xeb\\xe8\\xc0\\xd0-\\x04\\x10@\\x00\\x01\\x04\\x10@\\x00\\x01;\\x02\\x04^;\\x8e\\xb4\\x82\\x00\\x02\\x08 \\x80\\x00\\x02\\x08 \\xe0\\xa8\\x00\\x81\\xd7\\xd1\\x81\\xa1[\\x08 \\x80\\x00\\x02\\x08 \\x80\\x00\\x02v\\x04\\xfe\\x1fw\\xe7@>\\xdd\\xd0E\\x03\\x00\\x00\\x00\\x00IEND\\xaeB`\\x82'"
      ]
     },
     "execution_count": 60,
     "metadata": {},
     "output_type": "execute_result"
    }
   ],
   "source": [
    "response.content"
   ]
  },
  {
   "cell_type": "code",
   "execution_count": 62,
   "id": "286063ee",
   "metadata": {},
   "outputs": [],
   "source": [
    "response = requests.get(\"https://api.thecatapi.com/v1/breeds/abys\")"
   ]
  },
  {
   "cell_type": "code",
   "execution_count": 63,
   "id": "46d55187",
   "metadata": {},
   "outputs": [
    {
     "data": {
      "text/plain": [
       "{'weight': {'imperial': '7  -  10', 'metric': '3 - 5'},\n",
       " 'id': 'abys',\n",
       " 'name': 'Abyssinian',\n",
       " 'cfa_url': 'http://cfa.org/Breeds/BreedsAB/Abyssinian.aspx',\n",
       " 'vetstreet_url': 'http://www.vetstreet.com/cats/abyssinian',\n",
       " 'vcahospitals_url': 'https://vcahospitals.com/know-your-pet/cat-breeds/abyssinian',\n",
       " 'temperament': 'Active, Energetic, Independent, Intelligent, Gentle',\n",
       " 'origin': 'Egypt',\n",
       " 'country_codes': 'EG',\n",
       " 'country_code': 'EG',\n",
       " 'description': 'The Abyssinian is easy to care for, and a joy to have in your home. They’re affectionate cats and love both people and other animals.',\n",
       " 'life_span': '14 - 15',\n",
       " 'indoor': 0,\n",
       " 'lap': 1,\n",
       " 'alt_names': '',\n",
       " 'adaptability': 5,\n",
       " 'affection_level': 5,\n",
       " 'child_friendly': 3,\n",
       " 'dog_friendly': 4,\n",
       " 'energy_level': 5,\n",
       " 'grooming': 1,\n",
       " 'health_issues': 2,\n",
       " 'intelligence': 5,\n",
       " 'shedding_level': 2,\n",
       " 'social_needs': 5,\n",
       " 'stranger_friendly': 5,\n",
       " 'vocalisation': 1,\n",
       " 'experimental': 0,\n",
       " 'hairless': 0,\n",
       " 'natural': 1,\n",
       " 'rare': 0,\n",
       " 'rex': 0,\n",
       " 'suppressed_tail': 0,\n",
       " 'short_legs': 0,\n",
       " 'wikipedia_url': 'https://en.wikipedia.org/wiki/Abyssinian_(cat)',\n",
       " 'hypoallergenic': 0,\n",
       " 'reference_image_id': '0XYvRd7oD'}"
      ]
     },
     "execution_count": 63,
     "metadata": {},
     "output_type": "execute_result"
    }
   ],
   "source": [
    "response.json()"
   ]
  },
  {
   "cell_type": "code",
   "execution_count": 64,
   "id": "db47d061",
   "metadata": {},
   "outputs": [
    {
     "data": {
      "text/plain": [
       "'Abyssinian'"
      ]
     },
     "execution_count": 64,
     "metadata": {},
     "output_type": "execute_result"
    }
   ],
   "source": [
    "response.json()[\"name\"]"
   ]
  },
  {
   "cell_type": "code",
   "execution_count": 65,
   "id": "10a08fa4",
   "metadata": {},
   "outputs": [],
   "source": [
    "with open(\"chart.png\", mode=\"wb\") as file:\n",
    "        file.write(response.content)"
   ]
  },
  {
   "cell_type": "code",
   "execution_count": 66,
   "id": "3603fbcf",
   "metadata": {},
   "outputs": [
    {
     "data": {
      "text/plain": [
       "{'results': [{'gender': 'female',\n",
       "   'name': {'title': 'Miss', 'first': 'Marialba', 'last': 'Souza'},\n",
       "   'location': {'street': {'number': 8367, 'name': 'Rua Pará '},\n",
       "    'city': 'Salto',\n",
       "    'state': 'Distrito Federal',\n",
       "    'country': 'Brazil',\n",
       "    'postcode': 57417,\n",
       "    'coordinates': {'latitude': '-74.0731', 'longitude': '64.0151'},\n",
       "    'timezone': {'offset': '+7:00', 'description': 'Bangkok, Hanoi, Jakarta'}},\n",
       "   'email': 'marialba.souza@example.com',\n",
       "   'login': {'uuid': 'af2cd7c3-841f-4a45-8f5c-4168382fbf1f',\n",
       "    'username': 'smallelephant168',\n",
       "    'password': 'freeway',\n",
       "    'salt': 'sf8NtwU7',\n",
       "    'md5': '0a92a451bef958001fd49b7b488763ad',\n",
       "    'sha1': 'e086da278d8e15ccfdb1cdee238152f06c18c362',\n",
       "    'sha256': '283911b13c9822db7bb313823e6d8f92de6fb0ab8c63032ad95e432b99fe6940'},\n",
       "   'dob': {'date': '1968-10-30T19:13:53.445Z', 'age': 55},\n",
       "   'registered': {'date': '2012-06-16T01:32:52.762Z', 'age': 11},\n",
       "   'phone': '(51) 9791-9801',\n",
       "   'cell': '(25) 4489-6929',\n",
       "   'id': {'name': 'CPF', 'value': '730.621.841-08'},\n",
       "   'picture': {'large': 'https://randomuser.me/api/portraits/women/21.jpg',\n",
       "    'medium': 'https://randomuser.me/api/portraits/med/women/21.jpg',\n",
       "    'thumbnail': 'https://randomuser.me/api/portraits/thumb/women/21.jpg'},\n",
       "   'nat': 'BR'}],\n",
       " 'info': {'seed': 'f92f8f78826e1f85',\n",
       "  'results': 1,\n",
       "  'page': 1,\n",
       "  'version': '1.4'}}"
      ]
     },
     "execution_count": 66,
     "metadata": {},
     "output_type": "execute_result"
    }
   ],
   "source": [
    "requests.get(\"https://randomuser.me/api/\").json()"
   ]
  },
  {
   "cell_type": "code",
   "execution_count": 67,
   "id": "c560e779",
   "metadata": {},
   "outputs": [
    {
     "data": {
      "text/plain": [
       "{'results': [{'gender': 'female',\n",
       "   'name': {'title': 'Miss', 'first': 'Ludmilla', 'last': 'Ferber'},\n",
       "   'location': {'street': {'number': 7354, 'name': 'Tannenweg'},\n",
       "    'city': 'Heringen (Werra)',\n",
       "    'state': 'Hamburg',\n",
       "    'country': 'Germany',\n",
       "    'postcode': 53354,\n",
       "    'coordinates': {'latitude': '-49.9180', 'longitude': '47.0323'},\n",
       "    'timezone': {'offset': '+4:00',\n",
       "     'description': 'Abu Dhabi, Muscat, Baku, Tbilisi'}},\n",
       "   'email': 'ludmilla.ferber@example.com',\n",
       "   'login': {'uuid': '349be657-6b9a-45d0-aa7d-a919a36b7ce4',\n",
       "    'username': 'heavyswan701',\n",
       "    'password': 'peaches',\n",
       "    'salt': 'ARJPu1dN',\n",
       "    'md5': '206d3dc9eefe5af15a298ddd3f9e03cf',\n",
       "    'sha1': '3fc2956cf86ea6f19ba875caf361bcdb5b74510f',\n",
       "    'sha256': 'f1379131594a35ae24178fc77f492f6a2d1faf93019e7fcc7a84b38232068d63'},\n",
       "   'dob': {'date': '1978-05-17T17:19:52.742Z', 'age': 45},\n",
       "   'registered': {'date': '2003-10-03T15:56:31.413Z', 'age': 20},\n",
       "   'phone': '0624-7478231',\n",
       "   'cell': '0174-5889716',\n",
       "   'id': {'name': 'SVNR', 'value': '28 170578 F 502'},\n",
       "   'picture': {'large': 'https://randomuser.me/api/portraits/women/58.jpg',\n",
       "    'medium': 'https://randomuser.me/api/portraits/med/women/58.jpg',\n",
       "    'thumbnail': 'https://randomuser.me/api/portraits/thumb/women/58.jpg'},\n",
       "   'nat': 'DE'}],\n",
       " 'info': {'seed': 'e5fc0796e76fab7c',\n",
       "  'results': 1,\n",
       "  'page': 1,\n",
       "  'version': '1.4'}}"
      ]
     },
     "execution_count": 67,
     "metadata": {},
     "output_type": "execute_result"
    }
   ],
   "source": [
    "requests.get(\"https://randomuser.me/api/?gender=female\").json()"
   ]
  },
  {
   "cell_type": "markdown",
   "id": "bb4d5f2c",
   "metadata": {},
   "source": [
    "Using query parameters, you can start fetching more specific data from an API, making the whole experience a bit more tailored to your needs.\n",
    "\n",
    "To avoid having to rebuild the URL over and over again, you can use the params attribute to send in a dictionary of all the query parameters to append to a URL:"
   ]
  },
  {
   "cell_type": "code",
   "execution_count": 68,
   "id": "afa7ca7d",
   "metadata": {},
   "outputs": [
    {
     "data": {
      "text/plain": [
       "{'results': [{'gender': 'female',\n",
       "   'name': {'title': 'Ms', 'first': 'Gundi', 'last': 'Mielke'},\n",
       "   'location': {'street': {'number': 9801, 'name': 'Wiesenweg'},\n",
       "    'city': 'Oestrich-Winkel',\n",
       "    'state': 'Hamburg',\n",
       "    'country': 'Germany',\n",
       "    'postcode': 12566,\n",
       "    'coordinates': {'latitude': '74.3491', 'longitude': '-44.4362'},\n",
       "    'timezone': {'offset': '+5:45', 'description': 'Kathmandu'}},\n",
       "   'email': 'gundi.mielke@example.com',\n",
       "   'login': {'uuid': '9cbffa50-e0ad-44a9-8829-82cc5ec9bb84',\n",
       "    'username': 'blackmeercat577',\n",
       "    'password': 'lindsey',\n",
       "    'salt': '4cM2sPKc',\n",
       "    'md5': 'dbc5f77e065af7413a85ee699ea4a9ab',\n",
       "    'sha1': '63633644a7b9963d16c67ef01c2d312b889f38bc',\n",
       "    'sha256': '4de0dc70000928d518a6e316005fb3b8393045208db705c2c3dc4dbbaec3b4ba'},\n",
       "   'dob': {'date': '1951-11-16T08:46:20.019Z', 'age': 72},\n",
       "   'registered': {'date': '2017-05-31T18:45:25.313Z', 'age': 6},\n",
       "   'phone': '0397-5765237',\n",
       "   'cell': '0176-7127713',\n",
       "   'id': {'name': 'SVNR', 'value': '77 161151 M 525'},\n",
       "   'picture': {'large': 'https://randomuser.me/api/portraits/women/77.jpg',\n",
       "    'medium': 'https://randomuser.me/api/portraits/med/women/77.jpg',\n",
       "    'thumbnail': 'https://randomuser.me/api/portraits/thumb/women/77.jpg'},\n",
       "   'nat': 'DE'}],\n",
       " 'info': {'seed': '8457d0960130a332',\n",
       "  'results': 1,\n",
       "  'page': 1,\n",
       "  'version': '1.4'}}"
      ]
     },
     "execution_count": 68,
     "metadata": {},
     "output_type": "execute_result"
    }
   ],
   "source": [
    "query_params = {\"gender\": \"female\", \"nat\": \"de\"}\n",
    "requests.get(\"https://randomuser.me/api/\", params=query_params).json()"
   ]
  },
  {
   "cell_type": "code",
   "execution_count": 69,
   "id": "5d4b997a",
   "metadata": {},
   "outputs": [],
   "source": [
    "endpoint = \"https://api.nasa.gov/mars-photos/api/v1/rovers/curiosity/photos\""
   ]
  },
  {
   "cell_type": "code",
   "execution_count": null,
   "id": "5251d7e5",
   "metadata": {},
   "outputs": [],
   "source": []
  }
 ],
 "metadata": {
  "kernelspec": {
   "display_name": "Python 3 (ipykernel)",
   "language": "python",
   "name": "python3"
  },
  "language_info": {
   "codemirror_mode": {
    "name": "ipython",
    "version": 3
   },
   "file_extension": ".py",
   "mimetype": "text/x-python",
   "name": "python",
   "nbconvert_exporter": "python",
   "pygments_lexer": "ipython3",
   "version": "3.11.3"
  }
 },
 "nbformat": 4,
 "nbformat_minor": 5
}
