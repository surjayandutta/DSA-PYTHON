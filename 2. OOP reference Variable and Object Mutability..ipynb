{
 "cells": [
  {
   "cell_type": "markdown",
   "id": "452bf3a0",
   "metadata": {},
   "source": [
    "Write OOP classes to handle the following scenarios:\n",
    "\n",
    "\n",
    "1. A user can create and view 2D coordinates\n",
    "2. A user can find out the distance between 2 coordinates\n",
    "3. A user can find find the distance of a coordinate from origin\n",
    "4. A user can check if a point lies on a given line\n",
    "5. A user can find the distance between a given 2D point and a given line"
   ]
  },
  {
   "cell_type": "code",
   "execution_count": 16,
   "id": "676b9a11",
   "metadata": {},
   "outputs": [],
   "source": [
    "class Point:\n",
    "    \n",
    "    def __init__(self,x,y):\n",
    "        self.x_cord=x\n",
    "        self.y_cord=y\n",
    "        \n",
    "    def __str__(self):\n",
    "        return '<{},{}>'.format(self.x_cord,self.y_cord)\n",
    "    \n",
    "    def euclidean_distance(self,other):\n",
    "        return ((self.x_cord - other.x_cord)**2 + (self.y_cord - other.y_cord)**2)**0.5\n",
    "    \n",
    "    def distance_from_origin(self):\n",
    "        return self.euclidean_distance(Point(0,0))"
   ]
  },
  {
   "cell_type": "code",
   "execution_count": 12,
   "id": "39760a03",
   "metadata": {},
   "outputs": [
    {
     "name": "stdout",
     "output_type": "stream",
     "text": [
      "<3,-4>\n"
     ]
    }
   ],
   "source": [
    "p1= Point(3,-4)\n",
    "print(p1)"
   ]
  },
  {
   "cell_type": "code",
   "execution_count": 13,
   "id": "2381f94f",
   "metadata": {},
   "outputs": [
    {
     "name": "stdout",
     "output_type": "stream",
     "text": [
      "<2,2>\n"
     ]
    }
   ],
   "source": [
    "p2= Point(2,2)\n",
    "print(p2)"
   ]
  },
  {
   "cell_type": "code",
   "execution_count": 14,
   "id": "d0ed09fe",
   "metadata": {},
   "outputs": [
    {
     "data": {
      "text/plain": [
       "6.082762530298219"
      ]
     },
     "execution_count": 14,
     "metadata": {},
     "output_type": "execute_result"
    }
   ],
   "source": [
    "p1.euclidean_distance(p2)"
   ]
  },
  {
   "cell_type": "code",
   "execution_count": 17,
   "id": "ece93bd1",
   "metadata": {},
   "outputs": [
    {
     "name": "stdout",
     "output_type": "stream",
     "text": [
      "<5,-8>\n"
     ]
    }
   ],
   "source": [
    "p3 = Point(5,-8)\n",
    "print(p3)"
   ]
  },
  {
   "cell_type": "code",
   "execution_count": 18,
   "id": "ef18a069",
   "metadata": {},
   "outputs": [
    {
     "data": {
      "text/plain": [
       "9.433981132056603"
      ]
     },
     "execution_count": 18,
     "metadata": {},
     "output_type": "execute_result"
    }
   ],
   "source": [
    "p3.distance_from_origin()"
   ]
  },
  {
   "cell_type": "code",
   "execution_count": 26,
   "id": "4c054999",
   "metadata": {},
   "outputs": [],
   "source": [
    "class Line:\n",
    "    def __init__(self, A,B,C) :    #AX+BY+C=0\n",
    "        self.A=A\n",
    "        self.B=B\n",
    "        self.C=C\n",
    "        \n",
    "    def __str__(self):\n",
    "        return '{}x + {}y + {}'.format(self.A,self.B,self.C)\n",
    "    \n",
    "    def point_on_line(self,point):\n",
    "        if self.A*point.x_cord + self.B*point.y_cord + self.C == 0:\n",
    "            return \"lies on the line\"\n",
    "        else :\n",
    "            return \"does not lie on the line\"\n",
    "        \n",
    "    def shortest_distance(line,point):\n",
    "        return abs(line.A*point.x_cord + line.B*point.y_cord + line.C)/(line.A**2 + line.B**2)**0.5\n",
    "    "
   ]
  },
  {
   "cell_type": "code",
   "execution_count": 20,
   "id": "3a4bcdc2",
   "metadata": {},
   "outputs": [
    {
     "name": "stdout",
     "output_type": "stream",
     "text": [
      "3x + 4y + 5\n"
     ]
    }
   ],
   "source": [
    "L1=Line(3,4,5)\n",
    "print(L1)"
   ]
  },
  {
   "cell_type": "code",
   "execution_count": 22,
   "id": "bedb220c",
   "metadata": {},
   "outputs": [
    {
     "name": "stdout",
     "output_type": "stream",
     "text": [
      "2x + 2y + 2\n",
      "<-2,-2>\n"
     ]
    }
   ],
   "source": [
    "L2=Line(2,2,2)\n",
    "P4=Point(-2,-2)\n",
    "print(L2)\n",
    "print(P4)"
   ]
  },
  {
   "cell_type": "code",
   "execution_count": 23,
   "id": "68104767",
   "metadata": {},
   "outputs": [
    {
     "data": {
      "text/plain": [
       "'does not lie on the line'"
      ]
     },
     "execution_count": 23,
     "metadata": {},
     "output_type": "execute_result"
    }
   ],
   "source": [
    "L2.point_on_line(P4)"
   ]
  },
  {
   "cell_type": "code",
   "execution_count": 25,
   "id": "c20fa77d",
   "metadata": {},
   "outputs": [
    {
     "name": "stdout",
     "output_type": "stream",
     "text": [
      "2x + 3y + 15\n",
      "<-3,-3>\n"
     ]
    },
    {
     "data": {
      "text/plain": [
       "'lies on the line'"
      ]
     },
     "execution_count": 25,
     "metadata": {},
     "output_type": "execute_result"
    }
   ],
   "source": [
    "L3=Line(2,3,15)\n",
    "P5=Point(-3,-3)\n",
    "print(L3)\n",
    "print(P5)\n",
    "L3.point_on_line(P5)"
   ]
  },
  {
   "cell_type": "code",
   "execution_count": 27,
   "id": "b5efbf82",
   "metadata": {},
   "outputs": [
    {
     "name": "stdout",
     "output_type": "stream",
     "text": [
      "1x + 1y + -2\n",
      "<1,10>\n"
     ]
    },
    {
     "data": {
      "text/plain": [
       "6.363961030678928"
      ]
     },
     "execution_count": 27,
     "metadata": {},
     "output_type": "execute_result"
    }
   ],
   "source": [
    "l1 = Line(1,1,-2)\n",
    "p1 = Point(1,10)\n",
    "print(l1)\n",
    "print(p1)\n",
    "\n",
    "l1.shortest_distance(p1)"
   ]
  },
  {
   "cell_type": "markdown",
   "id": "fd5857af",
   "metadata": {},
   "source": [
    "# How  Object  Access Attributes"
   ]
  },
  {
   "cell_type": "code",
   "execution_count": 32,
   "id": "9ab9c248",
   "metadata": {},
   "outputs": [],
   "source": [
    "class Person:\n",
    "\n",
    "  def __init__(self,name_input,country_input):\n",
    "    self.name = name_input\n",
    "    self.country = country_input\n",
    "\n",
    "  def greet(self):\n",
    "    if self.country == 'India':\n",
    "      print('Namaste',self.name)\n",
    "    else:\n",
    "      print('Hello',self.name)"
   ]
  },
  {
   "cell_type": "code",
   "execution_count": 33,
   "id": "66c99742",
   "metadata": {},
   "outputs": [],
   "source": [
    "p = Person('Surjayan', 'India')"
   ]
  },
  {
   "cell_type": "code",
   "execution_count": 34,
   "id": "2a4b997c",
   "metadata": {},
   "outputs": [
    {
     "data": {
      "text/plain": [
       "'Surjayan'"
      ]
     },
     "execution_count": 34,
     "metadata": {},
     "output_type": "execute_result"
    }
   ],
   "source": [
    "p.name"
   ]
  },
  {
   "cell_type": "code",
   "execution_count": 35,
   "id": "f2715427",
   "metadata": {},
   "outputs": [
    {
     "name": "stdout",
     "output_type": "stream",
     "text": [
      "Namaste Surjayan\n"
     ]
    }
   ],
   "source": [
    "p.greet()"
   ]
  },
  {
   "cell_type": "code",
   "execution_count": 36,
   "id": "74272556",
   "metadata": {},
   "outputs": [],
   "source": [
    "#what if I try to access non-existent attributes\n",
    "\n",
    "p.gender= 'male'"
   ]
  },
  {
   "cell_type": "code",
   "execution_count": 38,
   "id": "b4d9e779",
   "metadata": {},
   "outputs": [
    {
     "data": {
      "text/plain": [
       "'male'"
      ]
     },
     "execution_count": 38,
     "metadata": {},
     "output_type": "execute_result"
    }
   ],
   "source": [
    "p.gender      #Attribute creation from outside of the class."
   ]
  },
  {
   "cell_type": "markdown",
   "id": "231b4d19",
   "metadata": {},
   "source": [
    "# Reference Variables\n",
    "1. Reference variables hold the objects\n",
    "2. We can create objects without reference variable as well\n",
    "3. An object can have multiple reference variables\n",
    "4. Assigning a new reference variable to an existing object does not create a new object"
   ]
  },
  {
   "cell_type": "code",
   "execution_count": 40,
   "id": "e944a95a",
   "metadata": {},
   "outputs": [
    {
     "data": {
      "text/plain": [
       "<__main__.Person at 0x1d9dcca8990>"
      ]
     },
     "execution_count": 40,
     "metadata": {},
     "output_type": "execute_result"
    }
   ],
   "source": [
    "# object without a reference\n",
    "class Person:\n",
    "\n",
    "  def __init__(self):\n",
    "    self.name = 'nitish'\n",
    "    self.gender = 'male'\n",
    "\n",
    "Person()"
   ]
  },
  {
   "cell_type": "code",
   "execution_count": 42,
   "id": "99001990",
   "metadata": {},
   "outputs": [],
   "source": [
    "p=Person() #p is reference variable which contains the address of the object that has been created."
   ]
  },
  {
   "cell_type": "code",
   "execution_count": 44,
   "id": "0277dddc",
   "metadata": {},
   "outputs": [],
   "source": [
    "q=p #now p and q both are the variable names pointing to the same address."
   ]
  },
  {
   "cell_type": "code",
   "execution_count": 45,
   "id": "64cd761d",
   "metadata": {},
   "outputs": [
    {
     "name": "stdout",
     "output_type": "stream",
     "text": [
      "2035238073424\n"
     ]
    }
   ],
   "source": [
    "print(id(p))"
   ]
  },
  {
   "cell_type": "code",
   "execution_count": 46,
   "id": "36d249ee",
   "metadata": {},
   "outputs": [
    {
     "name": "stdout",
     "output_type": "stream",
     "text": [
      "2035238073424\n"
     ]
    }
   ],
   "source": [
    "print(id(q))"
   ]
  },
  {
   "cell_type": "code",
   "execution_count": 47,
   "id": "592b8344",
   "metadata": {},
   "outputs": [
    {
     "name": "stdout",
     "output_type": "stream",
     "text": [
      "nitish\n"
     ]
    }
   ],
   "source": [
    "print(p.name)"
   ]
  },
  {
   "cell_type": "code",
   "execution_count": 48,
   "id": "5366b189",
   "metadata": {},
   "outputs": [
    {
     "name": "stdout",
     "output_type": "stream",
     "text": [
      "nitish\n"
     ]
    }
   ],
   "source": [
    "print(q.name)"
   ]
  },
  {
   "cell_type": "code",
   "execution_count": 49,
   "id": "0543a500",
   "metadata": {},
   "outputs": [],
   "source": [
    "q.name='surjayan'"
   ]
  },
  {
   "cell_type": "code",
   "execution_count": 50,
   "id": "d61b9060",
   "metadata": {},
   "outputs": [
    {
     "name": "stdout",
     "output_type": "stream",
     "text": [
      "surjayan\n"
     ]
    }
   ],
   "source": [
    "print(q.name)"
   ]
  },
  {
   "cell_type": "code",
   "execution_count": 51,
   "id": "511ed6b1",
   "metadata": {},
   "outputs": [
    {
     "name": "stdout",
     "output_type": "stream",
     "text": [
      "surjayan\n"
     ]
    }
   ],
   "source": [
    "print(p.name)"
   ]
  },
  {
   "cell_type": "markdown",
   "id": "61b5a9fa",
   "metadata": {},
   "source": [
    " change attribute value with the help of 2nd object"
   ]
  },
  {
   "cell_type": "markdown",
   "id": "5b508afe",
   "metadata": {},
   "source": [
    "# Pass by reference\n",
    "\n",
    "Pass by reference means that you have to pass the function(reference) to a variable which refers that the variable already exists in memory. \n",
    "\n",
    "Here, the variable is passed into the function directly. The variable acts as a Package that comes with its contents(the objects)."
   ]
  },
  {
   "cell_type": "code",
   "execution_count": 54,
   "id": "53932654",
   "metadata": {},
   "outputs": [
    {
     "name": "stdout",
     "output_type": "stream",
     "text": [
      "Hi my name is SURJAYAN and I am a male\n"
     ]
    }
   ],
   "source": [
    "#here I give the object as an input to the funtion\n",
    "\n",
    "class Person:\n",
    "\n",
    "  def __init__(self,name,gender):\n",
    "    self.name = name\n",
    "    self.gender = gender\n",
    "\n",
    "# outside the class -> function\n",
    "def greet(person):\n",
    "  print('Hi my name is',person.name,'and I am a',person.gender)\n",
    "  \n",
    "p = Person('SURJAYAN','male')\n",
    "greet(p)"
   ]
  },
  {
   "cell_type": "code",
   "execution_count": 55,
   "id": "b9b05f56",
   "metadata": {},
   "outputs": [
    {
     "name": "stdout",
     "output_type": "stream",
     "text": [
      "Hi my name is nitish and I am a male\n",
      "ankit\n",
      "male\n"
     ]
    }
   ],
   "source": [
    "class Human:\n",
    "\n",
    "  def __init__(self,name,gender):\n",
    "    self.name = name\n",
    "    self.gender = gender\n",
    "\n",
    "# outside the class -> function\n",
    "def greet(person):\n",
    "  print('Hi my name is',person.name,'and I am a',person.gender)\n",
    "  p1 = Human('ankit','male')\n",
    "  return p1\n",
    "\n",
    "p = Human('nitish','male')\n",
    "x = greet(p)\n",
    "print(x.name)\n",
    "print(x.gender)"
   ]
  },
  {
   "cell_type": "code",
   "execution_count": 57,
   "id": "5ccf4f2e",
   "metadata": {},
   "outputs": [
    {
     "name": "stdout",
     "output_type": "stream",
     "text": [
      "2035237872464\n",
      "2035237872464\n",
      "Robert\n",
      "Robert\n"
     ]
    }
   ],
   "source": [
    "#whenever you pass an object to the function as input , techniqualy you send the address/reference of the object.\n",
    "\n",
    "class Person:\n",
    "\n",
    "  def __init__(self,name,gender):\n",
    "    self.name = name\n",
    "    self.gender = gender\n",
    "\n",
    "# outside the class -> function\n",
    "def greet(person):\n",
    "  print(id(person))\n",
    "  person.name = 'Robert'\n",
    "  print(person.name)\n",
    "\n",
    "p = Person('nitish','male')\n",
    "print(id(p))\n",
    "greet(p)\n",
    "print(p.name)"
   ]
  },
  {
   "cell_type": "markdown",
   "id": "1a69f7a0",
   "metadata": {},
   "source": [
    "# Object Mutability\n",
    "\n",
    "Mutable objects in Python enable the programmers to have objects that can change their values. They generally are utilized to store a collection of data. It can be regarded as something that has mutated, and the internal state applicable within an object has changed.\n",
    "\n",
    "Immutable objects in Python can be defined as objects that do not change their values and attributes over time.\n",
    "These objects become permanent once created and initialized, and they form a critical part of data structures used in Python.\n",
    "\n",
    "Python is used in numbers, tuples, strings, frozen sets, and user-defined classes with some exceptions. They cannot change, and their values and it remains permanent once they are initialized and hence called immutable."
   ]
  },
  {
   "cell_type": "code",
   "execution_count": 58,
   "id": "821a5f7a",
   "metadata": {},
   "outputs": [
    {
     "name": "stdout",
     "output_type": "stream",
     "text": [
      "2035237875600\n",
      "2035237875600\n"
     ]
    }
   ],
   "source": [
    "class Person:\n",
    "\n",
    "  def __init__(self,name,gender):\n",
    "    self.name = name\n",
    "    self.gender = gender\n",
    "\n",
    "# outside the class -> function\n",
    "def greet(person):\n",
    "  person.name = 'ankit'\n",
    "  return person\n",
    "\n",
    "p = Person('nitish','male')\n",
    "print(id(p))\n",
    "p1 = greet(p)\n",
    "print(id(p1))"
   ]
  },
  {
   "cell_type": "code",
   "execution_count": null,
   "id": "c0571160",
   "metadata": {},
   "outputs": [],
   "source": []
  }
 ],
 "metadata": {
  "kernelspec": {
   "display_name": "Python 3 (ipykernel)",
   "language": "python",
   "name": "python3"
  },
  "language_info": {
   "codemirror_mode": {
    "name": "ipython",
    "version": 3
   },
   "file_extension": ".py",
   "mimetype": "text/x-python",
   "name": "python",
   "nbconvert_exporter": "python",
   "pygments_lexer": "ipython3",
   "version": "3.11.3"
  }
 },
 "nbformat": 4,
 "nbformat_minor": 5
}
