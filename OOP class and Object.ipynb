{
 "cells": [
  {
   "cell_type": "markdown",
   "id": "46ad7848",
   "metadata": {},
   "source": [
    "# Object Oriented Programming\n",
    "\n",
    "OBSERVATION\n",
    "\n",
    "Everything in python is an OBJECT.\n",
    "\n",
    "OOP(Object Oriented Programming): the main of power of OOP is ,it gives a programmer,the power to create his own datatypes.\n",
    "\n",
    "CLASS is a Blueprint. Class is made of Data/Property and Functions/behavior.\n",
    "OBJECT is an instance of the CLASS.\n",
    "\n",
    "Car---maruti // maruti=Car()\n",
    "animals--Dog // Dog=animals()"
   ]
  },
  {
   "cell_type": "code",
   "execution_count": 9,
   "id": "0c8372d2",
   "metadata": {},
   "outputs": [
    {
     "name": "stdout",
     "output_type": "stream",
     "text": [
      "<class 'list'>\n"
     ]
    }
   ],
   "source": [
    "L=[1,2,3]\n",
    "print(type(L))"
   ]
  },
  {
   "cell_type": "code",
   "execution_count": 10,
   "id": "0aced6f5",
   "metadata": {},
   "outputs": [],
   "source": [
    "#syntax to create an objet\n",
    "#objectname=classname()\n",
    "\n",
    "L=[1,2,3,4]"
   ]
  },
  {
   "cell_type": "code",
   "execution_count": 11,
   "id": "bcc5613e",
   "metadata": {},
   "outputs": [
    {
     "data": {
      "text/plain": [
       "[]"
      ]
     },
     "execution_count": 11,
     "metadata": {},
     "output_type": "execute_result"
    }
   ],
   "source": [
    "L=list()\n",
    "L\n"
   ]
  },
  {
   "cell_type": "code",
   "execution_count": 12,
   "id": "666c28b9",
   "metadata": {},
   "outputs": [
    {
     "data": {
      "text/plain": [
       "''"
      ]
     },
     "execution_count": 12,
     "metadata": {},
     "output_type": "execute_result"
    }
   ],
   "source": [
    "s=str()\n",
    "s"
   ]
  },
  {
   "cell_type": "code",
   "execution_count": 13,
   "id": "e0c0b1d6",
   "metadata": {},
   "outputs": [],
   "source": [
    "class ATM:\n",
    "    \n",
    "    #constructor:it is executed automatically\n",
    "    def __init__(self):\n",
    "        self.pin=''\n",
    "        self.balance=0\n",
    "        self.menu()\n",
    "        \n",
    "        \n",
    "    def menu(self):\n",
    "        user_input= input(\"\"\"\n",
    "        Hi, how can I help you?\n",
    "        1.Press 1 to create PIN\n",
    "        2.Press 2 to change PIN \n",
    "        3.Press 3 to check balance\n",
    "        4.Press 4 to withdraw\n",
    "        5.Anything else to exit\n",
    "        \n",
    "        \"\"\")\n",
    "        \n",
    "        if user_input =='1':\n",
    "            #create pin\n",
    "            self.create_pin()\n",
    "            \n",
    "        elif user_input =='2':\n",
    "            #change pin\n",
    "            self.change_pin()\n",
    "            \n",
    "        elif user_input =='3':\n",
    "            #check balance\n",
    "            self.check_balance()\n",
    "        \n",
    "        elif user_input =='4':\n",
    "            #withdraw\n",
    "            self.withdraw()\n",
    "        else:\n",
    "            print(\"Thankyou for Using our ATM\")\n",
    "            return\n",
    "    \n",
    "    \n",
    "    def create_pin(self):\n",
    "        user_pin=input('enter your pin')\n",
    "        self.pin=user_pin\n",
    "        \n",
    "        user_balance=int(input('enter balance'))\n",
    "        self.balance=user_balance\n",
    "        \n",
    "        print('PIN created successfully')\n",
    "        self.menu()\n",
    "    \n",
    "    def change_pin(self):\n",
    "        old_pin= input('enter old pin')\n",
    "        \n",
    "        if old_pin == self.pin:\n",
    "            #let him change the pin\n",
    "            new_pin= input('enter new pin')\n",
    "            self.pin= new_pin\n",
    "            print('pin change successful')\n",
    "            self.menu()\n",
    "            \n",
    "        else:\n",
    "            print(\"can't change the PIN\")\n",
    "            self.menu()\n",
    "            \n",
    "    def check_balance(self):\n",
    "        user_pin = input('enter your pin')\n",
    "        if user_pin == self.pin:\n",
    "          print('your balance is ',self.balance)\n",
    "        else:\n",
    "          print('get lost')\n",
    "        self.menu()\n",
    "\n",
    "    def withdraw(self):\n",
    "        user_pin = input('enter the pin')\n",
    "        if user_pin == self.pin:\n",
    "          # allow to withdraw\n",
    "            amount = int(input('enter the amount'))\n",
    "            if amount <= self.balance:\n",
    "                self.balance = self.balance - amount\n",
    "                print('withdrawl successful.balance is',self.balance)\n",
    "            else:\n",
    "                print('poor fellow')\n",
    "        else:\n",
    "                print('get lost')\n",
    "        self.menu()"
   ]
  },
  {
   "cell_type": "code",
   "execution_count": 14,
   "id": "af8f8cc8",
   "metadata": {},
   "outputs": [
    {
     "name": "stdout",
     "output_type": "stream",
     "text": [
      "\n",
      "        Hi, how can I help you?\n",
      "        1.Press 1 to create PIN\n",
      "        2.Press 2 to change PIN \n",
      "        3.Press 3 to check balance\n",
      "        4.Press 4 to withdraw\n",
      "        5.Anything else to exit\n",
      "        \n",
      "        5\n",
      "Thankyou for Using our ATM\n"
     ]
    }
   ],
   "source": [
    "obj=ATM()"
   ]
  },
  {
   "cell_type": "code",
   "execution_count": 15,
   "id": "4f332476",
   "metadata": {},
   "outputs": [],
   "source": [
    "L=[1,2,3]\n",
    "len(L)          #this is function, because it is outside the list class\n",
    "L.append(4)     #this is method, because it is inside the list class"
   ]
  },
  {
   "cell_type": "code",
   "execution_count": 16,
   "id": "2e8a297f",
   "metadata": {},
   "outputs": [
    {
     "data": {
      "text/plain": [
       "[1, 2, 3, 4]"
      ]
     },
     "execution_count": 16,
     "metadata": {},
     "output_type": "execute_result"
    }
   ],
   "source": [
    "L"
   ]
  },
  {
   "cell_type": "markdown",
   "id": "091583fe",
   "metadata": {},
   "source": [
    "Class Diagrams\n",
    "\n",
    "\n",
    "The two major types of relationships between classes are association and inheritance. The Unified Modeling Language (UML) is a graphical notation that provides a standard for depicting classes and the relationships between them. It gives software engineers a way to record both their proposed designs, as well as the design of the final product. Put another way, UML provides the notation for constructing blueprints for software, and since it is widely used in both industry and academia, it is important for you to have some familiarity with it.\n",
    "\n",
    "UML defines notations for several different kinds of diagrams. Here, we will introduce class diagrams, one of the most common UML diagrams. Class diagrams can contain a number of different elements, but we will focus on the basics: showing classes with their instance variables and methods, and the relationships between classes.\n",
    "\n",
    "On a UML class diagram, a class is depicted as a rectangle with three sections. The top section contains the class name; the middle section, the instance variables (attributes); and the bottom section, the methods (behaviors). \n"
   ]
  },
  {
   "cell_type": "markdown",
   "id": "e1c576cb",
   "metadata": {},
   "source": [
    "# MAGIC methods / DUNDER methods \n",
    "\n",
    "Dunder or magic methods in Python are the methods having two prefix and suffix underscores in the method name. Dunder here means “Double Under (Underscores)”. "
   ]
  },
  {
   "cell_type": "code",
   "execution_count": 18,
   "id": "c62601df",
   "metadata": {},
   "outputs": [],
   "source": [
    "#These are commonly used for operator overloading. \n",
    "#Few examples for magic methods are: __init__, __add__, __len__, __repr__ etc.\n",
    "\n",
    "#The __init__ method for initialization is invoked without any call, when an instance of a class is created, like constructors"
   ]
  },
  {
   "cell_type": "markdown",
   "id": "a1a3896e",
   "metadata": {},
   "source": [
    "self represents the instance of the class. By using the “self”  we can access the attributes and methods of the class in python. It binds the attributes with the given arguments.\n",
    "The reason you need to use self. is because Python does not use the @ syntax to refer to instance attributes. Python decided to do methods in a way that makes the instance to which the method belongs be passed automatically, but not received automatically: the first parameter of methods is the instance the method is called on."
   ]
  },
  {
   "cell_type": "code",
   "execution_count": 19,
   "id": "a08c0eec",
   "metadata": {},
   "outputs": [
    {
     "name": "stdout",
     "output_type": "stream",
     "text": [
      "Address of self =  2811221907024\n",
      "Address of class object =  2811221907024\n"
     ]
    }
   ],
   "source": [
    "class check:\n",
    "    def __init__(self):\n",
    "        print(\"Address of self = \",id(self))\n",
    "  \n",
    "obj = check()\n",
    "print(\"Address of class object = \",id(obj))\n",
    "  "
   ]
  },
  {
   "cell_type": "markdown",
   "id": "ea544e38",
   "metadata": {},
   "source": [
    "self and Object are pointing to the same memory allocation .\n",
    "SELF is the current OBJECT itself.\n",
    "to do the Intra-class communication, we need the help of self.\n",
    "\n",
    "Self is the first argument to be passed in Constructor and Instance Method.If you don’t provide it, it will cause an error.\n",
    "\n",
    "\n",
    "\n",
    "# Parameterized Constructor\n",
    "A constructor with a Parameter is called Parameterized constructor in Python. Parameters could be one, two, or more.We can pass the values (data) during object creation. It will set custom values for instance variables.\n",
    "\n",
    "# Default constructor\n",
    "The Python default constructor is a simple constructor which doesn’t accept any arguments. Its definition has only one argument which is a reference to the instance being constructed.\n",
    "\n",
    "\n",
    "\n",
    "\n",
    "The __ __str__ __() method returns a human-readable, or informal, string representation of an object. This method is called by the built-in print(), str(), and format() functions. If you don’t define a __ __str__ __() method for a class, then the built-in object implementation calls the __ __repr__ __ () method instead.\n",
    "\n",
    "The __ __repr__ __ () method returns a more information-rich, or official, string representation of an object. This method is called by the built-in repr() function. If possible, the string returned should be a valid Python expression that can be used to recreate the object. In all cases, the string should be informative and unambiguous.\n",
    "\n",
    "Python __ __add__ __ () function is one of the magic methods in Python that returns a new object(third) i.e. the addition of the other two objects. It implements the addition operator “+” in Python."
   ]
  },
  {
   "cell_type": "code",
   "execution_count": 38,
   "id": "6cee05cd",
   "metadata": {},
   "outputs": [],
   "source": [
    "#we are going to create our own first DATATYPE\n",
    "\n",
    "class Fraction:\n",
    "\n",
    "    #parameterized constructor\n",
    "    def __init__ (self,x,y):\n",
    "        self.num = x    #num=numerater, den=denominator\n",
    "        self.den = y\n",
    "        \n",
    "    def __str__ (self):\n",
    "        return'{}/{}'.format(self.num, self.den)\n",
    "    \n",
    "    def __add__ (self,other):\n",
    "        new_num = self.num*other.den + other.num*self.den\n",
    "        new_den=self.den*other.den\n",
    "        \n",
    "        return'{}/{}'.format(new_num, new_den)\n",
    "    \n",
    "    def __sub__ (self,other):\n",
    "        new_num = self.num*other.den - other.num*self.den\n",
    "        new_den=self.den*other.den\n",
    "        \n",
    "        return'{}/{}'.format(new_num, new_den)\n",
    "    \n",
    "    def __mul__ (self,other):\n",
    "        new_num = self.num*other.num\n",
    "        new_den=self.den*other.den\n",
    "        \n",
    "        return'{}/{}'.format(new_num, new_den)\n",
    "    \n",
    "    def __truediv__ (self,other):\n",
    "        new_num = self.num*other.den\n",
    "        new_den=self.den*other.num\n",
    "        \n",
    "        return'{}/{}'.format(new_num, new_den)\n",
    "    \n",
    "    def convert_to_decimal(self):\n",
    "        return self.num/self.den\n",
    "    \n",
    "    \n"
   ]
  },
  {
   "cell_type": "code",
   "execution_count": 39,
   "id": "b281fa85",
   "metadata": {},
   "outputs": [],
   "source": [
    "fr1 = Fraction(3,4)\n",
    "fr2 = Fraction(1,2)"
   ]
  },
  {
   "cell_type": "code",
   "execution_count": 40,
   "id": "28393898",
   "metadata": {},
   "outputs": [
    {
     "name": "stdout",
     "output_type": "stream",
     "text": [
      "3/4\n"
     ]
    }
   ],
   "source": [
    "print(fr1)"
   ]
  },
  {
   "cell_type": "code",
   "execution_count": 41,
   "id": "f1a3c3b3",
   "metadata": {},
   "outputs": [
    {
     "name": "stdout",
     "output_type": "stream",
     "text": [
      "1/2\n"
     ]
    }
   ],
   "source": [
    "print(fr2)"
   ]
  },
  {
   "cell_type": "code",
   "execution_count": 42,
   "id": "700cbb93",
   "metadata": {},
   "outputs": [
    {
     "name": "stdout",
     "output_type": "stream",
     "text": [
      "10/8\n"
     ]
    }
   ],
   "source": [
    "print(fr1 + fr2)"
   ]
  },
  {
   "cell_type": "code",
   "execution_count": 43,
   "id": "ed1f296f",
   "metadata": {},
   "outputs": [
    {
     "name": "stdout",
     "output_type": "stream",
     "text": [
      "2/8\n"
     ]
    }
   ],
   "source": [
    "print(fr1-fr2)"
   ]
  },
  {
   "cell_type": "code",
   "execution_count": 44,
   "id": "0d4633ce",
   "metadata": {},
   "outputs": [
    {
     "name": "stdout",
     "output_type": "stream",
     "text": [
      "3/8\n"
     ]
    }
   ],
   "source": [
    "print(fr1*fr2)"
   ]
  },
  {
   "cell_type": "code",
   "execution_count": 45,
   "id": "3b194569",
   "metadata": {},
   "outputs": [
    {
     "name": "stdout",
     "output_type": "stream",
     "text": [
      "6/4\n"
     ]
    }
   ],
   "source": [
    "print(fr1/fr2)"
   ]
  },
  {
   "cell_type": "code",
   "execution_count": 46,
   "id": "edb1bf33",
   "metadata": {},
   "outputs": [
    {
     "data": {
      "text/plain": [
       "0.75"
      ]
     },
     "execution_count": 46,
     "metadata": {},
     "output_type": "execute_result"
    }
   ],
   "source": [
    "fr1.convert_to_decimal()"
   ]
  },
  {
   "cell_type": "code",
   "execution_count": null,
   "id": "75fc4f54",
   "metadata": {},
   "outputs": [],
   "source": []
  }
 ],
 "metadata": {
  "kernelspec": {
   "display_name": "Python 3 (ipykernel)",
   "language": "python",
   "name": "python3"
  },
  "language_info": {
   "codemirror_mode": {
    "name": "ipython",
    "version": 3
   },
   "file_extension": ".py",
   "mimetype": "text/x-python",
   "name": "python",
   "nbconvert_exporter": "python",
   "pygments_lexer": "ipython3",
   "version": "3.11.3"
  }
 },
 "nbformat": 4,
 "nbformat_minor": 5
}
